{
 "cells": [
  {
   "cell_type": "markdown",
   "metadata": {
    "toc-hr-collapsed": false
   },
   "source": [
    "# 1 関数の基礎"
   ]
  },
  {
   "cell_type": "markdown",
   "metadata": {
    "toc-hr-collapsed": false
   },
   "source": [
    "## 関数定義"
   ]
  },
  {
   "cell_type": "markdown",
   "metadata": {},
   "source": [
    "### 概要"
   ]
  },
  {
   "cell_type": "markdown",
   "metadata": {},
   "source": [
    "- 関数とは、ある一連の処理をまとめて再利用可能にしたもの\n",
    "- 関数を定義することで同じ処理をまとめることができる(冗長性の排除)\n",
    "- 関数を活用することでローカルスコープでの処理を促進できる（グローバルスコープの汚染排除）\n",
    "- 処理を関数に落とし込んでいくことで、効率的な並列処理の実現にもつながる(並列化の促進)"
   ]
  },
  {
   "cell_type": "markdown",
   "metadata": {},
   "source": [
    "### 引数と戻り値"
   ]
  },
  {
   "cell_type": "markdown",
   "metadata": {},
   "source": [
    "- 関数の主な1つの区分として｢引数の有無｣｢戻り値の有無｣の４パターンがある\n",
    "- ｢引数｣は関数定義の際に設定する\n",
    "- ｢戻り値｣は関数の最後にreturnステートメントを書くことで設定する"
   ]
  },
  {
   "cell_type": "code",
   "execution_count": 3,
   "metadata": {},
   "outputs": [
    {
     "name": "stdout",
     "output_type": "stream",
     "text": [
      "blue\n"
     ]
    }
   ],
   "source": [
    "# **** パターン１：引数：有 / 戻り値：無 ****\n",
    "\n",
    "# 関数定義\n",
    "def say_something(color):\n",
    "    print(color)\n",
    "    \n",
    "# 関数実行\n",
    "say_something('blue')\n"
   ]
  },
  {
   "cell_type": "code",
   "execution_count": 1,
   "metadata": {},
   "outputs": [
    {
     "name": "stdout",
     "output_type": "stream",
     "text": [
      "5と1の合計は6です。\n",
      "3と5の合計は8です。\n",
      "6と2の合計は8です。\n",
      "4と3の合計は7です。\n",
      "4と3の合計は7です。\n"
     ]
    }
   ],
   "source": [
    "# **** パターン２：引数：無 / 戻り値：有 ****\n",
    "\n",
    "from random import randint\n",
    "\n",
    "# 関数定義\n",
    "# --- サイコロを振る関数\n",
    "def dice():\n",
    "    return randint(1, 6)\n",
    "\n",
    "# 関数実行\n",
    "# --- dice()を5回呼び出す\n",
    "for i in range(5):\n",
    "    dice1 = dice()\n",
    "    dice2 = dice()\n",
    "    total = dice1 + dice2\n",
    "    print(f\"{dice1}と{dice2}の合計は{total}です。\")\n",
    "    "
   ]
  },
  {
   "cell_type": "code",
   "execution_count": 4,
   "metadata": {},
   "outputs": [
    {
     "name": "stdout",
     "output_type": "stream",
     "text": [
      "底辺(15) * 高さ(13) / 2 = 面積(97.5)\n"
     ]
    }
   ],
   "source": [
    "# **** パターン３：引数：有 / 戻り値：有 ****\n",
    "\n",
    "# 関数定義\n",
    "def triangle(base, height):\n",
    "    return base * height / 2\n",
    "\n",
    "# 実行\n",
    "b = 15\n",
    "h = 13\n",
    "v = triangle(b, h)\n",
    "print(f\"底辺({b}) * 高さ({h}) / 2 = 面積({v:.1f})\")\n"
   ]
  },
  {
   "cell_type": "code",
   "execution_count": 6,
   "metadata": {},
   "outputs": [
    {
     "name": "stdout",
     "output_type": "stream",
     "text": [
      "5と2の合計は7：奇数\n",
      "5と4の合計は9：奇数\n",
      "2と4の合計は6：偶数\n",
      "4と3の合計は7：奇数\n",
      "3と4の合計は7：奇数\n"
     ]
    }
   ],
   "source": [
    "# **** パターン４：引数：無 / 戻り値：無 ****\n",
    "\n",
    "from random import randint\n",
    "\n",
    "# サイコロを定義する\n",
    "# --- 戻り値あり\n",
    "def dice():\n",
    "    return randint(1, 6)\n",
    "\n",
    "# 2個のサイコロを振るゲーム\n",
    "# --- 戻り値なし\n",
    "def dice_game():\n",
    "    dice1 = dice()\n",
    "    dice2 = dice()\n",
    "    total = dice1 + dice2\n",
    "    if total % 2 == 0:\n",
    "        print(f\"{dice1}と{dice2}の合計は{total}：偶数\")\n",
    "    else:\n",
    "        print(f\"{dice1}と{dice2}の合計は{total}：奇数\")\n",
    "        \n",
    "# ゲームを5回行う\n",
    "for i in range(5):\n",
    "    dice_game()"
   ]
  },
  {
   "cell_type": "markdown",
   "metadata": {},
   "source": [
    "### 処理がない関数"
   ]
  },
  {
   "cell_type": "markdown",
   "metadata": {},
   "source": [
    "- 関数には最低1行のステートメントがないと定義できない\n",
    "- とりあえず関数だけを作成しておく場合には｢pass｣と記述しておく\n",
    "- 戻り値も処理もないので実行しても何も起きない"
   ]
  },
  {
   "cell_type": "code",
   "execution_count": 7,
   "metadata": {},
   "outputs": [],
   "source": [
    "# **** 処理がない関数 ****\n",
    "\n",
    "\n",
    "# 関数定義\n",
    "def do_nothing():\n",
    "    pass\n",
    "\n",
    "# 実行\n",
    "do_nothing()\n"
   ]
  },
  {
   "cell_type": "markdown",
   "metadata": {},
   "source": [
    "### docstringの記述"
   ]
  },
  {
   "cell_type": "markdown",
   "metadata": {},
   "source": [
    "- ｢docstring｣とは関数の説明(引数/戻り値など)のコメントのこと\n",
    "- コメントはトリプルクオテーション(\"\"\" \"\"\")で行う\n",
    "- Pycharmの場合は関数内でトリプルクオテーションを書くと、以下のようなフォーマットが自動表示される\n",
    "- ｢docstring｣を記述しておくとヘルプに説明を表示させることができる"
   ]
  },
  {
   "cell_type": "code",
   "execution_count": 14,
   "metadata": {},
   "outputs": [
    {
     "name": "stdout",
     "output_type": "stream",
     "text": [
      "ans = 3\n",
      "Help on function exsample_docstring in module __main__:\n",
      "\n",
      "exsample_docstring(param1, param2)\n",
      "    Exsample of Docstring\n",
      "    :param param1: Value1 \n",
      "    :param param2: Value2\n",
      "    :return: total\n",
      "\n"
     ]
    }
   ],
   "source": [
    "# 関数定義\n",
    "def exsample_docstring(param1, param2):\n",
    "    \"\"\"\n",
    "    Exsample of Docstring\n",
    "    :param param1: Value1 \n",
    "    :param param2: Value2\n",
    "    :return: total\n",
    "    \"\"\"\n",
    "    return param1 + param2\n",
    "\n",
    "\n",
    "# 関数実行\n",
    "ans = exsample_docstring(param1=1, param2=2)\n",
    "print(\"ans =\", ans)\n",
    "help(exsample_docstring)"
   ]
  },
  {
   "cell_type": "markdown",
   "metadata": {
    "toc-hr-collapsed": true
   },
   "source": [
    "## 再帰関数"
   ]
  },
  {
   "cell_type": "markdown",
   "metadata": {},
   "source": [
    "### 再帰とは"
   ]
  },
  {
   "cell_type": "markdown",
   "metadata": {},
   "source": [
    "- ｢再帰関数｣とは、当該関数の中で当該関数を呼び出す関数のことをいう\n",
    "- ｢収束演算｣などのアルゴリズムで利用される（再帰の存在を知っておく程度で十分）\n",
    "- 無限ループの要素を持つので｢if文+return｣とセットにするのがセオリー"
   ]
  },
  {
   "cell_type": "code",
   "execution_count": 15,
   "metadata": {},
   "outputs": [
    {
     "name": "stdout",
     "output_type": "stream",
     "text": [
      "5\n",
      "4\n",
      "3\n",
      "2\n",
      "1\n",
      "0\n"
     ]
    }
   ],
   "source": [
    "# **** 再帰とは ****\n",
    "\n",
    "# 関数定義\n",
    "# --- sample()を再帰させる\n",
    "def sample(a):\n",
    "    if a < 0:\n",
    "        return None\n",
    "    else:\n",
    "        print(a)\n",
    "        sample(a-1)\n",
    "\n",
    "# 実行\n",
    "sample(5)\n"
   ]
  },
  {
   "cell_type": "markdown",
   "metadata": {},
   "source": [
    "### フェボナッチ数列"
   ]
  },
  {
   "cell_type": "markdown",
   "metadata": {},
   "source": [
    "- 再帰の活用例として｢フェボナッチ数列｣が挙げられる"
   ]
  },
  {
   "cell_type": "code",
   "execution_count": 20,
   "metadata": {},
   "outputs": [
    {
     "name": "stdout",
     "output_type": "stream",
     "text": [
      "1\n",
      "1\n",
      "1\n",
      "2\n",
      "3\n",
      "5\n",
      "8\n",
      "13\n",
      "21\n",
      "34\n"
     ]
    }
   ],
   "source": [
    "# **** 再帰の活用例：フェボナッチ数列とは ****\n",
    "\n",
    "# 関数定義\n",
    "# --- fib()を再帰させる\n",
    "def fib(n):\n",
    "    if n < 3:\n",
    "        return 1\n",
    "    else:\n",
    "        return fib(n-1) + fib(n-2)\n",
    "        \n",
    "for x in range(10):\n",
    "    print(fib(x))\n",
    "    "
   ]
  },
  {
   "cell_type": "code",
   "execution_count": null,
   "metadata": {},
   "outputs": [],
   "source": []
  },
  {
   "cell_type": "markdown",
   "metadata": {
    "toc-hr-collapsed": true
   },
   "source": [
    "# 2 関数の引数"
   ]
  },
  {
   "cell_type": "markdown",
   "metadata": {
    "toc-hr-collapsed": true
   },
   "source": [
    "## 実行側の指定方法"
   ]
  },
  {
   "cell_type": "markdown",
   "metadata": {},
   "source": [
    "### 位置引数"
   ]
  },
  {
   "cell_type": "markdown",
   "metadata": {},
   "source": [
    "- ｢位置引数｣とは、関数で定義した引数順序に合わせて引数入力をする方法をいう\n",
    "- 引数の順序依存性はあるものの、引数の記述が簡素化になるメリットがある"
   ]
  },
  {
   "cell_type": "code",
   "execution_count": 2,
   "metadata": {},
   "outputs": [
    {
     "name": "stdout",
     "output_type": "stream",
     "text": [
      "result =  2200\n"
     ]
    }
   ],
   "source": [
    "# **** 位置引数 ****\n",
    "\n",
    "# 関数定義\n",
    "def price(adult, child) :\n",
    "    return (adult * 1200) + (child * 500)\n",
    "\n",
    "# 実行\n",
    "# --- 引数の位置に合わせて設定\n",
    "result = price(1, 2)\n",
    "\n",
    "# 確認\n",
    "print('result = ', result)"
   ]
  },
  {
   "cell_type": "markdown",
   "metadata": {},
   "source": [
    "### キーワード引数"
   ]
  },
  {
   "cell_type": "markdown",
   "metadata": {},
   "source": [
    "- ｢キーワード引数｣とは、関数の実行側で引数を指定する際に、引数名を付けて引数を指定する方法をいう\n",
    "- キーワード引数で指定すると、関数の定義側との順番依存を回避することができる"
   ]
  },
  {
   "cell_type": "code",
   "execution_count": 1,
   "metadata": {},
   "outputs": [
    {
     "name": "stdout",
     "output_type": "stream",
     "text": [
      "result =  2200\n"
     ]
    }
   ],
   "source": [
    "# **** キーワード引数 ****\n",
    "\n",
    "\n",
    "# 関数定義\n",
    "def price(adult, child):\n",
    "    return (adult * 1200) + (child * 500)\n",
    "\n",
    "\n",
    "# 実行\n",
    "# --- キーワード引数にすると、引数の順番に依存しない\n",
    "result = price(adult=1, child=2)\n",
    "\n",
    "# 確認\n",
    "print('result = ', result)"
   ]
  },
  {
   "cell_type": "markdown",
   "metadata": {
    "toc-hr-collapsed": true
   },
   "source": [
    "## 定義側の指定方法"
   ]
  },
  {
   "cell_type": "markdown",
   "metadata": {},
   "source": [
    "### デフォルト引数"
   ]
  },
  {
   "cell_type": "markdown",
   "metadata": {},
   "source": [
    "- 引数に初期値を与えることで引数の省略が可能となる\n",
    "- 複数の引数がある際には途中の引数は両略できない(最後の引数のみ両略可能)\n",
    "- 位置引数の場合は明確に位置が決定できる場合のみ省略可能"
   ]
  },
  {
   "cell_type": "code",
   "execution_count": 16,
   "metadata": {},
   "outputs": [
    {
     "name": "stdout",
     "output_type": "stream",
     "text": [
      "Sサイズ、2個、240円\n",
      "Mサイズ、6個、900円\n"
     ]
    }
   ],
   "source": [
    "# **** デフォルト引数 ****\n",
    "\n",
    "# 関数定義\n",
    "# --- numにデフォルト引数を指定\n",
    "def calc(size, num=6):\n",
    "    unit_price = {\"S\": 120, \"M\": 150, \"L\": 180}\n",
    "    price = unit_price[size] * num\n",
    "    return size, num, price\n",
    "\n",
    "\n",
    "# 実行１：引数を与える\n",
    "a = calc(size=\"S\", num=2)\n",
    "print(f\"{a[0]}サイズ、{a[1]}個、{a[2]}円\")\n",
    "\n",
    "\n",
    "# 実行2：デフォルト引数を活用\n",
    "b = calc(size=\"M\")\n",
    "print(f\"{b[0]}サイズ、{b[1]}個、{b[2]}円\")\n"
   ]
  },
  {
   "cell_type": "markdown",
   "metadata": {},
   "source": [
    "### デフォルト引数の注意点"
   ]
  },
  {
   "cell_type": "markdown",
   "metadata": {},
   "source": [
    "- リストは参照渡しで定義されるので、1回目に作成したものが残ってしまう\n",
    "- Pythonでは｢空リストを引数として与えてはいけない｣とされている\n",
    "- 関数内で空のリストを使いたい場合、関数内でリストを毎回初期化する必要がある"
   ]
  },
  {
   "cell_type": "code",
   "execution_count": 202,
   "metadata": {},
   "outputs": [
    {
     "name": "stdout",
     "output_type": "stream",
     "text": [
      "1回目： [1, 2, 3, 100]\n",
      "2回目： [1, 2, 3, 200]\n",
      "1回目： [100]\n",
      "2回目： [100, 200]\n"
     ]
    }
   ],
   "source": [
    "# **** デフォルト引数に空リストを与えるとバグの温床になる ****\n",
    "\n",
    "\n",
    "# 関数定義\n",
    "# --- 元のリスト(y)に新しい要素(x)を追加する\n",
    "def test_func(x, l=[]):\n",
    "    l.append(x)\n",
    "    return l\n",
    "\n",
    "\n",
    "# ---- yを与える場合：正常動作 -----\n",
    "\n",
    "# 実行：1回目\n",
    "x = 100\n",
    "y = [1, 2, 3]\n",
    "result = test_func(x, y)\n",
    "print('1回目：', result)\n",
    "\n",
    "# 実行：2回目\n",
    "x = 200\n",
    "y = [1, 2, 3]\n",
    "result = test_func(x, y)\n",
    "print('2回目：', result)\n",
    "\n",
    "\n",
    "# ---- yを省略する場合：誤動作 -----\n",
    "\n",
    "# 実行：1回目\n",
    "x = 100\n",
    "result = test_func(x)\n",
    "print('1回目：', result)\n",
    "\n",
    "# 実行：2回目\n",
    "x = 200\n",
    "result = test_func(x)\n",
    "print('2回目：', result)"
   ]
  },
  {
   "cell_type": "code",
   "execution_count": 3,
   "metadata": {},
   "outputs": [
    {
     "name": "stdout",
     "output_type": "stream",
     "text": [
      "1回目： [1, 2, 3, 100]\n",
      "2回目： [1, 2, 3, 200]\n"
     ]
    }
   ],
   "source": [
    "# **** ソリューション：関数内でリストを毎回生成する ****\n",
    "\n",
    "# 関数定義\n",
    "# --- 元のリスト(y)に新しい要素(x)を追加する\n",
    "def test_func(x, l=None):\n",
    "    if l is None:\n",
    "        l = []\n",
    "    l.append(x)\n",
    "    return l\n",
    "\n",
    "\n",
    "# ---- yを省略する場合：正常動作 -----\n",
    "\n",
    "# 実行：1回目\n",
    "x = 100\n",
    "y = [1, 2, 3]\n",
    "result = test_func(x, y)\n",
    "print('1回目：', result)\n",
    "\n",
    "# 実行：2回目\n",
    "x = 200\n",
    "y = [1, 2, 3]\n",
    "result = test_func(x, y)\n",
    "print('2回目：', result)"
   ]
  },
  {
   "cell_type": "markdown",
   "metadata": {},
   "source": [
    "### 引数をまとめる"
   ]
  },
  {
   "cell_type": "markdown",
   "metadata": {},
   "source": [
    "- 引数が多い場合は｢タプル｣にまとめて関数に渡す方法が有効である\n",
    "- 関数の中でタプル内の要素を参照することで引数の各要素にアクセスすることができる\n",
    "- 固定長引数なので、可変長引数のように引数に｢*｣をつける必要はない"
   ]
  },
  {
   "cell_type": "code",
   "execution_count": 204,
   "metadata": {},
   "outputs": [
    {
     "name": "stdout",
     "output_type": "stream",
     "text": [
      "info_db[0] =  SQL Server\n",
      "info_db[1] =  MySql\n",
      "info_db[2] =  Red Shft\n",
      "info_path[1] =  a\n",
      "info_path[2] =  b\n",
      "info_path[3] =  c\n"
     ]
    }
   ],
   "source": [
    "# 関数定義\n",
    "def calc(info_db, info_path):\n",
    "    print('info_db[0] = ', info_db[0])\n",
    "    print('info_db[1] = ', info_db[1])\n",
    "    print('info_db[2] = ', info_db[2])\n",
    "    print('info_path[1] = ', info_path[0])\n",
    "    print('info_path[2] = ', info_path[1])\n",
    "    print('info_path[3] = ', info_path[2])\n",
    "\n",
    "\n",
    "# タプルに引数を格納\n",
    "# --- 引数リスト\n",
    "info_db = (\"SQL Server\", \"MySql\", \"Red Shft\")\n",
    "info_path = (\"a\", \"b\", \"c\")\n",
    "\n",
    "# 実行\n",
    "calc(info_db, info_path)"
   ]
  },
  {
   "cell_type": "markdown",
   "metadata": {
    "toc-hr-collapsed": true
   },
   "source": [
    "## 可変長引数：*args"
   ]
  },
  {
   "cell_type": "markdown",
   "metadata": {},
   "source": [
    "### 基本的な使い方"
   ]
  },
  {
   "cell_type": "markdown",
   "metadata": {},
   "source": [
    "- ｢*args｣を使うと、複数の引数をタプルとして取得することができる（タプル名はargs）\n",
    "- 関数定義で引数の個数を予め設定しないで、状況に応じて必要な個数の引数を与えることができる\n",
    "- 可変長引数は引数リストの最後にしか設定できない"
   ]
  },
  {
   "cell_type": "code",
   "execution_count": 4,
   "metadata": {},
   "outputs": [
    {
     "name": "stdout",
     "output_type": "stream",
     "text": [
      "('リンゴ', 'みかん', 'いちご', 'バナナ')\n",
      "<class 'tuple'>\n",
      "リンゴ\n",
      "みかん\n",
      "いちご\n",
      "バナナ\n"
     ]
    }
   ],
   "source": [
    "# **** 全ての引数をタプルに格納する ****\n",
    "\n",
    "\n",
    "# 関数定義\n",
    "# --- 複数の引数をargsで受け取る\n",
    "def fruit(*args) :\n",
    "    \n",
    "    print(args)\n",
    "    print(type(args))\n",
    "    \n",
    "    for i in args:\n",
    "        print(i)\n",
    "        \n",
    "    \n",
    "# 関数の引数で任意の要素を指定\n",
    "# --- 実際はタプルに格納している\n",
    "fruit(\"リンゴ\", \"みかん\", \"いちご\", \"バナナ\")\n"
   ]
  },
  {
   "cell_type": "markdown",
   "metadata": {},
   "source": [
    "### 位置引数との組み合わせ"
   ]
  },
  {
   "cell_type": "markdown",
   "metadata": {},
   "source": [
    "- 位置引数と組み合わせる場合、全ての位置引数の最後に可変長引数(*args)を記述するのが慣例となっている\n",
    "- 関数の実行側と定義側で対応する位置引数以外は全て可変長引数としてタプルに格納される"
   ]
  },
  {
   "cell_type": "code",
   "execution_count": 10,
   "metadata": {},
   "outputs": [
    {
     "name": "stdout",
     "output_type": "stream",
     "text": [
      "arg1:  0\n",
      "arg2:  1\n",
      "args:  (2, 3, 4)\n"
     ]
    }
   ],
   "source": [
    "# **** 可変長引数(*args)は引数の最後に指定するのが慣例 ****\n",
    "\n",
    "\n",
    "# 関数定義\n",
    "# --- 可変長引数(*args)の後に引数を指定することは可能\n",
    "def func_args(arg1, arg2, *args):\n",
    "    print('arg1: ', arg1)\n",
    "    print('arg2: ', arg2)\n",
    "    print('args: ', args)\n",
    "\n",
    "\n",
    "# 関数実行\n",
    "# --- はじめの２つは位置引数\n",
    "# --- 3つ目以降は可変長引数\n",
    "func_args(0, 1, 2, 3, 4)\n"
   ]
  },
  {
   "cell_type": "markdown",
   "metadata": {},
   "source": [
    "### キーワード引数を強制"
   ]
  },
  {
   "cell_type": "markdown",
   "metadata": {},
   "source": [
    "- 可変長引数(*args)を途中で指定することも可能だが、それ以降はキーワード引数で指定する必要がある\n",
    "- この性質を使用して、引数に｢*｣を指定することで、以降のキーワード引数を強制することができる"
   ]
  },
  {
   "cell_type": "code",
   "execution_count": 5,
   "metadata": {},
   "outputs": [
    {
     "name": "stdout",
     "output_type": "stream",
     "text": [
      "arg1:  0\n",
      "args:  (2, 3, 4)\n",
      "arg2:  1\n"
     ]
    }
   ],
   "source": [
    "# **** 一応、可変長引数は途中でも指定できる ****\n",
    "\n",
    "\n",
    "# 関数定義\n",
    "# --- 可変長引数(*args)の後に引数を指定することは可能\n",
    "def func_args(arg1, *args, arg2):\n",
    "    print('arg1: ', arg1)\n",
    "    print('args: ', args)\n",
    "    print('arg2: ', arg2)\n",
    "\n",
    "\n",
    "# TypeError\n",
    "# --- どこまでが可変長引数(*args)の引数か判別できない\n",
    "# func_args2(0, 1, 2, 3, 4)\n",
    "\n",
    "# 関数実行\n",
    "# --- 可変長引数(*args)以降の引数はキーワード指定して与える必要がある\n",
    "func_args(0, 2, 3, 4, arg2=1)\n"
   ]
  },
  {
   "cell_type": "code",
   "execution_count": 15,
   "metadata": {},
   "outputs": [
    {
     "name": "stdout",
     "output_type": "stream",
     "text": [
      "arg1:  0\n",
      "arg2:  1\n"
     ]
    }
   ],
   "source": [
    "# **** ｢*｣を使うとキーワード引数を強制することができる ****\n",
    "\n",
    "\n",
    "# 関数定義\n",
    "# --- 可変長引数(*args)の後に引数を指定することは可能\n",
    "def func_args2(arg1, *, arg2):\n",
    "    print('arg1: ', arg1)\n",
    "    print('arg2: ', arg2)\n",
    "\n",
    "\n",
    "# 関数実行\n",
    "# --- arg2以降はキーワード引数を強制\n",
    "func_args2(0, arg2=1)\n"
   ]
  },
  {
   "cell_type": "markdown",
   "metadata": {
    "toc-hr-collapsed": true
   },
   "source": [
    "## 可変長引数：**kwargs"
   ]
  },
  {
   "cell_type": "markdown",
   "metadata": {},
   "source": [
    "### 基本的な使い方"
   ]
  },
  {
   "cell_type": "markdown",
   "metadata": {},
   "source": [
    "- ｢**kwargs｣を使うと、複数の引数を辞書として取得することができる（辞書名はkwargs）\n",
    "- 関数の実行側がキーワード引数で指定されていることが前提となる\n",
    "- 関数定義で引数の個数を予め設定しないで、状況に応じて必要な個数の引数を与えることができる\n",
    "- 可変長引数は引数リストの最後にしか設定できない"
   ]
  },
  {
   "cell_type": "code",
   "execution_count": 1,
   "metadata": {},
   "outputs": [
    {
     "name": "stdout",
     "output_type": "stream",
     "text": [
      "{'apple': 2, 'orange': 3, 'banana': 1}\n",
      "<class 'dict'>\n",
      "apple 2\n",
      "orange 3\n",
      "banana 1\n"
     ]
    }
   ],
   "source": [
    "# **** キーワード引数を辞書に格納する ****\n",
    "\n",
    "\n",
    "# 関数定義\n",
    "# --- 複数の引数をkwargsで受け取る\n",
    "def fruit(**kwargs):\n",
    "    print(kwargs)\n",
    "    print(type(kwargs))\n",
    "\n",
    "    for k, v in kwargs.items():\n",
    "        print(k, v)\n",
    "\n",
    "\n",
    "# 関数内で要素を指定\n",
    "# --- キーワード引数の場合のみ**kwargsの使用が可能\n",
    "fruit(apple=2, orange=3, banana=1)\n"
   ]
  },
  {
   "cell_type": "markdown",
   "metadata": {},
   "source": [
    "### 位置引数との組み合わせ"
   ]
  },
  {
   "cell_type": "markdown",
   "metadata": {},
   "source": [
    "- 位置引数と組み合わせる場合、全ての位置引数の最後に可変長引数(**kwargs)を記述するのが慣例となっている\n",
    "- 関数の実行側と定義側で対応する位置引数以外は全て可変長引数として辞書に格納される"
   ]
  },
  {
   "cell_type": "code",
   "execution_count": 2,
   "metadata": {},
   "outputs": [
    {
     "name": "stdout",
     "output_type": "stream",
     "text": [
      "arg1:  0\n",
      "arg2:  1\n",
      "kwargs:  {'key1': 1, 'key2': 2}\n"
     ]
    }
   ],
   "source": [
    "# **** キーワード引数を辞書に格納する ****\n",
    "\n",
    "\n",
    "# 関数定義\n",
    "# --- 複数の引数をkwargsで受け取る\n",
    "def func_kwargs(arg1, arg2, **kwargs):\n",
    "    print('arg1: ', arg1)\n",
    "    print('arg2: ', arg2)\n",
    "    print('kwargs: ', kwargs)\n",
    "\n",
    "\n",
    "# 関数内で要素を指定\n",
    "# --- キーワード引数の場合のみ**kwargsの使用が可能\n",
    "func_kwargs(0, 1, key1=1, key2=2)\n"
   ]
  },
  {
   "cell_type": "markdown",
   "metadata": {},
   "source": [
    "### 可変長引数を同時に使う"
   ]
  },
  {
   "cell_type": "markdown",
   "metadata": {},
   "source": [
    "- ｢*args｣と｢**kwargs｣を同時に使うこともできる（args, kwargsの順で指定する）\n",
    "- キーワード引数でないものは｢args｣に格納され、キーワード引数は｢kwargs｣に格納される（位置引数との関係は同様）\n",
    "- プロット系関数などをラップする関数を作成する際に、プロットの任意の引数を可変長引数として渡す"
   ]
  },
  {
   "cell_type": "code",
   "execution_count": 24,
   "metadata": {},
   "outputs": [
    {
     "name": "stdout",
     "output_type": "stream",
     "text": [
      "banana\n",
      "('apple', 'orange')\n",
      "{'entree': 'beef', 'drink': 'coffee'}\n"
     ]
    }
   ],
   "source": [
    "# **** ２つの可変長引数を同時に使用する ****\n",
    "\n",
    "\n",
    "# 関数定義\n",
    "def menu(food, *args, **kwargs):\n",
    "    print(food)\n",
    "    print(args)\n",
    "    print(kwargs)\n",
    "\n",
    "# 実行\n",
    "menu('banana', 'apple', 'orange', entree='beef', drink='coffee')\n"
   ]
  },
  {
   "cell_type": "markdown",
   "metadata": {},
   "source": [
    "### 対応関係の整理"
   ]
  },
  {
   "cell_type": "markdown",
   "metadata": {},
   "source": [
    "- ここで挙げる2つの実行例は、実行側の引数の数は同じなのに、関数で受けた引数の数が違うのがポイント\n",
    "- 以下の順序で考えていく\n",
    "    1. 実行側と定義側で対応する｢キーワード引数｣はそのまま取得される\n",
    "    2. 可変長引数より前の｢位置引数｣は対応する引数に取得される\n",
    "    3. 定義側で引数に使用されていないキーワード引数はkwargsに格納される\n",
    "    4. 残りの引数は全てargsに格納される"
   ]
  },
  {
   "cell_type": "code",
   "execution_count": 27,
   "metadata": {},
   "outputs": [
    {
     "name": "stdout",
     "output_type": "stream",
     "text": [
      "arg1 1\n",
      "arg2 5\n",
      "args (2, 3, 4)\n",
      "kwargs {'a': 7, 'b': 8} \n",
      "\n",
      "arg1 1\n",
      "arg2 4\n",
      "args (2, 3)\n",
      "kwargs {'a': 7, 'b': 8} \n",
      "\n"
     ]
    }
   ],
   "source": [
    "# **** 練習問題：それぞれ何が表示されるか？ ****\n",
    "\n",
    "\n",
    "# 関数定義\n",
    "def hoge3(arg1, *args, arg2=5, **kwargs):\n",
    "    print('arg1', arg1)\n",
    "    print('arg2', arg2)\n",
    "    print('args', args)\n",
    "    print('kwargs', kwargs, '\\n')\n",
    "    \n",
    "\n",
    "# 関数実行\n",
    "# --- argsに3つ格納される\n",
    "hoge3(1, 2, 3, 4, a=7, b=8)\n",
    "\n",
    "\n",
    "# 関数実行\n",
    "# --- argsに2つしか格納されない\n",
    "hoge3(1, 2, 3, arg2=4, a=7, b=8)\n"
   ]
  },
  {
   "cell_type": "markdown",
   "metadata": {
    "toc-hr-collapsed": true
   },
   "source": [
    "## 可変長引数の応用"
   ]
  },
  {
   "cell_type": "markdown",
   "metadata": {},
   "source": [
    "### 使用例"
   ]
  },
  {
   "cell_type": "markdown",
   "metadata": {},
   "source": [
    "- `*args`は追加の位置引数を｢タプル｣に格納する\n",
    "- `**kwargs`は追加のキーワード引数を｢辞書｣に格納する\n",
    "- `*args **kwargs`の名前は慣例であり、可変長引数の動作はプレフィックスのアスタリスクが行っている"
   ]
  },
  {
   "cell_type": "code",
   "execution_count": 18,
   "metadata": {},
   "outputs": [
    {
     "name": "stdout",
     "output_type": "stream",
     "text": [
      "hello\n",
      "\n",
      "hello\n",
      "(1, 2, 3)\n",
      "\n",
      "hello\n",
      "{'key1': 'value', 'key2': 999}\n",
      "\n",
      "hello\n",
      "(1, 2, 3)\n",
      "{'key': 'value', 'key2': 999}\n",
      "\n"
     ]
    }
   ],
   "source": [
    "# **** 可変長引数の使用例 ****\n",
    "\n",
    "\n",
    "# 関数定義\n",
    "def foo(required, *args, **kwargs):\n",
    "    print(required)\n",
    "    if args:\n",
    "        print(args)\n",
    "    if kwargs:\n",
    "        print(kwargs)\n",
    "    # 改行用ダミー\n",
    "    print(\"\")\n",
    "\n",
    "\n",
    "# 関数実行\n",
    "# --- 第1引数のみ\n",
    "foo('hello')\n",
    "\n",
    "# 関数実行\n",
    "# --- 第1引数 + 位置引数\n",
    "foo('hello', 1, 2, 3)\n",
    "\n",
    "# 関数実行\n",
    "# --- 第1引数 + キーワード引数\n",
    "foo('hello', key1=\"value\", key2=999)\n",
    "\n",
    "# 関数実行\n",
    "# --- 第1引数 + 位置引数 + キーワード引数\n",
    "foo('hello', 1, 2, 3, key=\"value\", key2=999)\n"
   ]
  },
  {
   "cell_type": "markdown",
   "metadata": {},
   "source": [
    "### オーバーライド時の引数"
   ]
  },
  {
   "cell_type": "markdown",
   "metadata": {},
   "source": [
    "- 親クラスのコンストラクタに引数を与える場合に可変長引数を用いることが多い"
   ]
  },
  {
   "cell_type": "code",
   "execution_count": null,
   "metadata": {},
   "outputs": [],
   "source": [
    "# **** スーパークラスでの活用 ****\n",
    "\n",
    "\n",
    "# 親クラス\n",
    "class Car:\n",
    "    def __init__(self, color, mileage):\n",
    "        self.color = color\n",
    "        self.mileage = mileage\n",
    "\n",
    "\n",
    "# サブクラス\n",
    "# --- 親クラスのコンストラクタにに*argsで引数を与える\n",
    "# --- color属性を上書きする\n",
    "class AlwaysBlueCar(Car):\n",
    "    def __init__(self, *args, **kwargs):\n",
    "        super().__init__(*args, **kwargs)\n",
    "        self.color = 'blue'\n",
    "\n",
    "\n",
    "blue_car = AlwaysBlueCar('green', 48932)\n",
    "print(blue_car.color)"
   ]
  },
  {
   "cell_type": "markdown",
   "metadata": {
    "toc-hr-collapsed": true
   },
   "source": [
    "## アンパック(*)"
   ]
  },
  {
   "cell_type": "markdown",
   "metadata": {},
   "source": [
    "### 基本動作"
   ]
  },
  {
   "cell_type": "markdown",
   "metadata": {},
   "source": [
    "- ｢アンパッキング｣とは、リストやタプルにまとめた要素を分解することをいう\n",
    "- アンパッキングは、リストやタプルの前に`*`をつけることで実行できる"
   ]
  },
  {
   "cell_type": "code",
   "execution_count": 7,
   "metadata": {},
   "outputs": [
    {
     "name": "stdout",
     "output_type": "stream",
     "text": [
      "[1, 2, 3]\n",
      "<class 'list'>\n",
      "1 2 3\n",
      "1 2 3\n",
      "<class 'int'> <class 'int'> <class 'int'>\n"
     ]
    }
   ],
   "source": [
    "# **** リストのアンパッキング ****\n",
    "\n",
    "\n",
    "# リスト作成\n",
    "x = [1, 2, 3]\n",
    "\n",
    "# 通常表示\n",
    "# --- リストオブジェクトとして扱われる\n",
    "print(x)\n",
    "print(type(x))\n",
    "\n",
    "# リストのアンパッキング\n",
    "print(*x)\n",
    "\n",
    "# アンパッキングの再現\n",
    "# --- 数値オブジェクト３つとして扱われている\n",
    "print(x[0], x[1], x[2])\n",
    "print(type(x[0]), type(x[1]), type(x[2]))\n"
   ]
  },
  {
   "cell_type": "markdown",
   "metadata": {},
   "source": [
    "### アンパック代入：固定長引数"
   ]
  },
  {
   "cell_type": "markdown",
   "metadata": {},
   "source": [
    "- リストに関数の引数が要素として入っている場合にアンパッキングして関数に渡す\n",
    "- 要素数と引数の数が一致していないとエラーとなる\n",
    "- デフォルト引数などで必要な要素が確保できれば問題ない"
   ]
  },
  {
   "cell_type": "code",
   "execution_count": 9,
   "metadata": {},
   "outputs": [
    {
     "name": "stdout",
     "output_type": "stream",
     "text": [
      "one\n",
      "two\n",
      "three\n"
     ]
    }
   ],
   "source": [
    "# **** アンパッキングで関数に引数を渡す ****\n",
    "\n",
    "\n",
    "# 関数定義\n",
    "def func(arg1, arg2, arg3):\n",
    "    print(arg1)\n",
    "    print(arg2)\n",
    "    print(arg3)\n",
    "\n",
    "\n",
    "# 関数実行時にアンパッキング\n",
    "x = ['one', 'two', 'three']\n",
    "func(*x)\n"
   ]
  },
  {
   "cell_type": "code",
   "execution_count": 10,
   "metadata": {},
   "outputs": [
    {
     "name": "stdout",
     "output_type": "stream",
     "text": [
      "one\n",
      "two\n",
      "3\n"
     ]
    }
   ],
   "source": [
    "# **** デフォルト引数がある場合 ****\n",
    "\n",
    "\n",
    "# 関数定義\n",
    "# --- デフォルト引数あり\n",
    "def func(arg1=1, arg2=2, arg3=3):\n",
    "    print(arg1)\n",
    "    print(arg2)\n",
    "    print(arg3)\n",
    "\n",
    "\n",
    "# 関数実行時にアンパッキング\n",
    "# --- 足りない引数はデフォルト引数が使われる\n",
    "x = ['one', 'two']\n",
    "func(*x)\n"
   ]
  },
  {
   "cell_type": "markdown",
   "metadata": {},
   "source": [
    "### アンパック代入：可変長引数"
   ]
  },
  {
   "cell_type": "markdown",
   "metadata": {},
   "source": [
    "- 関数の定義側が可変長引数(*args)を指定していると、関数の実行側は要素数に対する制約がなくなる"
   ]
  },
  {
   "cell_type": "code",
   "execution_count": 11,
   "metadata": {},
   "outputs": [
    {
     "name": "stdout",
     "output_type": "stream",
     "text": [
      "one\n",
      "two\n",
      "\n",
      "one\n",
      "two\n",
      "three\n",
      "\n",
      "one\n",
      "two\n",
      "three\n",
      "four\n",
      "\n"
     ]
    }
   ],
   "source": [
    "# **** 可変長引数へのアンパッキング ****\n",
    "\n",
    "\n",
    "# 関数定義\n",
    "# --- 可変長引数を引数に与える\n",
    "def func_args(arg1, *args):\n",
    "    print(arg1)\n",
    "    for arg in args:\n",
    "        print(arg)\n",
    "    print()\n",
    "\n",
    "\n",
    "# 要素数をかえて実行\n",
    "func_args(*['one', 'two'])\n",
    "func_args(*['one', 'two', 'three'])\n",
    "func_args(*['one', 'two', 'three', 'four'])\n"
   ]
  },
  {
   "cell_type": "markdown",
   "metadata": {
    "toc-hr-collapsed": true
   },
   "source": [
    "## アンパック(**)"
   ]
  },
  {
   "cell_type": "markdown",
   "metadata": {},
   "source": [
    "### 基本動作"
   ]
  },
  {
   "cell_type": "markdown",
   "metadata": {},
   "source": [
    "- ｢アンパック｣とは、リストやタプルにまとめた要素を分解することをいう\n",
    "- アンパックは、リストやタプルの前に`*`をつけることで実行できる"
   ]
  },
  {
   "cell_type": "code",
   "execution_count": 15,
   "metadata": {},
   "outputs": [
    {
     "name": "stdout",
     "output_type": "stream",
     "text": [
      "{'arg1': 'one', 'arg2': 'two', 'arg3': 'three'}\n",
      "<class 'dict'>\n",
      "arg1 arg2 arg3\n"
     ]
    }
   ],
   "source": [
    "# **** 辞書のアンパック ****\n",
    "\n",
    "\n",
    "# 辞書の作成\n",
    "x = {'arg1': 'one', 'arg2': 'two', 'arg3': 'three'}\n",
    "\n",
    "# 通常表示\n",
    "# --- 辞書型オブジェクトとして扱われる\n",
    "print(x)\n",
    "print(type(x))\n",
    "\n",
    "# 辞書のアンパッキング\n",
    "print(*x)\n"
   ]
  },
  {
   "cell_type": "markdown",
   "metadata": {},
   "source": [
    "### アンパック代入：固定長引数"
   ]
  },
  {
   "cell_type": "markdown",
   "metadata": {},
   "source": [
    "- 辞書に関数の｢引数名｣と｢要素｣が入っている場合にアンパッキングして関数に代入する\n",
    "- デフォルト引数などで必要な要素が確保できれば問題ない"
   ]
  },
  {
   "cell_type": "code",
   "execution_count": 17,
   "metadata": {},
   "outputs": [
    {
     "name": "stdout",
     "output_type": "stream",
     "text": [
      "one\n",
      "two\n",
      "three\n"
     ]
    }
   ],
   "source": [
    "# **** アンパッキングで関数に引数を渡す ****\n",
    "\n",
    "\n",
    "# 関数定義\n",
    "def func(arg1, arg2, arg3):\n",
    "    print(arg1)\n",
    "    print(arg2)\n",
    "    print(arg3)\n",
    "\n",
    "\n",
    "# 関数実行時にアンパッキング\n",
    "x = {'arg1': 'one', 'arg2': 'two', 'arg3': 'three'}\n",
    "func(**x)\n"
   ]
  },
  {
   "cell_type": "code",
   "execution_count": 20,
   "metadata": {},
   "outputs": [
    {
     "name": "stdout",
     "output_type": "stream",
     "text": [
      "one\n",
      "2\n",
      "3\n",
      "\n",
      "1\n",
      "two\n",
      "three\n",
      "\n"
     ]
    }
   ],
   "source": [
    "# **** デフォルト引数がある場合 ****\n",
    "\n",
    "\n",
    "# 関数定義\n",
    "# --- デフォルト引数あり\n",
    "def func(arg1=1, arg2=2, arg3=3):\n",
    "    print(arg1)\n",
    "    print(arg2)\n",
    "    print(arg3)\n",
    "    print()\n",
    "\n",
    "# 関数実行時にアンパッキング\n",
    "# --- 足りない引数はデフォルト引数が使われる\n",
    "func(**{'arg1': 'one'})\n",
    "func(**{'arg2': 'two', 'arg3': 'three'})\n"
   ]
  },
  {
   "cell_type": "markdown",
   "metadata": {},
   "source": [
    "### アンパック代入：可変長引数"
   ]
  },
  {
   "cell_type": "markdown",
   "metadata": {},
   "source": [
    "- 関数の定義側が可変長引数(**kwargs)を指定していると、関数の実行側は要素数に対する制約がなくなる"
   ]
  },
  {
   "cell_type": "code",
   "execution_count": 16,
   "metadata": {},
   "outputs": [
    {
     "name": "stdout",
     "output_type": "stream",
     "text": [
      "arg1 one\n",
      "arg2 two\n",
      "arg3 three\n",
      "\n",
      "arg1 one\n",
      "arg2 two\n",
      "arg3 three\n",
      "arg4 four\n",
      "\n"
     ]
    }
   ],
   "source": [
    "# **** 可変長引数へのアンパッキング ****\n",
    "\n",
    "\n",
    "# 関数定義\n",
    "# --- 可変長引数を引数に与える\n",
    "def func_kwargs(arg1, **kwargs):\n",
    "    print('arg1', arg1)\n",
    "    for k, v in kwargs.items():\n",
    "        print(k, v)\n",
    "    print()\n",
    "\n",
    "\n",
    "# 要素数をかえて実行\n",
    "func_kwargs(**{'arg1': 'one', 'arg2': 'two', 'arg3': 'three'})\n",
    "func_kwargs(**{'arg1': 'one', 'arg2': 'two', 'arg3': 'three', 'arg4': 'four'})\n"
   ]
  },
  {
   "cell_type": "markdown",
   "metadata": {
    "toc-hr-collapsed": true
   },
   "source": [
    "## 値渡し/参照渡し"
   ]
  },
  {
   "cell_type": "markdown",
   "metadata": {},
   "source": [
    "### はじめに"
   ]
  },
  {
   "cell_type": "markdown",
   "metadata": {},
   "source": [
    "- Pythonでは、関数の引数は全て参照渡しで行われる\n",
    "- ｢値渡し｣と｢参照渡し｣の違いは、｢引数として渡すオブジェクトの種類｣｢それが更新されるか否か｣で決まる\n",
    "- ｢値渡し｣となるのは、｢イミュータブル(変更不可)｣なオブジェクトを引数とした場合（数値、文字列、タプルなど）\n",
    "- ｢参照渡し｣となるのは、｢ミュータブル(変更可能)｣なオブジェクトを引数とした場合（リスト、辞書、集合など）"
   ]
  },
  {
   "cell_type": "markdown",
   "metadata": {},
   "source": [
    "### 参考資料"
   ]
  },
  {
   "cell_type": "markdown",
   "metadata": {},
   "source": [
    "- [Pythonの組み込みデータ型の分類表（ミュータブル等）](https://gammasoft.jp/blog/python-built-in-types/)"
   ]
  },
  {
   "cell_type": "markdown",
   "metadata": {},
   "source": [
    "### 値渡し"
   ]
  },
  {
   "cell_type": "markdown",
   "metadata": {},
   "source": [
    "- ｢イミュータブル(変更不可)｣なオブジェクトを引数とした場合、引数はコピーされて関数に渡される（値渡し）\n",
    "- ｢値渡し｣は関数の独立性を維持できるので、引数にはイミュータブルなオブジェクト(※)を与えるべき\n",
    "- ※数値、文字列、タプル、range、byteなどがある"
   ]
  },
  {
   "cell_type": "code",
   "execution_count": 3,
   "metadata": {},
   "outputs": [
    {
     "name": "stdout",
     "output_type": "stream",
     "text": [
      "<class 'int'>\n",
      "b id: 140723147871328\n",
      "a id: 140723147871360\n",
      "b id: 140723147871328\n"
     ]
    }
   ],
   "source": [
    "# **** 値渡し ****\n",
    "\n",
    "\n",
    "# 関数定義\n",
    "def func(a):\n",
    "    a += 1\n",
    "    print(\"a id:\", id(a))\n",
    "\n",
    "\n",
    "# 変数定義\n",
    "b = 10\n",
    "\n",
    "# データ型\n",
    "print(type(b))\n",
    "\n",
    "# 確認\n",
    "print(\"b id:\", id(b))\n",
    "\n",
    "# 関数適用\n",
    "# --- イミュータブル(変更不可)な引数(数値)を渡している\n",
    "# --- 引数の値をコピーする必要がある\n",
    "func(b)\n",
    "\n",
    "# 変数確認\n",
    "print(\"b id:\", id(b))\n"
   ]
  },
  {
   "cell_type": "markdown",
   "metadata": {},
   "source": [
    "### 参照渡し"
   ]
  },
  {
   "cell_type": "markdown",
   "metadata": {},
   "source": [
    "- ｢参照渡し｣は実引数にメモリ上のアドレスを渡す（関数内で値を引数を更新すると、関数外の元変数の値も更新される）\n",
    "- ｢参照渡し｣は関数の独立性を損なうので、ミュータブル(変更可能)なオブジェクトは引数にしてはいけない\n",
    "- ｢リスト｣のようなデータを渡したい場合は｢タプル｣を使う"
   ]
  },
  {
   "cell_type": "code",
   "execution_count": 4,
   "metadata": {},
   "outputs": [
    {
     "name": "stdout",
     "output_type": "stream",
     "text": [
      "<class 'list'>\n",
      "b id: 2476514346952\n",
      "a id: 2476514346952\n",
      "b id: 2476514346952\n"
     ]
    }
   ],
   "source": [
    "# **** 参照渡し ****\n",
    "\n",
    "\n",
    "# 関数定義\n",
    "def func(a):\n",
    "    a.append(3)\n",
    "    print(\"a id:\", id(a))\n",
    "\n",
    "\n",
    "# 変数定義\n",
    "b = [0, 1, 2]\n",
    "\n",
    "# データ型\n",
    "print(type(b))\n",
    "\n",
    "# 確認\n",
    "print(\"b id:\", id(b))\n",
    "\n",
    "# 関数適用\n",
    "# --- イミュータブル(変更不可)な引数(数値)を渡している\n",
    "# --- 引数の値をコピーする必要がある\n",
    "func(b)\n",
    "\n",
    "# 変数確認\n",
    "print(\"b id:\", id(b))\n"
   ]
  },
  {
   "cell_type": "markdown",
   "metadata": {},
   "source": [
    "### 値渡しの引数追跡"
   ]
  },
  {
   "cell_type": "markdown",
   "metadata": {},
   "source": [
    "- ｢値渡し｣でも関数に引数を与えた段階では｢参照渡し｣となっている（オブジェクトIDは同じ）\n",
    "- ｢値渡し｣は、引数を更新する際にオブジェクトIDを新しく生成することで行われている"
   ]
  },
  {
   "cell_type": "code",
   "execution_count": 11,
   "metadata": {},
   "outputs": [
    {
     "name": "stdout",
     "output_type": "stream",
     "text": [
      "--- 関数適用前 ----\n",
      "b id: 140723147871328 \n",
      "\n",
      "--- 引数更新前 ----\n",
      "a = 10\n",
      "a id: 140723147871328 \n",
      "\n",
      "--- 引数更新後 ----\n",
      "a = 11\n",
      "a id: 140723147871360 \n",
      "\n",
      "--- 関数適用後 ----\n",
      "b id: 140723147871328 \n",
      "\n"
     ]
    }
   ],
   "source": [
    "# **** 引数の追跡：値渡しはいつオブジェクトIDが変わるのか ****\n",
    "\n",
    "\n",
    "# 関数定義\n",
    "def hoge(a):\n",
    "    print(\"--- 引数更新前 ----\")\n",
    "    print(\"a =\", a)\n",
    "    print(\"a id:\", id(a), \"\\n\")\n",
    "    a += 1\n",
    "    print(\"--- 引数更新後 ----\")\n",
    "    print(\"a =\", a)\n",
    "    print(\"a id:\", id(a), \"\\n\")\n",
    "\n",
    "\n",
    "# 変数定義\n",
    "# --- 数値型：イミュータブル\n",
    "b = 10\n",
    "\n",
    "# 関数適用\n",
    "# --- イミュータブル(変更不可)な引数(数値)を渡している\n",
    "# --- 引数の値をコピーする必要がある\n",
    "print(\"--- 関数適用前 ----\")\n",
    "print(\"b id:\", id(b), \"\\n\")\n",
    "hoge(b)\n",
    "print(\"--- 関数適用後 ----\")\n",
    "print(\"b id:\", id(b), \"\\n\")\n"
   ]
  },
  {
   "cell_type": "markdown",
   "metadata": {},
   "source": [
    "### ミュータブルでの値渡し"
   ]
  },
  {
   "cell_type": "markdown",
   "metadata": {},
   "source": [
    "- 通常は参照渡しとなる｢ミュータブル(変更可能)｣なオブジェクトでもdeepcopy()を使うと値渡しにすることは可能\n",
    "- 根本的に、ミュータブルなオブジェクトを関数の引数にするべきではない"
   ]
  },
  {
   "cell_type": "code",
   "execution_count": 20,
   "metadata": {},
   "outputs": [
    {
     "name": "stdout",
     "output_type": "stream",
     "text": [
      "--- 関数適用前 ----\n",
      "b = [0, 1, 2]\n",
      "b id: 2476514329160 \n",
      "\n",
      "--- 引数更新前 ----\n",
      "a = [0, 1, 2]\n",
      "a id: 2476514329160 \n",
      "\n",
      "--- 引数更新後 ----\n",
      "a = [0, 1, 2, 3]\n",
      "a id: 2476514329160 \n",
      "\n",
      "--- 関数適用後 ----\n",
      "b = [0, 1, 2, 3]\n",
      "b id: 2476514329160 \n",
      "\n"
     ]
    }
   ],
   "source": [
    "# **** 問題あり：ミュータブルを参照渡し ****\n",
    "\n",
    "# ＜問題点＞\n",
    "#　・関数のローカルスコープで行った操作が、グローバルスコープにまで反映している\n",
    "#　・リストがミュータブルなため、関数に参照渡しされているため　\n",
    "\n",
    "\n",
    "def foo(a):\n",
    "    print(\"--- 引数更新前 ----\")\n",
    "    print(\"a =\", a)\n",
    "    print(\"a id:\", id(a), \"\\n\")\n",
    "    a.append(3)\n",
    "    print(\"--- 引数更新後 ----\")\n",
    "    print(\"a =\", a)\n",
    "    print(\"a id:\", id(a), \"\\n\")\n",
    "\n",
    "\n",
    "# 変数定義\n",
    "b = [0, 1, 2]\n",
    "\n",
    "# 関数適用\n",
    "print(\"--- 関数適用前 ----\")\n",
    "print(\"b =\", b)\n",
    "print(\"b id:\", id(b), \"\\n\")\n",
    "foo(b)\n",
    "print(\"--- 関数適用後 ----\")\n",
    "print(\"b =\", b)\n",
    "print(\"b id:\", id(b), \"\\n\")\n"
   ]
  },
  {
   "cell_type": "code",
   "execution_count": 21,
   "metadata": {},
   "outputs": [
    {
     "name": "stdout",
     "output_type": "stream",
     "text": [
      "--- 関数適用前 ----\n",
      "b = [0, 1, 2]\n",
      "b id: 2477631042056 \n",
      "\n",
      "--- 引数更新前 ----\n",
      "a = [0, 1, 2]\n",
      "a id: 2477631042056 \n",
      "\n",
      "--- 引数更新後 ----\n",
      "a = [0, 1, 2, 3]\n",
      "a id: 2476514294920 \n",
      "\n",
      "--- 関数適用後 ----\n",
      "b = [0, 1, 2]\n",
      "b id: 2477631042056 \n",
      "\n"
     ]
    }
   ],
   "source": [
    "# **** ミュータブルでの値渡し ****\n",
    "\n",
    "# ＜問題点＞\n",
    "#　・関数内でコピーを作成することで。ローカルスコープ用に新しいオブジェクトを生成\n",
    "#　・ミュータブルなオブジェクトは関数の引数にすべきではない\n",
    "\n",
    "\n",
    "import copy\n",
    "\n",
    "def foo(a):\n",
    "    print(\"--- 引数更新前 ----\")\n",
    "    print(\"a =\", a)\n",
    "    print(\"a id:\", id(a), \"\\n\")\n",
    "    a = copy.deepcopy(a)\n",
    "    a.append(3)\n",
    "    print(\"--- 引数更新後 ----\")\n",
    "    print(\"a =\", a)\n",
    "    print(\"a id:\", id(a), \"\\n\")\n",
    "\n",
    "\n",
    "# 変数定義\n",
    "b = [0, 1, 2]\n",
    "\n",
    "# 関数適用\n",
    "print(\"--- 関数適用前 ----\")\n",
    "print(\"b =\", b)\n",
    "print(\"b id:\", id(b), \"\\n\")\n",
    "foo(b)\n",
    "print(\"--- 関数適用後 ----\")\n",
    "print(\"b =\", b)\n",
    "print(\"b id:\", id(b), \"\\n\")\n"
   ]
  },
  {
   "cell_type": "markdown",
   "metadata": {},
   "source": [
    "# 3 関数の戻り値"
   ]
  },
  {
   "cell_type": "markdown",
   "metadata": {},
   "source": [
    "## 戻り値の振舞い"
   ]
  },
  {
   "cell_type": "markdown",
   "metadata": {},
   "source": [
    "### 暗黙の戻り値"
   ]
  },
  {
   "cell_type": "markdown",
   "metadata": {},
   "source": [
    "- 戻り値がない関数は｢None｣が返される\n",
    "- 例えば、｢print文｣は副作用(テキスト出力)を目的として呼び出されるので、明示的な戻り値を持たない\n",
    "    - return文を書く余地がない（実際に書かないことが多い）\n",
    "    - しかし、関数は｢None｣を返す"
   ]
  },
  {
   "cell_type": "code",
   "execution_count": 16,
   "metadata": {},
   "outputs": [
    {
     "name": "stdout",
     "output_type": "stream",
     "text": [
      "1\n",
      "1\n",
      "x = None\n"
     ]
    }
   ],
   "source": [
    "# **** 暗黙の戻り値 ****\n",
    "\n",
    "\n",
    "# 関数定義\n",
    "# --- 副作用なしの操作\n",
    "# --- return文なし\n",
    "def my_print(value):\n",
    "    print(value)\n",
    "\n",
    "\n",
    "# 関数実行\n",
    "#　--- 通常の使い方\n",
    "my_print(1)\n",
    "\n",
    "# 関数実行\n",
    "# --- 敢えて戻り値の確認\n",
    "x = my_print(1)\n",
    "print('x =', x)\n"
   ]
  },
  {
   "cell_type": "code",
   "execution_count": 4,
   "metadata": {},
   "outputs": [
    {
     "name": "stdout",
     "output_type": "stream",
     "text": [
      "x = None\n"
     ]
    }
   ],
   "source": [
    "# **** 戻り値を持つ関数：return文なし ****\n",
    "\n",
    "\n",
    "# 関数定義\n",
    "# --- 副作用ありの操作\n",
    "# --- return文なし\n",
    "def my_sum(value):\n",
    "    sum(value)\n",
    "\n",
    "    \n",
    "# リスト定義\n",
    "a = [1, 2, 3]\n",
    "\n",
    "# 関数実行\n",
    "# --- 期待した戻り値にならない\n",
    "x = my_sum(a)\n",
    "print('x =', x)\n"
   ]
  },
  {
   "cell_type": "code",
   "execution_count": 5,
   "metadata": {},
   "outputs": [
    {
     "name": "stdout",
     "output_type": "stream",
     "text": [
      "x = 6\n"
     ]
    }
   ],
   "source": [
    "# **** 戻り値を持つ関数：return文あり ****\n",
    "\n",
    "\n",
    "# 関数定義\n",
    "# --- 副作用ありの操作\n",
    "# --- return文なし\n",
    "def my_sum(value):\n",
    "    return sum(value)\n",
    "\n",
    "    \n",
    "# リスト定義\n",
    "a = [1, 2, 3]\n",
    "\n",
    "# 関数実行\n",
    "# --- 期待したとおりの戻り値\n",
    "x = my_sum(a)\n",
    "print('x =', x)\n"
   ]
  },
  {
   "cell_type": "markdown",
   "metadata": {},
   "source": [
    "### ｢return None｣の振舞い"
   ]
  },
  {
   "cell_type": "markdown",
   "metadata": {},
   "source": [
    "- return文で明示的に戻り値を返さない場合、すべての関数の最後には暗黙の｢return None｣文が追加される\n",
    "- ｢return None｣を明示的に記述するかどうかはコードスタイルによる\n",
    "- 戻り値がない場合はreturn文は省略してもよい"
   ]
  },
  {
   "cell_type": "code",
   "execution_count": 8,
   "metadata": {},
   "outputs": [
    {
     "name": "stdout",
     "output_type": "stream",
     "text": [
      "True\n",
      "<class 'bool'>\n",
      "None\n",
      "None\n",
      "None\n",
      "<class 'NoneType'>\n",
      "<class 'NoneType'>\n",
      "<class 'NoneType'>\n"
     ]
    }
   ],
   "source": [
    "# **** return None の振舞い ****\n",
    "\n",
    "# 関数定義１\n",
    "# --- 明示的にNoneを記述\n",
    "def foo1(value):\n",
    "    if value:\n",
    "        return value\n",
    "    else:\n",
    "        return None\n",
    "\n",
    "\n",
    "# 関数定義２\n",
    "# --- Noneを省略\n",
    "def foo2(value):\n",
    "    if value:\n",
    "        return value\n",
    "    else:\n",
    "        return\n",
    "\n",
    "\n",
    "# 関数定義３\n",
    "# --- return文の除く\n",
    "def foo3(value):\n",
    "    if value:\n",
    "        return value\n",
    "\n",
    "\n",
    "# 出力\n",
    "# --- 戻り値あり\n",
    "print(foo1(True))\n",
    "print(type(foo1(True)))\n",
    "\n",
    "# 出力\n",
    "# --- 戻り値なし\n",
    "print(foo1(False))\n",
    "print(foo2(False))\n",
    "print(foo3(False))\n",
    "\n",
    "# データ型\n",
    "print(type(foo1(False)))\n",
    "print(type(foo2(False)))\n",
    "print(type(foo3(False)))\n"
   ]
  },
  {
   "cell_type": "markdown",
   "metadata": {
    "toc-hr-collapsed": true
   },
   "source": [
    "# 4 関数のスコープ"
   ]
  },
  {
   "cell_type": "markdown",
   "metadata": {
    "toc-hr-collapsed": false
   },
   "source": [
    "## 名前空間"
   ]
  },
  {
   "cell_type": "markdown",
   "metadata": {},
   "source": [
    "### はじめに"
   ]
  },
  {
   "cell_type": "markdown",
   "metadata": {},
   "source": [
    "- ｢名前｣とは、｢変数｣と｢定数｣を指す\n",
    "- ｢名前空間｣とは、特定のライブラリのように｢関数｣｢変数｣｢定数｣が定義された領域のことをいう\n",
    "    - 名前空間は辞書型で管理されており、具体的にアクセスすることができる\n",
    "    - 名前空間が区別されていることで、同じ関数名でも区別して使うことができるようになる"
   ]
  },
  {
   "cell_type": "code",
   "execution_count": 1,
   "metadata": {},
   "outputs": [
    {
     "name": "stdout",
     "output_type": "stream",
     "text": [
      "スクルト, スクルト, \n"
     ]
    }
   ],
   "source": [
    "# **** 名前空間の区別 ****\n",
    "\n",
    "# インポート\n",
    "# --- 名前空間の形成\n",
    "import math\n",
    "\n",
    "# 関数定義\n",
    "def sqrt(n):\n",
    "    print(n * \"スクルト, \")\n",
    "\n",
    "    \n",
    "#　同じ名前の関数が区別して使える\n",
    "# --- 名前空間が区別されているため\n",
    "math.sqrt(2)\n",
    "sqrt(2)\n"
   ]
  },
  {
   "cell_type": "markdown",
   "metadata": {},
   "source": [
    "### 定数と変数"
   ]
  },
  {
   "cell_type": "markdown",
   "metadata": {},
   "source": [
    "- 以下の6つのみが｢定数｣として定義されている（予約語なので代入不可）\n",
    "- ｢None｣｢True｣｢False｣｢NotImplemented｣｢Ellipse｣｢\\_\\_debug\\_\\_ ｣\n",
    "- 定数以外は全て変数"
   ]
  },
  {
   "cell_type": "markdown",
   "metadata": {},
   "source": [
    "### クラスと名前空間"
   ]
  },
  {
   "cell_type": "markdown",
   "metadata": {},
   "source": [
    "- クラスを定義すると、名前空間が定義される\n",
    "- クラスの要素にアクセスするには、要素が｢self｣で名前空間を指定されている必要がある"
   ]
  },
  {
   "cell_type": "code",
   "execution_count": 12,
   "metadata": {},
   "outputs": [
    {
     "name": "stdout",
     "output_type": "stream",
     "text": [
      "Jack\n",
      "Attribute Error: self.ageとしていないためエラー\n"
     ]
    }
   ],
   "source": [
    "# **** クラスと名前空間 ****\n",
    "\n",
    "\n",
    "# クラスの定義\n",
    "# --- エラー：ageにselfが付いていない\n",
    "class User:\n",
    "    def __init__(self, name, age):\n",
    "        self.name = name\n",
    "        age = age\n",
    "\n",
    "\n",
    "# インスタンスの生成\n",
    "user = User(\"Jack\", 43)\n",
    "\n",
    "# インスタンス変数へのアクセス\n",
    "print(user.name)\n",
    "\n",
    "# インスタンス変数へのアクセス\n",
    "# --- selfがついていないので、クラスの名前空間に存在しない\n",
    "try:\n",
    "    print(user.age)\n",
    "except:\n",
    "    print(\"Attribute Error: self.ageとしていないためエラー\")\n"
   ]
  },
  {
   "cell_type": "markdown",
   "metadata": {},
   "source": [
    "### 名前衝突"
   ]
  },
  {
   "cell_type": "markdown",
   "metadata": {},
   "source": [
    "- ｢名前衝突｣とは、変数名や関数名が重複したものが環境(グローバル or ローカル)に複数ある状態をいう\n",
    "- 名前空間を形成しないということは、環境の直下に名前だけを叩き込む行為といえる\n",
    "- インポートは名前衝突が起きやすいので注意（スコープを意識してインポートする）"
   ]
  },
  {
   "cell_type": "code",
   "execution_count": 14,
   "metadata": {},
   "outputs": [
    {
     "name": "stdout",
     "output_type": "stream",
     "text": [
      "3.141592653589793\n",
      "3.141592653589793\n",
      "3.141592653589793\n"
     ]
    }
   ],
   "source": [
    "# **** importと名前衝突 ****\n",
    "\n",
    "# 名前空間を指定してpi()を使用\n",
    "# --- mathという名前空間を作成\n",
    "# --- PEP8：OK\n",
    "import math\n",
    "print(math.pi)      \n",
    "\n",
    "\n",
    "# 名前空間を指定せずにpi()を使用\n",
    "# --- global環境にpi()を定義（mathという名前空間を作成されない）\n",
    "# --- PEP8：いちおうOK\n",
    "from math import pi\n",
    "print(pi)\n",
    "\n",
    "\n",
    "# 名前空間を指定せずにpi()を使用\n",
    "# --- global環境にmathの全ての関数を定義（mathという名前空間は作成されない）\n",
    "# --- 一応動作する（piがグローバルスコープに含まれているため）\n",
    "# --- PEP8：NG\n",
    "from math import *\n",
    "print(pi)\n"
   ]
  },
  {
   "cell_type": "markdown",
   "metadata": {},
   "source": [
    "## スコープ"
   ]
  },
  {
   "cell_type": "markdown",
   "metadata": {},
   "source": [
    "### スコープとは"
   ]
  },
  {
   "cell_type": "markdown",
   "metadata": {},
   "source": [
    "- ｢スコープ｣とは、変数や関数を記憶する空間の中での仕切られた範囲のことをいう\n",
    "- ｢BUilt-in｣｢Global｣｢Local｣の３種類のスコープが存在する\n",
    "- ｢クロージャー｣｢デコレータ｣といった関数の応用的な使い方の前提知識となる"
   ]
  },
  {
   "cell_type": "code",
   "execution_count": 3,
   "metadata": {},
   "outputs": [
    {
     "name": "stdout",
     "output_type": "stream",
     "text": [
      "Global Scope\n",
      "Local Scope\n"
     ]
    }
   ],
   "source": [
    "# **** 関数はローカルスコープを形成する ****\n",
    "\n",
    "print(\"Global Scope\")\n",
    "#\n",
    "# global スコープ\n",
    "# \n",
    "\n",
    "def f():\n",
    "    print(\"Local Scope\")\n",
    "    #\n",
    "    # local スコープ\n",
    "    #\n",
    "    \n",
    "f()"
   ]
  },
  {
   "cell_type": "markdown",
   "metadata": {},
   "source": [
    "### 参照ルール"
   ]
  },
  {
   "cell_type": "markdown",
   "metadata": {},
   "source": [
    "- ｢外から中｣は｢参照｣｢変更｣ともにできない \n",
    "- ｢中から外｣は｢変更｣はできないが｢参照｣はできる\n",
    "- 狭いスコープから優先して使われる"
   ]
  },
  {
   "cell_type": "code",
   "execution_count": 1,
   "metadata": {},
   "outputs": [
    {
     "name": "stdout",
     "output_type": "stream",
     "text": [
      "local:  0\n"
     ]
    }
   ],
   "source": [
    "# **** ｢中から外｣は参照できる ****\n",
    "\n",
    "\n",
    "# 変数定義 \n",
    "a = 0\n",
    "\n",
    "# 関数定義\n",
    "# --- グローバルスコープを参照\n",
    "def f():\n",
    "    print(\"local: \", a)\n",
    "\n",
    "# 関数実行\n",
    "f()\n"
   ]
  },
  {
   "cell_type": "code",
   "execution_count": 2,
   "metadata": {},
   "outputs": [
    {
     "name": "stdout",
     "output_type": "stream",
     "text": [
      "local:  1\n",
      "global:  0\n"
     ]
    }
   ],
   "source": [
    "# **** ｢中から外｣は変更はできない ****\n",
    "\n",
    "\n",
    "# 変数定義 \n",
    "a = 0\n",
    "\n",
    "# 関数定義\n",
    "# --- aは中と外にあるが、狭いスコープのものが優先される\n",
    "def f():\n",
    "    a = 1\n",
    "    print(\"local: \", a)\n",
    "\n",
    "# 関数実行\n",
    "f()\n",
    "print(\"global: \", a)\n"
   ]
  },
  {
   "cell_type": "markdown",
   "metadata": {},
   "source": [
    "### スコープへのアクセス"
   ]
  },
  {
   "cell_type": "markdown",
   "metadata": {},
   "source": [
    "- globals関数を用いると、グローバルスコープの要素を取得することができ\n",
    "- localls関数を用いると、ローカルスコープの要素を取得することができ\n",
    "- グローバルスコープは、内部的には辞書型で管理されている\n",
    "    - スコープの辞書を更新すると、変数を変更することができる"
   ]
  },
  {
   "cell_type": "code",
   "execution_count": 10,
   "metadata": {},
   "outputs": [
    {
     "name": "stdout",
     "output_type": "stream",
     "text": [
      "<class 'dict'>\n",
      "global a =  0\n"
     ]
    }
   ],
   "source": [
    "# **** グローバルスコープへのアクセス ****\n",
    "\n",
    "\n",
    "# 変数定義\n",
    "a = 0\n",
    "\n",
    "# スコープを取得\n",
    "global_items = globals()\n",
    "\n",
    "# 辞書型で管理\n",
    "print(type(global_items))\n",
    "\n",
    "# グローバルスコープへのアクセス\n",
    "#　--- 色々入っているので｢a｣のみ抽出\n",
    "print(\"global a = \", global_items['a'])\n"
   ]
  },
  {
   "cell_type": "code",
   "execution_count": 11,
   "metadata": {},
   "outputs": [
    {
     "name": "stdout",
     "output_type": "stream",
     "text": [
      "a = 1\n",
      "{'a': 1}\n"
     ]
    }
   ],
   "source": [
    "# **** ローカルスコープへのアクセス ****\n",
    "\n",
    "\n",
    "# 関数定義\n",
    "# --- ローカルスコープを参照\n",
    "def f():\n",
    "    a = 1\n",
    "    print(\"a =\", a)\n",
    "    print(locals())\n",
    "\n",
    "\n",
    "# 関数実行\n",
    "f()\n"
   ]
  },
  {
   "cell_type": "code",
   "execution_count": 22,
   "metadata": {},
   "outputs": [
    {
     "name": "stdout",
     "output_type": "stream",
     "text": [
      "global:  0\n",
      "global:  1\n",
      "global:  2\n"
     ]
    }
   ],
   "source": [
    "# **** スコープ辞書を更新する ****\n",
    "\n",
    "# 変数定義\n",
    "# --- グローバルスコープ\n",
    "a = 0\n",
    "\n",
    "\n",
    "# 関数定義\n",
    "def f1():\n",
    "    # 変数変更\n",
    "    # --- ローカルスコープ\n",
    "    globals()['a'] = 1\n",
    "\n",
    "def f2():\n",
    "    # 変数変更\n",
    "    # --- ローカルスコープ\n",
    "    globals().update({'a': 2})\n",
    "\n",
    "\n",
    "# 初期状態\n",
    "print(\"global: \", a)\n",
    "\n",
    "# 関数実行\n",
    "f1()\n",
    "print(\"global: \", a)\n",
    "\n",
    "f2()\n",
    "print(\"global: \", a)\n"
   ]
  },
  {
   "cell_type": "markdown",
   "metadata": {},
   "source": [
    "### global文"
   ]
  },
  {
   "cell_type": "markdown",
   "metadata": {},
   "source": [
    "- ローカルスコープからグローバルスコープは｢参照｣はできるものの、｢変更｣はできない\n",
    "- ｢global文｣で変数を指定すると変更できるようになる"
   ]
  },
  {
   "cell_type": "code",
   "execution_count": 17,
   "metadata": {},
   "outputs": [
    {
     "name": "stdout",
     "output_type": "stream",
     "text": [
      "local:  0\n",
      "global:  0\n"
     ]
    }
   ],
   "source": [
    "# **** 準備１：｢中から外｣は参照はできる ****\n",
    "\n",
    "\n",
    "# 変数定義\n",
    "a = 0\n",
    "\n",
    "\n",
    "# 関数定義\n",
    "# --- グローバルスコープを参照\n",
    "def f():\n",
    "    print(\"local: \", a)\n",
    "\n",
    "\n",
    "# 関数実行\n",
    "f()\n",
    "print(\"global: \", a)\n"
   ]
  },
  {
   "cell_type": "code",
   "execution_count": 20,
   "metadata": {},
   "outputs": [
    {
     "name": "stdout",
     "output_type": "stream",
     "text": [
      "local:  1\n",
      "global:  0\n"
     ]
    }
   ],
   "source": [
    "# **** 準備２：｢中から外｣は変更できない ****\n",
    "\n",
    "\n",
    "# 変数定義\n",
    "a = 0\n",
    "\n",
    "\n",
    "# 関数定義\n",
    "# --- ローカルスコープで変数を新たに定義\n",
    "# --- グローバル変数を変更しているわけではない\n",
    "def f():\n",
    "    a = 1\n",
    "    print(\"local: \", a)\n",
    "\n",
    "\n",
    "# 関数実行\n",
    "f()\n",
    "print(\"global: \", a)\n"
   ]
  },
  {
   "cell_type": "code",
   "execution_count": 21,
   "metadata": {},
   "outputs": [
    {
     "name": "stdout",
     "output_type": "stream",
     "text": [
      "local:  1\n",
      "global:  1\n"
     ]
    }
   ],
   "source": [
    "# **** 本題：｢中から外｣は参照はできるが変更はできない ****\n",
    "\n",
    "\n",
    "# 変数定義\n",
    "a = 0\n",
    "\n",
    "\n",
    "# 関数定義\n",
    "# --- グローバル変数をローカルスコープに取り込み\n",
    "# --- 変数が変更可能となる\n",
    "def f():\n",
    "    global a\n",
    "    a = 1\n",
    "    print(\"local: \", a)\n",
    "\n",
    "\n",
    "# 確認\n",
    "f()\n",
    "\n",
    "# 確認\n",
    "# --- グローバルスコープの変数が変更されている\n",
    "print(\"global: \", a)\n"
   ]
  },
  {
   "cell_type": "markdown",
   "metadata": {},
   "source": [
    "### ローカルスコープ"
   ]
  },
  {
   "cell_type": "markdown",
   "metadata": {},
   "source": [
    "- ｢ローカルスコープ｣は、関数やクラスを定義することで形成される\n",
    "- クラスが階層的な構造を持つように、ローカルスコープはネストすることができる。"
   ]
  },
  {
   "cell_type": "code",
   "execution_count": 23,
   "metadata": {},
   "outputs": [
    {
     "data": {
      "text/plain": [
       "'Nina Myers'"
      ]
     },
     "execution_count": 23,
     "metadata": {},
     "output_type": "execute_result"
    }
   ],
   "source": [
    "# **** ローカルスコープの形成 ****\n",
    "\n",
    "class Person:\n",
    "    # \n",
    "    # Person クラスのローカルスコープ\n",
    "    #\n",
    "    def __init__(self, name, age, gender):\n",
    "        self.name = name\n",
    "        self.age = age\n",
    "        self.gender = gender\n",
    "        #\n",
    "        # __init__ 関数のローカルスコープ\n",
    "        #\n",
    "\n",
    "\n",
    "# インスタンスの生成\n",
    "person = Person('Nina Myers', 33, 'Female')\n",
    "person.name\n"
   ]
  },
  {
   "cell_type": "markdown",
   "metadata": {},
   "source": [
    "## import文"
   ]
  },
  {
   "cell_type": "markdown",
   "metadata": {},
   "source": [
    "### 2種類のインポート"
   ]
  },
  {
   "cell_type": "markdown",
   "metadata": {},
   "source": [
    "- インポートには｢絶対import｣と｢相対import｣の２種類がある\n",
    "- ｢絶対import｣とは、sys.pathを基準にライブラリを探索する（PEP8推奨）\n",
    "- ｢相対import｣とは、現在のモジュールの位置を基準にライブラリを探索する"
   ]
  },
  {
   "cell_type": "markdown",
   "metadata": {},
   "source": [
    "### ロード時の実行"
   ]
  },
  {
   "cell_type": "markdown",
   "metadata": {},
   "source": [
    "- 新しい機能を追加するためインポートでライブラリを取り込むが、インポートは最小限にとどめる必要がある\n",
    "- インポートする際にプログラムが実行されてしまうため重くなってしまう\n",
    "    - インポート時に実行されるのは1回目のみ\n",
    "    - 起動時間の7割はimportするモジュールのグローバルのPythonコードの実行"
   ]
  },
  {
   "cell_type": "code",
   "execution_count": 34,
   "metadata": {},
   "outputs": [
    {
     "name": "stdout",
     "output_type": "stream",
     "text": [
      "hello world\n"
     ]
    }
   ],
   "source": [
    "# **** ロード時にファイルが実行される ****\n",
    "\n",
    "# ＜sample.py＞\n",
    "# print(\"hello world\")\n",
    "\n",
    "\n",
    "import importlib\n",
    "\n",
    "\n",
    "# インポート\n",
    "# --- 2回目以降は再ロードでファイルを実行\n",
    "try:\n",
    "    importlib.reload(sample)\n",
    "except:\n",
    "    import sample\n"
   ]
  },
  {
   "cell_type": "markdown",
   "metadata": {},
   "source": [
    "### importの仕組み"
   ]
  },
  {
   "cell_type": "code",
   "execution_count": null,
   "metadata": {},
   "outputs": [],
   "source": []
  },
  {
   "cell_type": "markdown",
   "metadata": {
    "toc-hr-collapsed": true
   },
   "source": [
    "# 5 関数オブジェクト"
   ]
  },
  {
   "cell_type": "markdown",
   "metadata": {
    "toc-hr-collapsed": true
   },
   "source": [
    "## オブジェクトとしての関数"
   ]
  },
  {
   "cell_type": "markdown",
   "metadata": {},
   "source": [
    "### 関数の複製"
   ]
  },
  {
   "cell_type": "markdown",
   "metadata": {},
   "source": [
    "- ｢関数｣は数値や文字列と同様にオブジェクトの一種である（関数は第一級オブジェクト）\n",
    "- 関数を変数を代入して｢関数｣を作ることができる（代入しているので同じidを持つ）\n",
    "- 各関数は同じidを指しているが、オブジェクトとしては独立している"
   ]
  },
  {
   "cell_type": "code",
   "execution_count": 6,
   "metadata": {},
   "outputs": [
    {
     "name": "stdout",
     "output_type": "stream",
     "text": [
      "Hello\n",
      "Hello\n",
      "<class 'function'>\n",
      "<class 'function'>\n",
      "id = 2226385486440  :hello\n",
      "id = 2226385486440  :msg\n",
      "Hello\n",
      "hello\n"
     ]
    }
   ],
   "source": [
    "# **** 第一級オブジェクトとしての関数 ****\n",
    "\n",
    "# 関数定義\n",
    "def hello():\n",
    "    print(\"Hello\")\n",
    "\n",
    "# 関数を代入する\n",
    "# --- ()はつけない\n",
    "# --- 関数が第一級オブジェクトだから実行できる操作\n",
    "msg = hello\n",
    "\n",
    "\n",
    "# 関数実行\n",
    "# --- 代入した関数も同様の振舞いとなる\n",
    "hello()\n",
    "msg()\n",
    "\n",
    "# データ型の確認\n",
    "# --- 同じクラス\n",
    "print(type(hello))\n",
    "print(type(msg))\n",
    "\n",
    "# idの確認\n",
    "# --- 同じオブジェクト（代入しているため）\n",
    "print(\"id =\", id(hello), \" :hello\")\n",
    "print(\"id =\", id(msg), \" :msg\")\n",
    "\n",
    "# 元の関数を削除\n",
    "# --- 代入した関数はまだ実行できる\n",
    "del hello\n",
    "msg()\n",
    "\n",
    "# 関数の内部識別子\n",
    "# ---　\n",
    "print(msg.__name__)\n"
   ]
  },
  {
   "cell_type": "markdown",
   "metadata": {},
   "source": [
    "### 関数をリストに格納"
   ]
  },
  {
   "cell_type": "markdown",
   "metadata": {},
   "source": [
    "- ｢関数｣はオブジェクトなので、リストの中に関数を格納することもできる\n",
    "    - 他のオブジェクトと同様の操作が可能"
   ]
  },
  {
   "cell_type": "code",
   "execution_count": 7,
   "metadata": {},
   "outputs": [
    {
     "name": "stdout",
     "output_type": "stream",
     "text": [
      "[<function print_hello at 0x000002065EF46BF8>,\n",
      " <function print_bye at 0x000002065EF46F28>,\n",
      " <method 'lower' of 'str' objects>,\n",
      " <method 'capitalize' of 'str' objects>]\n",
      "Bye\n"
     ]
    }
   ],
   "source": [
    "# **** リストの中に関数を入れる ****\n",
    "\n",
    "import pprint\n",
    "\n",
    "# 関数定義\n",
    "def print_hello():\n",
    "    print(\"Hello\")\n",
    "\n",
    "# 関数定義\n",
    "def print_bye():\n",
    "    print(\"Bye\")\n",
    "\n",
    "\n",
    "# リストに格納\n",
    "var = [print_hello, print_bye, str.lower, str.capitalize]\n",
    "pprint.pprint(var)\n",
    "\n",
    "# 実行\n",
    "var[1]()\n"
   ]
  },
  {
   "cell_type": "markdown",
   "metadata": {},
   "source": [
    "### 関数を引数として渡す"
   ]
  },
  {
   "cell_type": "markdown",
   "metadata": {},
   "source": [
    "- 関数は｢オブジェクト｣なので、関数の引数に｢関数｣を渡すことができる\n",
    "    - 引数に渡す場合には関数名のみを渡す(カッコはいらない)\n",
    "    - 振舞い(関数)を引数として渡している\n",
    "- 内側関数によって外側関数の振舞いをコントロールすることができる\n",
    "     - 外側関数は内側関数に対して共通操作を行うことができる\n",
    "- ｢内側関数｣は｢外側関数｣と同じ名前空間にいる\n",
    "    - 次の｢関数内関数｣では、｢内側関数｣の名前空間に｢別の関数｣を定義している"
   ]
  },
  {
   "cell_type": "code",
   "execution_count": 8,
   "metadata": {},
   "outputs": [
    {
     "name": "stdout",
     "output_type": "stream",
     "text": [
      "Thank You\n"
     ]
    }
   ],
   "source": [
    "# **** 戻り値がない場合 ****\n",
    "\n",
    "# 関数定義1\n",
    "# --- do関数：受け取った引数(関数)を実行する\n",
    "def do(func):\n",
    "    func()\n",
    "\n",
    "# 関数定義2\n",
    "# --- do関数に渡す関数\n",
    "def thanks():\n",
    "    print(\"Thank You\")\n",
    "\n",
    "# 実行\n",
    "do(thanks)\n"
   ]
  },
  {
   "cell_type": "code",
   "execution_count": 10,
   "metadata": {},
   "outputs": [
    {
     "name": "stdout",
     "output_type": "stream",
     "text": [
      "price_child = 1200円\n",
      "price_adult = 4800円\n"
     ]
    }
   ],
   "source": [
    "# **** 戻り値がある場合 ****\n",
    "\n",
    "\n",
    "# 関数定義：外側\n",
    "# --- 内側関数を呼び出す\n",
    "# --- ｢円｣をつける\n",
    "def calc(func, arg):\n",
    "    price = func(arg)\n",
    "    return str(price) + '円'\n",
    "\n",
    "\n",
    "# 関数定義：内側\n",
    "# --- 単価が定義されていて価格が算出される\n",
    "def child(arg):\n",
    "    return 400 * arg\n",
    "\n",
    "\n",
    "# 関数定義：内側\n",
    "# --- 単価が定義されていて価格が算出される\n",
    "def adult(arg):\n",
    "    return 1200 * arg\n",
    "\n",
    "\n",
    "# 関数実行\n",
    "price_child = calc(child, 3)\n",
    "price_adult = calc(adult, 4)\n",
    "\n",
    "# 確認\n",
    "print('price_child =', price_child)\n",
    "print('price_adult =', price_adult)\n"
   ]
  },
  {
   "cell_type": "markdown",
   "metadata": {},
   "source": [
    "## 関数内関数"
   ]
  },
  {
   "cell_type": "markdown",
   "metadata": {},
   "source": [
    "### 基本動作"
   ]
  },
  {
   "cell_type": "markdown",
   "metadata": {},
   "source": [
    "- ｢関数内関数｣とは、関数の中(関数が形成する名前空間の中)に関数を定義すること\n",
    "    - 関数の中で共通する処理をまとめる際などに使う\n",
    "    - 引数で外部から関数を受け取るのではなく、関数内で関数を定義するのがポイント\n",
    "    - ｢クロージャー｣や｢デコレーター｣などの基礎となる考え方\n",
    "- 関数内に関数を定義して、戻り値として返すことができる\n",
    "    - 関数としての振舞いを引数で渡す（引数に関数を渡す）\n",
    "    - 関数としての振舞いを戻り値として返す（関数内関数）\n",
    "- 引数に明示的に関数を指定する必要がないので、外側から与えた条件に応じて関数を選択することができる\n",
    "- [参考資料：関数内関数](https://codor.co.jp/python/nested-function)"
   ]
  },
  {
   "cell_type": "code",
   "execution_count": 11,
   "metadata": {},
   "outputs": [
    {
     "name": "stdout",
     "output_type": "stream",
     "text": [
      "r1 =  3\n",
      "r2 =  3\n",
      "r1 + r2 =  6\n"
     ]
    }
   ],
   "source": [
    "# **** 関数内関数の基本動作 ****\n",
    "\n",
    "# 関数定義\n",
    "def outer(a, b):\n",
    "    \n",
    "    # 関数内関数\n",
    "    def inner(c, d):\n",
    "        return c + d\n",
    "    \n",
    "    # outer関数から受け取った引数を使ってinner関数を実行\n",
    "    r1 = inner(a, b)\n",
    "    r2 = inner(b, a)\n",
    "    \n",
    "    # 確認\n",
    "    print('r1 = ', r1)\n",
    "    print('r2 = ', r2)\n",
    "    print('r1 + r2 = ', r1 + r2)\n",
    "\n",
    "\n",
    "# 実行\n",
    "outer(1, 2)\n"
   ]
  },
  {
   "cell_type": "markdown",
   "metadata": {},
   "source": [
    "### 関数内関数を戻り値とする"
   ]
  },
  {
   "cell_type": "markdown",
   "metadata": {},
   "source": [
    "- 関数内関数を戻り値として返すことも可能\n",
    "- 外側関数は内側関数を戻り値として受けて、内側関数の振舞いを行う関数となる\n",
    "    - デバッガーを入れて動作を確認しないと理解しにくい\n",
    "    - ｢Special Variables｣を選択して、関数オブジェクトの動きに注目"
   ]
  },
  {
   "cell_type": "code",
   "execution_count": 27,
   "metadata": {},
   "outputs": [
    {
     "name": "stdout",
     "output_type": "stream",
     "text": [
      "<function get_speak_func.<locals>.murmur at 0x0000023AF578CF28>\n",
      "<function get_speak_func.<locals>.yell at 0x0000023AB7B86AE8>\n"
     ]
    },
    {
     "data": {
      "text/plain": [
       "'HELLO!'"
      ]
     },
     "execution_count": 27,
     "metadata": {},
     "output_type": "execute_result"
    }
   ],
   "source": [
    "# **** 条件に応じて関数を実行 ****\n",
    "\n",
    "# 関数定義\n",
    "# --- volumeの水準によって戻り値の関数が異なる\n",
    "def get_speak_func(volume):\n",
    "    def murmur(text):\n",
    "        return text.lower() + '...'\n",
    "\n",
    "    def yell(text):\n",
    "        return text.upper() + '!'\n",
    "\n",
    "    if volume > 0.5:\n",
    "        return yell\n",
    "    else:\n",
    "        return murmur\n",
    "\n",
    "\n",
    "# 関数オブジェクト\n",
    "# --- 条件に応じて実行する関数内関数が選択される\n",
    "# --- return文で関数を返しているので戻り値は関数となる\n",
    "print(get_speak_func(0.3))\n",
    "print(get_speak_func(0.7))\n",
    "\n",
    "\n",
    "# 関数実行\n",
    "speak_func = get_speak_func(0.7)\n",
    "speak_func('Hello')"
   ]
  },
  {
   "cell_type": "markdown",
   "metadata": {},
   "source": [
    "### 関数のローカル状態の取得"
   ]
  },
  {
   "cell_type": "markdown",
   "metadata": {},
   "source": [
    "- 関数内関数は外側の関数の状態の一部を取得して保持することができる（状態を記憶している）\n",
    "    - 関数内関数は定義時に外側の関数のスコープの状態を記憶している\n",
    "- 関数の以下の２つの性質により、ローカル状態の取得が可能となる\n",
    "    1. 外側のスコープの参照が可能\n",
    "    2. 関数オブジェクトが独立して生成\n",
    "- 関数内関数の振舞いをするだけでなく、振舞いの一部を事前に外側関数に設定することができる\n",
    "    - ｢クロージャ｣の振舞い（｢クロージャ｣は文法ではなく性質を示すもの）"
   ]
  },
  {
   "cell_type": "code",
   "execution_count": 28,
   "metadata": {},
   "outputs": [
    {
     "data": {
      "text/plain": [
       "'HELLO WORLD!'"
      ]
     },
     "execution_count": 28,
     "metadata": {},
     "output_type": "execute_result"
    }
   ],
   "source": [
    "# **** 関数のローカル状態の取得 ****\n",
    "\n",
    "# 関数定義\n",
    "# --- murmur()とyell()の中のtextはなぜ値を記憶しているのか？\n",
    "def get_speak_func(text, volume):\n",
    "    def murmur():\n",
    "        return text.lower() + '...'\n",
    "\n",
    "    def yell():\n",
    "        return text.upper() + '!'\n",
    "\n",
    "    if volume > 0.5:\n",
    "        return yell\n",
    "    else:\n",
    "        return murmur\n",
    "\n",
    "\n",
    "# 関数実行\n",
    "# --- 右側のカッコは関数実行のカッコ\n",
    "get_speak_func('Hello World', 0.7)()\n"
   ]
  },
  {
   "cell_type": "code",
   "execution_count": 30,
   "metadata": {},
   "outputs": [
    {
     "name": "stdout",
     "output_type": "stream",
     "text": [
      "<function make_adder.<locals>.add at 0x0000023AB7CC4840>\n",
      "<function make_adder.<locals>.add at 0x0000023AB7CC4EA0>\n",
      "7\n",
      "9\n"
     ]
    }
   ],
   "source": [
    "# **** 関数内関数の基本動作 ****\n",
    "\n",
    "\n",
    "# 関数定義\n",
    "def make_adder(n):\n",
    "    def add(x):\n",
    "        return x + n\n",
    "    return add\n",
    "\n",
    "\n",
    "# 関数の再定義\n",
    "# --- 外側関数でスコープに状態を与える\n",
    "plus_3 = make_adder(n=3)\n",
    "plus_5 = make_adder(n=5)\n",
    "\n",
    "# 確認\n",
    "# --- 関数オブジェクト\n",
    "print(plus_3)\n",
    "print(plus_5)\n",
    "\n",
    "# 関数実行\n",
    "print(plus_3(x=4))\n",
    "print(plus_5(x=4))\n"
   ]
  },
  {
   "cell_type": "markdown",
   "metadata": {},
   "source": [
    "### 関数のように振る舞うオブジェクト"
   ]
  },
  {
   "cell_type": "markdown",
   "metadata": {},
   "source": [
    "- オブジェクト(クラス)を｢呼び出し可能｣にすると多くの場合に関数のように扱うことができる\n",
    "    - アンダーメソッドの`__call__`をクラスに追加する（return文をつける）\n",
    "    - ｢呼び出し可能｣となると、関数の呼び出し構文である`()`が使用可能となる"
   ]
  },
  {
   "cell_type": "code",
   "execution_count": 1,
   "metadata": {},
   "outputs": [
    {
     "name": "stdout",
     "output_type": "stream",
     "text": [
      "7\n",
      "True\n"
     ]
    }
   ],
   "source": [
    "# **** 関数のように振る舞うオブジェクト ****\n",
    "\n",
    "# クラス定義\n",
    "class Adder:\n",
    "    def __init__(self, n):\n",
    "        self.n = n\n",
    "\n",
    "    def __call__(self, x):\n",
    "        return self.n + x\n",
    "\n",
    "\n",
    "# インスタンス生成\n",
    "plus_3 = Adder(3)\n",
    "\n",
    "# オブジェクトの呼び出し\n",
    "print(plus_3(4))\n",
    "\n",
    "# 判定\n",
    "# --- 呼び出し可能なオブジェクトか？\n",
    "print(callable(plus_3))\n"
   ]
  },
  {
   "cell_type": "markdown",
   "metadata": {
    "toc-hr-collapsed": true
   },
   "source": [
    "## 高階関数"
   ]
  },
  {
   "cell_type": "markdown",
   "metadata": {},
   "source": [
    "### はじめに"
   ]
  },
  {
   "cell_type": "markdown",
   "metadata": {},
   "source": [
    "- 広義の高階関数は｢関数を引数にとることができる関数｣のことをいう\n",
    "- 狭義の高階関数は｢map｣｢filter｣｢reduce｣の３種類を指すことが多い（多言語でも実装されていることが多い）\n",
    "- ここでは、｢狭義の高階関数｣の動作を確認する（map以外は利用頻度は少ない）"
   ]
  },
  {
   "cell_type": "markdown",
   "metadata": {},
   "source": [
    "### map"
   ]
  },
  {
   "cell_type": "markdown",
   "metadata": {},
   "source": [
    "- map関数を使うと各要素に任意の関数を適用することができる（適用関数は戻り値を持つ関数であることが前提）\n",
    "- map関数の結果はmapオブジェクトに格納され、リストにする場合にはlist関数を適用する必要がある"
   ]
  },
  {
   "cell_type": "code",
   "execution_count": 10,
   "metadata": {},
   "outputs": [
    {
     "name": "stdout",
     "output_type": "stream",
     "text": [
      "<map object at 0x000001E02E47C2E8>\n",
      "[1, 4, 9, 16, 25, 36, 49, 64, 81, 100]\n"
     ]
    }
   ],
   "source": [
    "# **** map関数をリストに適用 ****\n",
    "\n",
    "#リスト定義\n",
    "raw = [1, 2, 3, 4, 5, 6, 7, 8, 9, 10]\n",
    "\n",
    "# map関数\n",
    "# --- ラムダ式をリスト要素に逐次的に適用するループ処理\n",
    "# --- 結果はmapオブジェクトに格納される\n",
    "x = map(lambda x: x ** 2 , raw)\n",
    "\n",
    "# リストに出力\n",
    "mapped = list(x)\n",
    "\n",
    "# 確認\n",
    "print(x)\n",
    "print(mapped)\n"
   ]
  },
  {
   "cell_type": "code",
   "execution_count": 11,
   "metadata": {},
   "outputs": [
    {
     "name": "stdout",
     "output_type": "stream",
     "text": [
      "<map object at 0x000001E02E47C710>\n",
      "['name, Ichiro', 'age, 18', 'country, japan']\n"
     ]
    }
   ],
   "source": [
    "# **** map関数をディクショナリに適用 ****\n",
    "\n",
    "# ディクショナリの定義\n",
    "raw = {'name': 'Ichiro', 'age': '18', 'country': 'japan'}\n",
    "\n",
    "# map関数\n",
    "# --- ラムダ式をリスト要素に逐次的に適用するループ処理\n",
    "# --- 結果はmapオブジェクトに格納される\n",
    "x = map(lambda x: x + ', ' + raw.get(x) , raw)\n",
    "\n",
    "# リストに出力\n",
    "mapped = list(x)\n",
    "\n",
    "# 確認\n",
    "print(x)\n",
    "print(mapped)\n"
   ]
  },
  {
   "cell_type": "code",
   "execution_count": 9,
   "metadata": {},
   "outputs": [
    {
     "name": "stdout",
     "output_type": "stream",
     "text": [
      "[1, 4, 9, 16, 25, 36, 49, 64, 81, 100]\n"
     ]
    }
   ],
   "source": [
    "# **** 参考：リスト内包表記による実行 ****\n",
    "\n",
    "# リスト定義\n",
    "raw = [1, 2, 3, 4, 5, 6, 7, 8, 9, 10]\n",
    "\n",
    "# リスト内包表記によるループ処理\n",
    "mapped = [x**2 for x in raw]\n",
    "\n",
    "# 確認\n",
    "print(mapped)\n"
   ]
  },
  {
   "cell_type": "code",
   "execution_count": 8,
   "metadata": {},
   "outputs": [
    {
     "name": "stdout",
     "output_type": "stream",
     "text": [
      "[1, 4, 9, 16, 25, 36, 49, 64, 81, 100]\n"
     ]
    }
   ],
   "source": [
    "# **** 参考：for文による実行 ****\n",
    "\n",
    "# リスト定義\n",
    "raw = [1, 2, 3, 4, 5, 6, 7, 8, 9, 10]\n",
    "mapped = []\n",
    "\n",
    "# for文によるループ処理\n",
    "for x in raw:\n",
    "    mapped.append(x ** 2)\n",
    "\n",
    "# 確認\n",
    "print(mapped)\n"
   ]
  },
  {
   "cell_type": "markdown",
   "metadata": {},
   "source": [
    "### filter"
   ]
  },
  {
   "cell_type": "markdown",
   "metadata": {},
   "source": [
    "- filter()を使うとfor文+if文と同じ処理が可能となる\n",
    "- filter()に渡す関数は条件文(True/Falseを返す)であることが前提となる\n",
    "- filter()の結果はfilterオブジェクトに格納される"
   ]
  },
  {
   "cell_type": "code",
   "execution_count": 15,
   "metadata": {},
   "outputs": [
    {
     "name": "stdout",
     "output_type": "stream",
     "text": [
      "<filter object at 0x000001E02E47CF60>\n",
      "[2, 4, 6, 8, 10]\n"
     ]
    }
   ],
   "source": [
    "# **** filter関数の処理の実行 ****\n",
    "\n",
    "# リスト定義\n",
    "raw = [1, 2, 3, 4, 5, 6, 7, 8, 9, 10]\n",
    "\n",
    "# filter関数\n",
    "# --- ラムダ式の条件に従ってリスト要素を逐次的に抽出するループ処理\n",
    "# --- 結果はfilterオブジェクトに格納される\n",
    "x = filter(lambda x: x % 2 == 0, raw)\n",
    "\n",
    "# リストに出力\n",
    "filtered = list(x)\n",
    "\n",
    "# 確認\n",
    "print(x)\n",
    "print(filtered)\n"
   ]
  },
  {
   "cell_type": "code",
   "execution_count": 16,
   "metadata": {},
   "outputs": [
    {
     "name": "stdout",
     "output_type": "stream",
     "text": [
      "[2, 4, 6, 8, 10]\n"
     ]
    }
   ],
   "source": [
    "# **** 参考：for文の処理の実行 ****\n",
    "\n",
    "# リスト定義\n",
    "raw = [1, 2, 3, 4, 5, 6, 7, 8, 9, 10]\n",
    "mapped = []\n",
    "\n",
    "# for文によるループ処理\n",
    "for x in raw:\n",
    "    if x % 2 == 0:\n",
    "        mapped.append(x)\n",
    "\n",
    "# 確認\n",
    "print(mapped)\n"
   ]
  },
  {
   "cell_type": "code",
   "execution_count": 36,
   "metadata": {},
   "outputs": [
    {
     "name": "stdout",
     "output_type": "stream",
     "text": [
      "[2, 4, 6, 8, 10]\n"
     ]
    }
   ],
   "source": [
    "# **** 参考：リスト内包表記の実行 ****\n",
    "\n",
    "# リスト定義\n",
    "raw = [1, 2, 3, 4, 5, 6, 7, 8, 9, 10]\n",
    "\n",
    "# リスト内包表記によるループ処理\n",
    "mapped = [x for x in raw if x % 2 == 0]\n",
    "\n",
    "# 確認\n",
    "print(mapped)"
   ]
  },
  {
   "cell_type": "markdown",
   "metadata": {},
   "source": [
    "### reduce"
   ]
  },
  {
   "cell_type": "markdown",
   "metadata": {},
   "source": [
    "- 全ての要素に逐次的に関数を適用して最終値を出力する\n",
    "- reduce()に渡す関数は２つの引数を持つことが前提となる\n",
    "- Python3からreduce関数は組込関数からfunctoolsモジュールに移動されたため宣言が必要"
   ]
  },
  {
   "cell_type": "code",
   "execution_count": 40,
   "metadata": {},
   "outputs": [
    {
     "name": "stdout",
     "output_type": "stream",
     "text": [
      "55\n"
     ]
    }
   ],
   "source": [
    "# **** reduce関数の処理の実行 ****\n",
    "\n",
    "from functools import reduce\n",
    "\n",
    "# リスト定義\n",
    "raw = [1, 2, 3, 4, 5, 6, 7, 8, 9, 10]\n",
    "\n",
    "# filter関数+ラムダ式によるループ処理\n",
    "reduced = reduce(lambda x, y: x + y, raw)\n",
    "\n",
    "# 確認\n",
    "print(reduced)"
   ]
  },
  {
   "cell_type": "markdown",
   "metadata": {},
   "source": [
    "### リスト内包表記による代用"
   ]
  },
  {
   "cell_type": "markdown",
   "metadata": {},
   "source": [
    "- リストから新しいリストを作るという観点では、｢map関数｣より｢リスト内包表記｣の方がスマート\n",
    "- map関数はmapオブジェクトを返す（リストを直接返さない）\n",
    "- map関数はたいていラムダ式を伴う（ラムダ式は煩雑さを伴う）\n",
    "- リスト内包表記はfilter関数などの操作も直感的に記述できる"
   ]
  },
  {
   "cell_type": "markdown",
   "metadata": {},
   "source": [
    "- 参考：Effective Python 項目7"
   ]
  },
  {
   "cell_type": "code",
   "execution_count": 12,
   "metadata": {},
   "outputs": [
    {
     "name": "stdout",
     "output_type": "stream",
     "text": [
      "[1, 4, 9, 16, 25, 36, 49, 64, 81, 100]\n"
     ]
    }
   ],
   "source": [
    "# **** 新しいリストを定義：map関数 ****\n",
    "\n",
    "#リスト定義\n",
    "raw = [1, 2, 3, 4, 5, 6, 7, 8, 9, 10]\n",
    "\n",
    "# map関数\n",
    "xx = list(map(lambda x: x ** 2 , raw))\n",
    "\n",
    "# 確認\n",
    "print(xx)\n"
   ]
  },
  {
   "cell_type": "code",
   "execution_count": 14,
   "metadata": {},
   "outputs": [
    {
     "name": "stdout",
     "output_type": "stream",
     "text": [
      "[1, 4, 9, 16, 25, 36, 49, 64, 81, 100]\n"
     ]
    }
   ],
   "source": [
    "# **** 新しいリストを定義：リスト内包表記（推奨） ****\n",
    "\n",
    "# リスト定義\n",
    "raw = [1, 2, 3, 4, 5, 6, 7, 8, 9, 10]\n",
    "\n",
    "# リスト内包表記によるループ処理\n",
    "xx = [x**2 for x in raw]\n",
    "\n",
    "# 確認\n",
    "print(xx)\n"
   ]
  },
  {
   "cell_type": "code",
   "execution_count": 19,
   "metadata": {},
   "outputs": [
    {
     "name": "stdout",
     "output_type": "stream",
     "text": [
      "[2, 4, 6, 8, 10]\n"
     ]
    }
   ],
   "source": [
    "# **** リストから要素を抽出：map関数 ****\n",
    "\n",
    "# リスト定義\n",
    "raw = [1, 2, 3, 4, 5, 6, 7, 8, 9, 10]\n",
    "\n",
    "# filter関数\n",
    "xx = list(filter(lambda x: x % 2 == 0, raw))\n",
    "\n",
    "# 確認\n",
    "print(xx)\n"
   ]
  },
  {
   "cell_type": "code",
   "execution_count": 18,
   "metadata": {},
   "outputs": [
    {
     "name": "stdout",
     "output_type": "stream",
     "text": [
      "[2, 4, 6, 8, 10]\n"
     ]
    }
   ],
   "source": [
    "# **** リストから要素を抽出：リスト内包表記（推奨） ****\n",
    "\n",
    "# リスト定義\n",
    "raw = [1, 2, 3, 4, 5, 6, 7, 8, 9, 10]\n",
    "\n",
    "# リスト内包表記によるループ処理\n",
    "xx = [x for x in raw if x % 2 == 0]\n",
    "\n",
    "# 確認\n",
    "print(xx)\n"
   ]
  },
  {
   "cell_type": "markdown",
   "metadata": {
    "toc-hr-collapsed": false
   },
   "source": [
    "## ラムダ式(無名関数)"
   ]
  },
  {
   "cell_type": "markdown",
   "metadata": {},
   "source": [
    "### ラムダ式とは"
   ]
  },
  {
   "cell_type": "markdown",
   "metadata": {},
   "source": [
    "- `lambda`は無名関数を定義するためのショートカットだが、実際に名前(関数名)をつけると関数オブジェクトとなる\n",
    "    - 通常の関数より少しスッキリかけるが、振舞いは通常関数と同様\n",
    "    - ラムダ式は関数名をつけることが推奨されない（関数オブジェクトを生成しない）\n",
    "- ラムダ式は通常は関数オブジェクトの｢関数(名前)｣を生成しないで使用する"
   ]
  },
  {
   "cell_type": "code",
   "execution_count": 13,
   "metadata": {},
   "outputs": [
    {
     "name": "stdout",
     "output_type": "stream",
     "text": [
      "8\n",
      "8\n"
     ]
    }
   ],
   "source": [
    "# **** 関数オブジェクトの名前を生成する場合 ****\n",
    "\n",
    "# 関数定義\n",
    "# --- ラムダ式\n",
    "add_l = lambda x, y: x + y\n",
    "\n",
    "\n",
    "# 関数定義\n",
    "# --- 通常関数\n",
    "def add_f(x, y):\n",
    "    return x + y\n",
    "\n",
    "\n",
    "# 関数実行\n",
    "print(add_l(5, 3))\n",
    "print(add_f(5, 3))\n"
   ]
  },
  {
   "cell_type": "code",
   "execution_count": 14,
   "metadata": {},
   "outputs": [
    {
     "name": "stdout",
     "output_type": "stream",
     "text": [
      "8\n"
     ]
    }
   ],
   "source": [
    "# **** 関数オブジェクトの名前を生成しない場合 ****\n",
    "\n",
    "# 関数定義＆実行\n",
    "# --- ラムダ式\n",
    "(lambda x, y: x + y)(5, 3)\n",
    "print(ans)\n"
   ]
  },
  {
   "cell_type": "markdown",
   "metadata": {},
   "source": [
    "### ラムダ式の用途"
   ]
  },
  {
   "cell_type": "markdown",
   "metadata": {},
   "source": [
    "- 関数オブジェクトの提供が期待されている場合はどこでも使用できる\n",
    "- Pythonで関数を定義するための便利なショートカットキーとして使うことが多い\n",
    "- sorted関数のkey引数の例を挙げる"
   ]
  },
  {
   "cell_type": "code",
   "execution_count": 19,
   "metadata": {},
   "outputs": [
    {
     "name": "stdout",
     "output_type": "stream",
     "text": [
      "[(1, 'd'), (2, 'b'), (3, 'c'), (4, 'a')]\n",
      "[(4, 'a'), (2, 'b'), (3, 'c'), (1, 'd')]\n",
      "[1, -2, 3, -4, 5]\n"
     ]
    }
   ],
   "source": [
    "# **** 単純な並び順の指定 *****\n",
    "\n",
    "# オブジェクト定義\n",
    "tuples = [(1, 'd'), (2, 'b'), (4, 'a'), (3, 'c')]\n",
    "lists = [-2 , 3, 1, -4, 5]\n",
    "\n",
    "# 1番目の要素で並び替え\n",
    "a = sorted(tuples, key=lambda x: x[0])\n",
    "print(a)\n",
    "\n",
    "# 2番目の要素で並び替え\n",
    "b = sorted(tuples, key=lambda x: x[1])\n",
    "print(b)\n",
    "\n",
    "# 絶対値で並び替え\n",
    "c = sorted(lists, key=lambda x: abs(x))\n",
    "print(c)\n"
   ]
  },
  {
   "cell_type": "markdown",
   "metadata": {},
   "source": [
    "### クロージャーとしてのラムダ"
   ]
  },
  {
   "cell_type": "markdown",
   "metadata": {},
   "source": [
    "- 通常の関数と同様に関数内関数をクロージャーとして機能させることができる\n",
    "- 関数の名前は定義されないが、関数オブジェクトとしての機能は通常の関数と同様"
   ]
  },
  {
   "cell_type": "code",
   "execution_count": 21,
   "metadata": {},
   "outputs": [
    {
     "name": "stdout",
     "output_type": "stream",
     "text": [
      "7\n",
      "9\n"
     ]
    }
   ],
   "source": [
    "# **** クロージャーとしてのラムダ *****\n",
    "\n",
    "# 関数定義\n",
    "def make_adder(n):\n",
    "    return lambda x: x + n\n",
    "\n",
    "\n",
    "# 関数再定義\n",
    "# --- クロージャー\n",
    "plus_3 = make_adder(3)\n",
    "plus_5 = make_adder(5)\n",
    "\n",
    "# 関数実行\n",
    "print(plus_3(4))\n",
    "print(plus_5(4))\n"
   ]
  },
  {
   "cell_type": "markdown",
   "metadata": {},
   "source": [
    "### ラムダの使用がベストかは要検討"
   ]
  },
  {
   "cell_type": "markdown",
   "metadata": {},
   "source": [
    "- ラムダ式で複雑な処理をしていると思ったら、通常の関数を定義することを検討する"
   ]
  },
  {
   "cell_type": "code",
   "execution_count": 22,
   "metadata": {},
   "outputs": [
    {
     "name": "stdout",
     "output_type": "stream",
     "text": [
      "[0, 2, 4, 6, 8, 10, 12, 14]\n",
      "[0, 2, 4, 6, 8, 10, 12, 14]\n"
     ]
    }
   ],
   "source": [
    "# **** ケース２：高階関数 + ラムダ式 ****\n",
    "\n",
    "# 高階関数 + ラムダ式\n",
    "# --- 少し複雑（前から読んでわかりにくい）\n",
    "a = list(filter(lambda x: x % 2 == 0, range(16)))\n",
    "print(a)\n",
    "\n",
    "# リスト内包表記\n",
    "# --- クリーン\n",
    "b = [x for x in range(16) if x % 2 == 0]\n",
    "print(b)"
   ]
  },
  {
   "cell_type": "markdown",
   "metadata": {},
   "source": [
    "### 単純なケース"
   ]
  },
  {
   "cell_type": "markdown",
   "metadata": {},
   "source": [
    "- ラムダ式を用いることで関数内関数を簡略化できることがある\n",
    "- 関数定義を都度変更したい場合に、def文で関数定義せずにコンパクトな記述で済むというのがメリット"
   ]
  },
  {
   "cell_type": "code",
   "execution_count": 8,
   "metadata": {},
   "outputs": [
    {
     "name": "stdout",
     "output_type": "stream",
     "text": [
      "--- 子関数を引数として渡す ---\n",
      "Mon\n",
      "Tue\n",
      "Wed\n",
      "Thu\n",
      "Fri\n",
      "Sat\n",
      "Sun\n",
      "--- 子関数をラムダ式で代替して渡す ---\n",
      "Mon\n",
      "Tue\n",
      "Wed\n",
      "Thu\n",
      "Fri\n",
      "Sat\n",
      "Sun\n"
     ]
    }
   ],
   "source": [
    "# **** 単純なケース ****\n",
    "\n",
    "# 準備\n",
    "# --- 先頭が大文字でないものが含まれる\n",
    "l = ['Mon', 'tue', 'Wed', 'Thu', 'fri', 'sat', 'Sun']\n",
    "\n",
    "# 親関数\n",
    "# --- 子関数を引数で受け取って文字列に適用\n",
    "def change_words(words, func):\n",
    "    for word in words:\n",
    "        print(func(word))\n",
    "\n",
    "# 子関数\n",
    "# --- 先頭を大文字に変換\n",
    "def sample_func(word):\n",
    "    return word.capitalize()\n",
    "\n",
    "# 関数実行\n",
    "print(\"--- 子関数を引数として渡す ---\")\n",
    "change_words(l, sample_func)\n",
    "\n",
    "\n",
    "# 関数実行\n",
    "print(\"--- 子関数をラムダ式で代替して渡す ---\")\n",
    "change_words(l, lambda x: x.capitalize())"
   ]
  },
  {
   "cell_type": "markdown",
   "metadata": {},
   "source": [
    "### 条件文を含むケース"
   ]
  },
  {
   "cell_type": "markdown",
   "metadata": {},
   "source": [
    "- if文を三項演算子を用いるとラムダ式でも条件分の表現が可能となる\n",
    "- １行で記述することを考えると、条件文の場合は通常の関数定義を用いるほうがよい"
   ]
  },
  {
   "cell_type": "code",
   "execution_count": 7,
   "metadata": {},
   "outputs": [
    {
     "name": "stdout",
     "output_type": "stream",
     "text": [
      "--- 子関数を関数で定義 ---\n",
      "Mon\n",
      "Tue\n",
      "Wed\n",
      "Thu\n",
      "Fri\n",
      "Sat\n",
      "Sun\n",
      "--- 子関数をラムダ式で定義 ---\n",
      "Mon\n",
      "Tue\n",
      "Wed\n",
      "Thu\n",
      "Fri\n",
      "Sat\n",
      "Sun\n"
     ]
    }
   ],
   "source": [
    "# **** 条件文を含むケース ****\n",
    "\n",
    "# 準備\n",
    "# --- 先頭が大文字でないものが含まれる\n",
    "l = ['mon', 'Tue', 'Wed', 'Thu', 'Fri', 'Sat', 'Sun']\n",
    "\n",
    "# 親関数\n",
    "# --- 子関数を引数で受け取って文字列に適用\n",
    "def change_words(words, func):\n",
    "    for word in words:\n",
    "        print(func(word))\n",
    "\n",
    "# 子関数\n",
    "# --- 通常の関数定義\n",
    "# --- 先頭を大文字に変換\n",
    "def sample_func(word):\n",
    "    if word[0] == \"m\":\n",
    "        return word.capitalize()\n",
    "    else:\n",
    "        return word\n",
    "\n",
    "# 関数実行\n",
    "print(\"--- 子関数を関数で定義 ---\")\n",
    "change_words(l, sample_func)\n",
    "\n",
    "\n",
    "# 関数実行\n",
    "print(\"--- 子関数をラムダ式で定義 ---\")\n",
    "change_words(l, lambda x: x.capitalize() if x[0] == \"m\" else x)"
   ]
  },
  {
   "cell_type": "markdown",
   "metadata": {},
   "source": [
    "### 複数の引数を持つケース"
   ]
  },
  {
   "cell_type": "markdown",
   "metadata": {},
   "source": [
    "- ラムダ式は通常の関数と同様に複数の引数を持つことができる"
   ]
  },
  {
   "cell_type": "code",
   "execution_count": 13,
   "metadata": {},
   "outputs": [
    {
     "name": "stdout",
     "output_type": "stream",
     "text": [
      "--- 子関数を関数で定義 ---\n",
      "mon\n",
      "tue\n",
      "wed\n",
      "thu\n",
      "fri\n",
      "Sat\n",
      "Sun\n",
      "--- 子関数をラムダ式で定義 ---\n",
      "mon\n",
      "tue\n",
      "wed\n",
      "thu\n",
      "fri\n",
      "Sat\n",
      "Sun\n"
     ]
    }
   ],
   "source": [
    "# **** 複数の引数を持つケース ****\n",
    "\n",
    "# 準備\n",
    "# --- 先頭が大文字でないものが含まれる\n",
    "l = ['mon', 'tue', 'wed', 'thu', 'fri', 'sat', 'sun']\n",
    "\n",
    "# 親関数\n",
    "# --- 子関数を引数で受け取って文字列に適用\n",
    "def change_words(words, start, func):\n",
    "    for word in words:\n",
    "        print(func(word, start))\n",
    "\n",
    "# 子関数\n",
    "# --- 通常の関数定義\n",
    "# --- 先頭を大文字に変換\n",
    "def sample_func(word, starts):\n",
    "    if word[0] == starts:\n",
    "        return word.capitalize()\n",
    "    else:\n",
    "        return word\n",
    "\n",
    "# 関数実行\n",
    "print(\"--- 子関数を関数で定義 ---\")\n",
    "change_words(l, \"s\", sample_func)\n",
    "\n",
    "\n",
    "# 関数実行\n",
    "print(\"--- 子関数をラムダ式で定義 ---\")\n",
    "change_words(l, \"s\", lambda x, y: x.capitalize() if x[0] == y else x)"
   ]
  },
  {
   "cell_type": "markdown",
   "metadata": {
    "toc-hr-collapsed": true
   },
   "source": [
    "# 6 ジェネレータ関数"
   ]
  },
  {
   "cell_type": "markdown",
   "metadata": {
    "toc-hr-collapsed": false
   },
   "source": [
    "## はじめに"
   ]
  },
  {
   "cell_type": "markdown",
   "metadata": {},
   "source": [
    "### ジェネレータ関数とは"
   ]
  },
  {
   "cell_type": "markdown",
   "metadata": {},
   "source": [
    "- ｢ジェネレータ関数｣とは、ジェネレータというオブジェクトを生成するための関数をいう\n",
    "- ジェネレータは、｢イテレータ｣｢｢ジェネレータ・イテレータ｣と呼ばれることもある\n",
    "- ジェネレータ関数は、関数にreturn文ではなくyield文を持つ\n",
    "- 以降では、ジェネレータ関数を｢イテレータを戻り値とする関数｣と定義して考える"
   ]
  },
  {
   "cell_type": "code",
   "execution_count": 11,
   "metadata": {},
   "outputs": [
    {
     "name": "stdout",
     "output_type": "stream",
     "text": [
      "<class 'function'>\n"
     ]
    }
   ],
   "source": [
    "# **** ジェネレータ関数のイメージ ****\n",
    "\n",
    "\n",
    "# ジェネレータ関数の定義\n",
    "# --- returnの代わりにyieldを使う\n",
    "def sample_generator():\n",
    "    yield 'first'\n",
    "    yield 'second'\n",
    "    yield 'third'\n",
    "\n",
    "\n",
    "# データ型の確認\n",
    "# --- ジェネレータ関数自体はただの関数\n",
    "print(type(sample_generator))\n"
   ]
  },
  {
   "cell_type": "markdown",
   "metadata": {},
   "source": [
    "### ジェネレータの生成"
   ]
  },
  {
   "cell_type": "markdown",
   "metadata": {},
   "source": [
    "- ジェネレータ関数自体はただの関数なので、｢ジェネレータ｣として使うことはできない\n",
    "- ジェネレータとして使うには、ジェネレータ関数からジェネレータオブジェクトを生成する必要がある\n",
    "- ジェネレータは、ジェネレータ関数で定義された要素情報やカウンタ情報を保持している"
   ]
  },
  {
   "cell_type": "code",
   "execution_count": 7,
   "metadata": {},
   "outputs": [
    {
     "name": "stdout",
     "output_type": "stream",
     "text": [
      "<class 'generator'>\n",
      "['first', 'second', 'third']\n"
     ]
    }
   ],
   "source": [
    "# **** ジェネレータの生成 ****\n",
    "\n",
    "\n",
    "# ジェネレータ関数の定義\n",
    "def sample_generator():\n",
    "    yield 'first'\n",
    "    yield 'second'\n",
    "    yield 'third'\n",
    "\n",
    "\n",
    "# インスタンスの生成\n",
    "# --- ジェネレータオブジェクトの作成\n",
    "gen_func = sample_generator()\n",
    "\n",
    "\n",
    "# データ型の確認\n",
    "# --- ジェネレータ関数から精製したオブジェクトがジェネレータ\n",
    "print(type(gen_func))\n",
    "\n",
    "\n",
    "# 要素の確認\n",
    "# --- ジェネレータオブジェクトはカウンタの情報を記憶している\n",
    "print(list(gen_func))\n"
   ]
  },
  {
   "cell_type": "markdown",
   "metadata": {},
   "source": [
    "### ジェネレータが持つメソッド"
   ]
  },
  {
   "cell_type": "markdown",
   "metadata": {},
   "source": [
    "- ジェネレータは、`__iter__`や`__next__`といったメソッドを持つ\n",
    "- カウンターの更新は関数以外にメソッドでも行うことができる"
   ]
  },
  {
   "cell_type": "code",
   "execution_count": null,
   "metadata": {},
   "outputs": [],
   "source": [
    "# **** ジェネレータが持つメソッド ****\n",
    "\n",
    "\n",
    "# ジェネレータ関数の定義\n",
    "def sample_generator():\n",
    "    yield 'first'\n",
    "    yield 'second'\n",
    "    yield 'third'\n",
    "\n",
    "\n",
    "# インスタンスの生成\n",
    "# --- ジェネレータオブジェクトの作成\n",
    "gen_func = sample_generator()\n",
    "\n",
    "\n",
    "# ジェネレータが持つメソッドを確認\n",
    "# --- イテレーション系のメソッド\n",
    "print('__iter__' in dir(gen_func))\n",
    "print('__next__' in dir(gen_func))\n"
   ]
  },
  {
   "cell_type": "markdown",
   "metadata": {},
   "source": [
    "### 参考資料"
   ]
  },
  {
   "cell_type": "markdown",
   "metadata": {},
   "source": [
    "- [ジェネレータってなに？](https://python.ms/generator)"
   ]
  },
  {
   "cell_type": "markdown",
   "metadata": {
    "toc-hr-collapsed": false
   },
   "source": [
    "## 要素の取り出し"
   ]
  },
  {
   "cell_type": "markdown",
   "metadata": {},
   "source": [
    "### メソッドによる抽出"
   ]
  },
  {
   "cell_type": "markdown",
   "metadata": {},
   "source": [
    "- ジェネレータが持つ`__next__`メソッドを使うと要素を抽出することができる\n",
    "- 要素を全て取り出した後に、再度メソッドを実行すると｢StopIterationエラー｣になる"
   ]
  },
  {
   "cell_type": "code",
   "execution_count": null,
   "metadata": {},
   "outputs": [],
   "source": [
    "# **** メソッドによる抽出 ****\n",
    "\n",
    "\n",
    "# ジェネレータ関数の定義\n",
    "def sample_generator():\n",
    "    yield 'first'\n",
    "    yield 'second'\n",
    "    yield 'third'\n",
    "\n",
    "\n",
    "# インスタンスの生成\n",
    "# --- ジェネレータオブジェクトの作成\n",
    "gen_func = sample_generator()\n",
    "\n",
    "\n",
    "print(gen_func.__next__())\n",
    "print(gen_func.__next__())\n",
    "print(gen_func.__next__())\n"
   ]
  },
  {
   "cell_type": "markdown",
   "metadata": {},
   "source": [
    "### next関数による抽出"
   ]
  },
  {
   "cell_type": "markdown",
   "metadata": {},
   "source": [
    "- ジェネレータからは1個ずつ抽出する場合はnext関数を使う\n",
    "- 要素を全て取り出した後に、再度 next 関数を実行すると｢StopIterationエラー｣になる"
   ]
  },
  {
   "cell_type": "code",
   "execution_count": 19,
   "metadata": {},
   "outputs": [
    {
     "name": "stdout",
     "output_type": "stream",
     "text": [
      "first\n",
      "second\n",
      "third\n"
     ]
    }
   ],
   "source": [
    "# **** ジェネレータから要素を1個ずつ抽出 ****\n",
    "\n",
    "\n",
    "# ジェネレータ関数の定義\n",
    "def sample_generator():\n",
    "    yield 'first'\n",
    "    yield 'second'\n",
    "    yield 'third'\n",
    "\n",
    "\n",
    "# ジェネレータオブジェクトの生成\n",
    "# --- ジェネレータ関数で定義された要素情報やカウンタ情報を保持している\n",
    "gen_func = sample_generator()\n",
    "\n",
    "\n",
    "# next関数による抽\n",
    "# --- 要素数を超えて実行すると｢StopIterationエラー｣となる\n",
    "print(next(gen_func))\n",
    "print(next(gen_func))\n",
    "print(next(gen_func))\n"
   ]
  },
  {
   "cell_type": "markdown",
   "metadata": {},
   "source": [
    "### ループによる抽出"
   ]
  },
  {
   "cell_type": "markdown",
   "metadata": {},
   "source": [
    "- ジェネレータは他のイテラブルオブジェクトと同様にfor文により抽出することができる\n",
    "- ジェネレータ自体がカウンタを管理しているので、for文のカウンタにジェネレータを与えるとエラー回避につながる"
   ]
  },
  {
   "cell_type": "code",
   "execution_count": 2,
   "metadata": {},
   "outputs": [
    {
     "name": "stdout",
     "output_type": "stream",
     "text": [
      "first\n",
      "second\n",
      "third\n"
     ]
    }
   ],
   "source": [
    "# **** ジェネレータから要素をループで抽出 ****\n",
    "\n",
    "\n",
    "# ジェネレータ関数の定義\n",
    "def sample_generator():\n",
    "    yield 'first'\n",
    "    yield 'second'\n",
    "    yield 'third'\n",
    "\n",
    "\n",
    "# ジェネレータオブジェクトの生成\n",
    "# --- ジェネレータ関数で定義された要素情報やカウンタ情報を保持している\n",
    "gen_func = sample_generator()\n",
    "\n",
    "\n",
    "# ループ処理による抽出\n",
    "for item in gen_func:\n",
    "    print(item)\n",
    "    \n",
    "\n",
    "# テスト：再度ループ処理による抽出\n",
    "# --- エラーにならない\n",
    "# --- ジェネレータのカウントがゼロになっているのでループ自体されない\n",
    "for item in gen_func:\n",
    "    print(item)\n"
   ]
  },
  {
   "cell_type": "markdown",
   "metadata": {},
   "source": [
    "### カウンタ管理"
   ]
  },
  {
   "cell_type": "markdown",
   "metadata": {},
   "source": [
    "- ジェネレータはオブジェクトの中でカウンタを管理している\n",
    "- 以下の例では、ジェネレータがカウンタを管理していることが確認できる"
   ]
  },
  {
   "cell_type": "code",
   "execution_count": 4,
   "metadata": {},
   "outputs": [
    {
     "name": "stdout",
     "output_type": "stream",
     "text": [
      "first\n",
      "~~~~ ループ処理 ~~~~\n",
      "second\n",
      "third\n"
     ]
    }
   ],
   "source": [
    "# **** ジェネレータのカウンター管理 ****\n",
    "\n",
    "\n",
    "# ジェネレータ関数の定義\n",
    "def sample_generator():\n",
    "    yield 'first'\n",
    "    yield 'second'\n",
    "    yield 'third'\n",
    "\n",
    "\n",
    "# ジェネレータオブジェクトの生成\n",
    "# --- ジェネレータ関数で定義された要素情報やカウンタ情報を保持している\n",
    "gen_func = sample_generator()\n",
    "\n",
    "\n",
    "# 1つ目の要素を抽出\n",
    "print(next(gen_func))\n",
    "\n",
    "\n",
    "print(\"~~~~ ループ処理 ~~~~\")\n",
    "\n",
    "# 残りの要素を抽出\n",
    "# --- カウンタが管理されているので、2つめから要素が抽出される\n",
    "for item in gen_func:\n",
    "    print(item)\n"
   ]
  },
  {
   "cell_type": "markdown",
   "metadata": {},
   "source": [
    "### ループが終わると空になる"
   ]
  },
  {
   "cell_type": "markdown",
   "metadata": {},
   "source": [
    "- ジェネレータはイテレータを1回だけ生成する\n",
    "- イテレータはカウンタを管理しているので、1回目のループ終わると空になる\n",
    "- ループを複数回呼び出すための3つの対応策を併せて示す"
   ]
  },
  {
   "cell_type": "code",
   "execution_count": 13,
   "metadata": {},
   "outputs": [
    {
     "name": "stdout",
     "output_type": "stream",
     "text": [
      "0 0\n",
      "1 1\n",
      "2 3\n",
      "3 6\n",
      "4 10\n"
     ]
    }
   ],
   "source": [
    "# **** ループが終わると空になる ****\n",
    "\n",
    "# ジェネレータ関数\n",
    "def accumulate_generator(iterable):\n",
    "    current = 0\n",
    "    for element in iterable:\n",
    "        current += element\n",
    "        yield current\n",
    "\n",
    "\n",
    "# オブジェクト生成\n",
    "gen = accumulate_generator(range(5))\n",
    "\n",
    "\n",
    "# 出力：1回目\n",
    "# --- 出力される\n",
    "for i, e in enumerate(gen): \n",
    "    print(i, e)\n",
    "\n",
    "\n",
    "# 出力：2回目\n",
    "# --- 出力されない\n",
    "for i, e in enumerate(gen): \n",
    "    print(i, e)\n"
   ]
  },
  {
   "cell_type": "code",
   "execution_count": 16,
   "metadata": {},
   "outputs": [
    {
     "name": "stdout",
     "output_type": "stream",
     "text": [
      "0 0\n",
      "1 1\n",
      "2 3\n",
      "3 6\n",
      "4 10\n",
      "0 0\n",
      "1 1\n",
      "2 3\n",
      "3 6\n",
      "4 10\n"
     ]
    }
   ],
   "source": [
    "# **** 対処法１：ジェネレータを再度生成 ****\n",
    "\n",
    "# accumulate_generator()の定義は省略\n",
    "\n",
    "# 出力：1回目\n",
    "gen = accumulate_generator(range(5))\n",
    "for i, e in enumerate(gen): \n",
    "    print(i, e)\n",
    "\n",
    "# 出力：2回目\n",
    "gen = accumulate_generator(range(5))\n",
    "for i, e in enumerate(gen): \n",
    "    print(i, e)\n",
    "        "
   ]
  },
  {
   "cell_type": "code",
   "execution_count": 17,
   "metadata": {},
   "outputs": [
    {
     "name": "stdout",
     "output_type": "stream",
     "text": [
      "0 0\n",
      "1 1\n",
      "2 3\n",
      "3 6\n",
      "4 10\n",
      "0 0\n",
      "1 1\n",
      "2 3\n",
      "3 6\n",
      "4 10\n"
     ]
    }
   ],
   "source": [
    "# **** 対処法２：ジェネレータをリストに変換 ****\n",
    "\n",
    "# accumulate_generator()の定義は省略\n",
    "\n",
    "\n",
    "# ジェネレータをリストに変換\n",
    "gen = accumulate_generator(range(5))\n",
    "lst = list(gen)\n",
    "\n",
    "# 出力：1回目\n",
    "for i, e in enumerate(lst): \n",
    "    print(i, e)\n",
    "\n",
    "# 出力：2回目\n",
    "for i, e in enumerate(lst): \n",
    "    print(i, e)\n",
    "        "
   ]
  },
  {
   "cell_type": "code",
   "execution_count": 19,
   "metadata": {},
   "outputs": [
    {
     "name": "stdout",
     "output_type": "stream",
     "text": [
      "0 0\n",
      "1 1\n",
      "2 3\n",
      "3 6\n",
      "4 10\n",
      "0 0\n",
      "1 1\n",
      "2 3\n",
      "3 6\n",
      "4 10\n"
     ]
    }
   ],
   "source": [
    "# **** 対処法３：コンテナクラスを作る ****\n",
    "\n",
    "# accumulate_generator()の定義は省略\n",
    "\n",
    "\n",
    "# コンテナクラスの定義\n",
    "class AccumulateGenerator:\n",
    "    def __init__(self, iterable):\n",
    "        self._iterable = iterable\n",
    "\n",
    "    def __iter__(self):\n",
    "        return accumulate_generator(self._iterable)\n",
    "\n",
    "\n",
    "gen = AccumulateGenerator(range(5))\n",
    "\n",
    "\n",
    "# 出力：1回目\n",
    "# --- 出力される\n",
    "for i, e in enumerate(gen):\n",
    "    print(i, e)\n",
    "\n",
    "\n",
    "# 出力：2回目\n",
    "# --- 出力されない\n",
    "for i, e in enumerate(gen):\n",
    "    print(i, e)\n",
    "    "
   ]
  },
  {
   "cell_type": "markdown",
   "metadata": {},
   "source": [
    "## 遅延評価"
   ]
  },
  {
   "cell_type": "markdown",
   "metadata": {},
   "source": [
    "### 概要"
   ]
  },
  {
   "cell_type": "markdown",
   "metadata": {},
   "source": [
    "- ｢遅延評価｣とは、必要になるまで処理を実行しないことをいう\n",
    "- メリット　： メモリ消費が抑えられる（ジェネレータイテレータは必要となるまで生成されない）\n",
    "- デメリット： ループの途中から処理を開始することはできない"
   ]
  },
  {
   "cell_type": "markdown",
   "metadata": {},
   "source": [
    "### メモリ消費の抑制"
   ]
  },
  {
   "cell_type": "markdown",
   "metadata": {},
   "source": [
    "- ｢リスト｣は、すべての要素を生成してしまうので大量のメモリを消費する\n",
    "- ｢ジェネレータ｣は、必要な要素のみを順に生成するのでメモリ消費が抑制される"
   ]
  },
  {
   "cell_type": "code",
   "execution_count": 4,
   "metadata": {},
   "outputs": [
    {
     "name": "stdout",
     "output_type": "stream",
     "text": [
      "list = 824464\n",
      "generator = 120\n"
     ]
    }
   ],
   "source": [
    "# **** メモリ消費量の比較 ****\n",
    "\n",
    "# ＜前提＞\n",
    "# 累和を求める関数をもとにメモリ消費量を比較\n",
    "\n",
    "import sys\n",
    "\n",
    "\n",
    "# 関数定義\n",
    "# --- リストを返す関数で実装\n",
    "def accumulate_list(iterable):\n",
    "    current = 0\n",
    "    lst = []\n",
    "    for element in iterable:\n",
    "        current += element \n",
    "        lst.append(current)\n",
    "    return lst\n",
    "\n",
    "\n",
    "# 関数定義\n",
    "# --- ジェネレータ関数で実装\n",
    "def accumulate_generator(iterable):\n",
    "    current = 0\n",
    "    for element in iterable:\n",
    "        current += element \n",
    "        yield current\n",
    "\n",
    "\n",
    "# リスト\n",
    "print(\"list =\", sys.getsizeof(accumulate_list(range(10**5))))\n",
    "\n",
    "# ジェネレータ\n",
    "print(\"generator =\", sys.getsizeof(accumulate_generator(range(10**5))))\n"
   ]
  },
  {
   "cell_type": "markdown",
   "metadata": {},
   "source": [
    "### ループへの割り込み"
   ]
  },
  {
   "cell_type": "markdown",
   "metadata": {},
   "source": [
    "- 遅延評価では必要になるまでオブジェクトが生成されないので、ループの途中に割り込むことは当然できない\n",
    "- next()か__next__で順番に取り出すことしかできない"
   ]
  },
  {
   "cell_type": "code",
   "execution_count": 7,
   "metadata": {},
   "outputs": [
    {
     "name": "stdout",
     "output_type": "stream",
     "text": [
      "TypeErrorがでました\n"
     ]
    }
   ],
   "source": [
    "# ジェネレータ関数定義\n",
    "def accumulate_generator(iterable):\n",
    "    current = 0\n",
    "    for element in iterable:\n",
    "        current += element \n",
    "        yield current\n",
    "\n",
    "\n",
    "# インスタンスの生成\n",
    "# --- ジェネレータオブジェクトの作成\n",
    "gen = accumulate_generator(range(10))\n",
    "\n",
    "\n",
    "# TypeError\n",
    "# --- ループの途中に割り込むことはできない\n",
    "# --- ジェネレータには｢__getitem__｣が定義されていないので[]演算子は使えない\n",
    "try:\n",
    "    gen[5] \n",
    "except:\n",
    "    print(\"TypeErrorがでました\")\n"
   ]
  },
  {
   "cell_type": "markdown",
   "metadata": {
    "toc-hr-collapsed": true
   },
   "source": [
    "## ジェネレータの応用"
   ]
  },
  {
   "cell_type": "markdown",
   "metadata": {},
   "source": [
    "### 値を送る(send)"
   ]
  },
  {
   "cell_type": "markdown",
   "metadata": {},
   "source": [
    "- ジェネレータから値を取り出すだけでなく、sendメソッドで値を送ることもできる\n",
    "- これにより、ジェネレータの振舞いを柔軟にコントロールすることができる"
   ]
  },
  {
   "cell_type": "code",
   "execution_count": 12,
   "metadata": {},
   "outputs": [
    {
     "name": "stdout",
     "output_type": "stream",
     "text": [
      "0\n",
      "1\n",
      "2\n",
      "11\n",
      "12\n",
      "13\n"
     ]
    }
   ],
   "source": [
    "def gen_receive():\n",
    "    n = 0\n",
    "    while True:\n",
    "        # nを受け取らなければNoneが返される\n",
    "        received = yield n\n",
    "        if received:\n",
    "            n = received\n",
    "        else:\n",
    "            n = n + 1\n",
    "\n",
    "\n",
    "# インスタンスの生成\n",
    "gen = gen_receive()\n",
    "\n",
    "# 実行\n",
    "# --- 3回\n",
    "print(next(gen))\n",
    "print(next(gen))\n",
    "print(next(gen))\n",
    "\n",
    "\n",
    "# ジェネレータにカウンタを送る\n",
    "# --- sendメソッド\n",
    "# --- n = 10\n",
    "gen.send(10)\n",
    "\n",
    "# 実行\n",
    "# --- 3回\n",
    "# --- 10から始まる\n",
    "print(next(gen))\n",
    "print(next(gen))\n",
    "print(next(gen))\n"
   ]
  },
  {
   "cell_type": "markdown",
   "metadata": {},
   "source": [
    "### 正常終了させる(close)"
   ]
  },
  {
   "cell_type": "markdown",
   "metadata": {},
   "source": [
    "- closeメソッドを実行するとジェネレータを正常終了させることができる\n",
    "- 終了後にジェネレータを更新するとエラーとなる"
   ]
  },
  {
   "cell_type": "code",
   "execution_count": 9,
   "metadata": {},
   "outputs": [
    {
     "name": "stdout",
     "output_type": "stream",
     "text": [
      "ジェネレータは終了しているので更新できません！\n"
     ]
    }
   ],
   "source": [
    "# **** ジェネレータを正常終了させる ****\n",
    "\n",
    "\n",
    "# ジェネレータ関数の定義\n",
    "# --- カウンタを出力\n",
    "def generator(max): \n",
    "    n = 0 \n",
    "    while n < max:\n",
    "        yield n \n",
    "        n += 1 \n",
    "\n",
    "# ジェネレータオブジェクトの生成\n",
    "gen = generator(10) \n",
    "\n",
    "\n",
    "# ジェネレータを更新\n",
    "gen.__next__()\n",
    "gen.__next__()\n",
    " \n",
    "\n",
    "# ジェネレータを終了\n",
    "gen.close()\n",
    "\n",
    "\n",
    "# ジェネレータを更新\n",
    "# --- すでに終了しているのでエラーとなる\n",
    "try:\n",
    "    gen.__next__()\n",
    "except StopIteration :\n",
    "    print('ジェネレータは終了しているので更新できません！')\n",
    " "
   ]
  },
  {
   "cell_type": "markdown",
   "metadata": {},
   "source": [
    "### エラー終了させる(throw)"
   ]
  },
  {
   "cell_type": "markdown",
   "metadata": {},
   "source": [
    "- throwメソッドでエラーを投げると、エラーを発生させたうえで終了することができる\n",
    "- エラー処理の一環として使用する"
   ]
  },
  {
   "cell_type": "code",
   "execution_count": 1,
   "metadata": {},
   "outputs": [
    {
     "name": "stdout",
     "output_type": "stream",
     "text": [
      "0\n",
      "1\n",
      "2\n",
      "ValueErrorを創出してジェネレータを終了します\n"
     ]
    }
   ],
   "source": [
    "\n",
    "# ジェネレータ関数の定義\n",
    "# --- カウンタを出力\n",
    "def generator(max):\n",
    "    n = 0\n",
    "    while n < max:\n",
    "        yield n\n",
    "        n += 1\n",
    "\n",
    "\n",
    "# ジェネレータオブジェクトの生成\n",
    "gen = generator(3)\n",
    "\n",
    "\n",
    "# ジェネレータを更新\n",
    "# --- すでに終了しているのでエラーとなる\n",
    "for v in gen:\n",
    "    print(v)\n",
    "    if v >= 2:\n",
    "        # エラーを出さないためコメントアウト\n",
    "        # gen.throw(ValueError(\"Invalid Value\"))\n",
    "        print(\"ValueErrorを創出してジェネレータを終了します\")\n",
    "        "
   ]
  },
  {
   "cell_type": "markdown",
   "metadata": {},
   "source": [
    "### サブジェネレータの利用"
   ]
  },
  {
   "cell_type": "markdown",
   "metadata": {},
   "source": [
    "- メインジェネレータ関数は｢yield from｣でサブジェネレータ関数を呼び出す\n",
    "- ジェネレータを細かく定義して、あとで統合することができる"
   ]
  },
  {
   "cell_type": "code",
   "execution_count": 17,
   "metadata": {},
   "outputs": [
    {
     "name": "stdout",
     "output_type": "stream",
     "text": [
      "1-1\n",
      "1-2\n",
      "2-1\n",
      "2-2\n"
     ]
    }
   ],
   "source": [
    "# **** サブジェネレータでジェネレータを分割して定義する ****\n",
    "\n",
    "# 関数定義\n",
    "# --- サブジェネレータ関数\n",
    "def generator1():\n",
    "    yield '1-1'\n",
    "    yield '1-2'\n",
    "\n",
    "\n",
    "# 関数定義\n",
    "# --- サブジェネレータ関数\n",
    "def generator2():\n",
    "    yield '2-1'\n",
    "    yield '2-2'\n",
    "\n",
    "\n",
    "# 関数定義\n",
    "# --- メインのジェネレータ関数\n",
    "def generator(g1, g2):\n",
    "    yield from g1\n",
    "    yield from g2\n",
    "\n",
    "\n",
    "# サブジェネレータオブジェクトの生成\n",
    "gen1 = generator1()\n",
    "gen2 = generator2()\n",
    "gen_sub = generator(gen1, gen2)\n",
    "\n",
    "\n",
    "# 要素の抽出\n",
    "for x in gen_sub:\n",
    "    print(x)\n"
   ]
  },
  {
   "cell_type": "markdown",
   "metadata": {
    "toc-hr-collapsed": true
   },
   "source": [
    "## 活用事例"
   ]
  },
  {
   "cell_type": "markdown",
   "metadata": {},
   "source": [
    "### 数値列を作る"
   ]
  },
  {
   "cell_type": "markdown",
   "metadata": {},
   "source": [
    "- これまでの事例ではジェネレータ関数で要素を列挙していた\n",
    "- この例は、ジェネレータ関数がループを持っている（事前にリストは定義されない）\n",
    "- ジェネレータ関数から生成したジェネレータをループで回す以外の使い方を学ぶ"
   ]
  },
  {
   "cell_type": "code",
   "execution_count": 10,
   "metadata": {},
   "outputs": [
    {
     "name": "stdout",
     "output_type": "stream",
     "text": [
      "(1, 0)\n",
      "(0, 0)\n",
      "(1, 2)\n",
      "(0, 0)\n",
      "(1, 0)\n",
      "(0, 2)\n",
      "(1, 0)\n",
      "(0, 0)\n",
      "(1, 2)\n"
     ]
    }
   ],
   "source": [
    "# **** 数列を作る ****\n",
    "\n",
    "\n",
    "# ジェネレータ関数の定義\n",
    "# --- 数列の値を生成する\n",
    "# --- 無限ループ\n",
    "def num_generator():\n",
    "    n = 0\n",
    "    while True:\n",
    "        # 数列定義\n",
    "        result = n * n + 2 * n + 3\n",
    "        # 値出力\n",
    "        yield result\n",
    "        # カウンタ更新\n",
    "        n += 1\n",
    "\n",
    "\n",
    "# 関数定義\n",
    "# --- 数値演算\n",
    "def calc(x):\n",
    "    return x % 2, x % 3\n",
    "\n",
    "\n",
    "# ジェネレータオブジェクトの生成\n",
    "# --- 無限ループのジェネレータ関数から1つずつ要素を抽出することができる\n",
    "gen = num_generator()\n",
    "\n",
    "\n",
    "# ジェネレータから要素を抽出\n",
    "# --- for文はrange()で作成したイテラブルでループ\n",
    "for i in range(1, 10):\n",
    "    # ジェネレータを更新\n",
    "    # --- ジェネレータ関数から数値を受け取る\n",
    "    num = next(gen)\n",
    "    # 出力\n",
    "    print(calc(num))\n"
   ]
  },
  {
   "cell_type": "markdown",
   "metadata": {},
   "source": [
    "### FizzBuzzゲームを作る"
   ]
  },
  {
   "cell_type": "markdown",
   "metadata": {},
   "source": [
    "- ｢数列を作る｣と同じ形式の使い方\n",
    "- ジェネレータ関数にif文を入れることで、ジェネレータの更新結果に多様性を持たせることができる"
   ]
  },
  {
   "cell_type": "code",
   "execution_count": 11,
   "metadata": {},
   "outputs": [
    {
     "name": "stdout",
     "output_type": "stream",
     "text": [
      "1\n",
      "2\n",
      "Fizz\n",
      "4\n",
      "Buzz\n",
      "Fizz\n",
      "7\n",
      "8\n",
      "Fizz\n",
      "Buzz\n",
      "11\n",
      "Fizz\n",
      "13\n",
      "14\n",
      "FizzBuzz\n",
      "16\n",
      "17\n",
      "Fizz\n",
      "19\n",
      "Buzz\n"
     ]
    }
   ],
   "source": [
    "# **** FizzBuzzゲームを作る ****\n",
    "\n",
    "\n",
    "# ジェネレータ関数の定義\n",
    "# --- カウンタ数値に対する答えを出力する\n",
    "# --- 無限ループ\n",
    "def fizzbuzz():\n",
    "    n = 1\n",
    "    while True:  # 無限ループ\n",
    "        if n % 15 == 0:  # 15の倍数の場合\n",
    "            yield \"FizzBuzz\"\n",
    "        elif n % 3 == 0:  # 3の倍数の場合\n",
    "            yield \"Fizz\"\n",
    "        elif n % 5 == 0:  # 5の倍数の場合\n",
    "            yield \"Buzz\"\n",
    "        else:  # それ以外\n",
    "            yield str(n)\n",
    "        n += 1\n",
    "\n",
    "\n",
    "# ジェネレータオブジェクトの生成\n",
    "# --- 無限ループのジェネレータ関数から1つずつ要素を抽出することができる\n",
    "game = fizzbuzz()\n",
    "\n",
    "\n",
    "# ジェネレータから要素を抽出\n",
    "for i in range(0, 20):\n",
    "    print(next(game))\n"
   ]
  },
  {
   "cell_type": "markdown",
   "metadata": {
    "toc-hr-collapsed": true
   },
   "source": [
    "# 7 クロージャ"
   ]
  },
  {
   "cell_type": "markdown",
   "metadata": {
    "toc-hr-collapsed": true
   },
   "source": [
    "## はじめに"
   ]
  },
  {
   "cell_type": "markdown",
   "metadata": {},
   "source": [
    "### 関数内関数とは"
   ]
  },
  {
   "cell_type": "markdown",
   "metadata": {},
   "source": [
    "- ｢関数内関数｣とは、以下の２つの性質を持つ関数のことをいう\n",
    "    - 外側関数(outer)の中に内側関数(inner)を持つ\n",
    "    - 外側関数は戻り値として内側関数を実行した結果を返す\n",
    "- クロージャーとの違いは、外側関数の戻り値が｢結果｣であり｢関数ではない｣こと\n",
    "    - 戻り値が｢関数｣ならクロージャーとなる"
   ]
  },
  {
   "cell_type": "code",
   "execution_count": 30,
   "metadata": {},
   "outputs": [
    {
     "name": "stdout",
     "output_type": "stream",
     "text": [
      "15\n"
     ]
    }
   ],
   "source": [
    "# **** 関数内関数とは ****\n",
    "\n",
    "# 関数定義\n",
    "# --- 外側関数が受けた引数を内側関数に与えて実行\n",
    "# --- 内側関数は｢b=a｣として実行される\n",
    "def outer(a):\n",
    "    def inner(b):\n",
    "        print(b * 5)\n",
    "        return\n",
    "    return inner(a)\n",
    "\n",
    "\n",
    "# 外側関数の実行\n",
    "outer(3)\n"
   ]
  },
  {
   "cell_type": "markdown",
   "metadata": {},
   "source": [
    "### クロージャとは"
   ]
  },
  {
   "cell_type": "markdown",
   "metadata": {},
   "source": [
    "- ｢クロージャ｣とは、特定条件を満たした内側関数のことをいう（｢関数内関数｣に対応する用語ではない）\n",
    "    - 特定条件については次章で確認\n",
    "    - ここでは、関数内関数とのコード例の相違点を確認\n",
    "- 関数内関数とクロージャのコードの相違点は以下のとおり\n",
    "    1. 外側関数は内側関数のオブジェクトを戻り値とする（結果を返すのではない）\n",
    "    2. 内側関数は外側関数の引数を受け取らない（環境を記憶するため受け取る必要がない）\n",
    "    3. 外側関数を実行しても内側関数は実行されない（クロージャが新しい関数としてが定義される）"
   ]
  },
  {
   "cell_type": "code",
   "execution_count": 32,
   "metadata": {},
   "outputs": [
    {
     "name": "stdout",
     "output_type": "stream",
     "text": [
      "<function outer.<locals>.inner at 0x0000025E9DF18F28>\n",
      "15\n"
     ]
    }
   ],
   "source": [
    "# **** 関数内関数とは ****\n",
    "\n",
    "# 関数定義\n",
    "# \n",
    "def outer(a):\n",
    "    def inner():\n",
    "        print(a * 5)\n",
    "        return\n",
    "    return inner\n",
    "\n",
    "\n",
    "# 外側関数の実行\n",
    "# --- クロージャ(内側関数)のメモリアドレスを返す\n",
    "# --- 内側関数は実行されていない\n",
    "# --- 引数はどうなった？\n",
    "closure = outer(3)\n",
    "print(closure)\n",
    "\n",
    "# クロージャの実行\n",
    "# --- クロージャは自分の環境を記憶している\n",
    "# --- 内側関数の環境とはouter関数のローカルスコープ\n",
    "# --- 内側関数の環境には引数(a)の情報も含まれる\n",
    "closure()\n"
   ]
  },
  {
   "cell_type": "markdown",
   "metadata": {},
   "source": [
    "### 使いどころ"
   ]
  },
  {
   "cell_type": "markdown",
   "metadata": {},
   "source": [
    "1. 外側関数の環境を記憶させることで、関数の初期値設定を行うことができる\n",
    "    - ｢関数内関数｣と｢クロージャ｣は共通して、外側関数から内側関数を実行する仕組み（振舞いのコントロール）\n",
    "    - ｢クロージャ｣は、外側関数の環境を記憶させることができる（初期値設定が可能）\n",
    "2. 通常の関数の初期値と異なり、初期値を動的にコントロールすることができる"
   ]
  },
  {
   "cell_type": "code",
   "execution_count": 35,
   "metadata": {},
   "outputs": [
    {
     "name": "stdout",
     "output_type": "stream",
     "text": [
      "28.274328\n",
      "28.26\n",
      "78.5398\n",
      "78.5\n"
     ]
    }
   ],
   "source": [
    "# **** クロージャの使いどころ ****\n",
    "\n",
    "\n",
    "# 関数定義\n",
    "def pi(a):\n",
    "    def calc(radius):\n",
    "        print(radius * radius * a)\n",
    "        return\n",
    "    return calc\n",
    "\n",
    "\n",
    "# クロージャで新しい関数を定義\n",
    "# --- 初期値を記憶させた新しい関数を定義\n",
    "# --- 初期値を動的に設定できる\n",
    "a = pi(3.141592)\n",
    "b = pi(3.14)\n",
    "\n",
    "# 実行\n",
    "# \n",
    "a(3)\n",
    "b(3)\n",
    "a(5)\n",
    "b(5)\n"
   ]
  },
  {
   "cell_type": "markdown",
   "metadata": {},
   "source": [
    "### 参考資料"
   ]
  },
  {
   "cell_type": "markdown",
   "metadata": {},
   "source": [
    "- [関数内関数](https://codor.co.jp/python/nested-function)\n",
    "- [クロージャ](https://codor.co.jp/python/closure)"
   ]
  },
  {
   "cell_type": "markdown",
   "metadata": {
    "toc-hr-collapsed": true
   },
   "source": [
    "## クロージャの構成要素"
   ]
  },
  {
   "cell_type": "markdown",
   "metadata": {},
   "source": [
    "### はじめに"
   ]
  },
  {
   "cell_type": "markdown",
   "metadata": {},
   "source": [
    "- ｢クロージャー｣という特殊構文がPythonに存在するわけではない\n",
    "- クロージャーは｢状態を記憶した関数｣のことを指し、以下を満たす言語ではクロージャーが形成される\n",
    "    - 関数内関数が定義できる\n",
    "    - 外側の関数が内側の関数を戻り値で返すことができる（第一級オブジェクト）\n",
    "    - 変数を定義した箇所から外側に広がるスコープを持つことができる（静的スコープ）"
   ]
  },
  {
   "cell_type": "markdown",
   "metadata": {
    "toc-hr-collapsed": true
   },
   "source": [
    "### クロージャの再確認"
   ]
  },
  {
   "cell_type": "markdown",
   "metadata": {},
   "source": [
    "- 関数内関数の｢外側の関数｣のことを｢エンクロージャ｣という\n",
    "- ｢クロージャ｣とは、エンクロージャの｢状態｣や｢環境(変数)｣を記憶した｢内側の関数｣のことをいう"
   ]
  },
  {
   "cell_type": "code",
   "execution_count": 5,
   "metadata": {},
   "outputs": [
    {
     "name": "stdout",
     "output_type": "stream",
     "text": [
      "7\n"
     ]
    }
   ],
   "source": [
    "# **** クロージャとは ****\n",
    "\n",
    "# ＜解説＞\n",
    "# ・ func()は関数内でadd()を定義し、戻り値でadd()を指定している(関数内関数)\n",
    "# ・ add()は外側で定義された変数(x)を関数内で使用している（静的スコープ）\n",
    "# ・ add()がクロージャを形成したことで add()はスコープ外の変数(x)を参照できる（自由変数）\n",
    "\n",
    "\n",
    "# エンクロージャ\n",
    "# --- 内側の関数自身を戻り値とする\n",
    "# --- func()を実行してもadd()の振舞いをする\n",
    "def func():\n",
    "    x = 3\n",
    "    \n",
    "    # クロージャ\n",
    "    # --- xは自由変数\n",
    "    def add(y):\n",
    "        return y + x\n",
    "\n",
    "    return add\n",
    "\n",
    "# クロージャを関数化(第一級オブジェクト)\n",
    "f = func()\n",
    "\n",
    "# 実行 \n",
    "result = f(4)\n",
    "print(result)\n"
   ]
  },
  {
   "cell_type": "markdown",
   "metadata": {},
   "source": [
    "### 第一級オブジェクト"
   ]
  },
  {
   "cell_type": "markdown",
   "metadata": {},
   "source": [
    "- ｢第一級オブジェクト｣とは、変数に代入することができるオブジェクトのことをいう\n",
    "- Pythonでは｢関数｣や｢クラス｣は第一級オブジェクトとして扱うことができる\n",
    "- これにより、関数内関数で、｢外側の関数｣の戻り値に｢内側の関数自身｣を受けることができる"
   ]
  },
  {
   "cell_type": "code",
   "execution_count": 8,
   "metadata": {},
   "outputs": [
    {
     "name": "stdout",
     "output_type": "stream",
     "text": [
      "bar = <class 'function'>\n",
      "foo\n"
     ]
    }
   ],
   "source": [
    "# **** 関数の場合 ****\n",
    "\n",
    "\n",
    "# 関数定義\n",
    "def foo():\n",
    "    print(\"foo\")\n",
    "\n",
    "\n",
    "# 関数を変数に代入\n",
    "# --- 変数は関数になる\n",
    "bar = foo\n",
    "\n",
    "# データ型の確認\n",
    "print(\"bar =\", type(bar))\n",
    "\n",
    "# 関数実行\n",
    "bar()\n"
   ]
  },
  {
   "cell_type": "code",
   "execution_count": 3,
   "metadata": {},
   "outputs": [
    {
     "name": "stdout",
     "output_type": "stream",
     "text": [
      "Huga = <class 'type'>\n",
      "hoge\n"
     ]
    }
   ],
   "source": [
    "#  **** クラスの場合 ****\n",
    "\n",
    "\n",
    "# クラス定義\n",
    "class Hoge:\n",
    "    def hoge(self):\n",
    "        print(\"hoge\")\n",
    "\n",
    "\n",
    "# クラスを変数に代入\n",
    "# --- 変数はクラスになる\n",
    "Huga = Hoge\n",
    "\n",
    "# データ型の確認\n",
    "print(\"Huga =\", type(Huga))\n",
    "\n",
    "# インスタンス生成\n",
    "huga = Huga()\n",
    "\n",
    "# メソッド実行\n",
    "huga.hoge()\n"
   ]
  },
  {
   "cell_type": "markdown",
   "metadata": {},
   "source": [
    "### 自由変数と束縛変数"
   ]
  },
  {
   "cell_type": "markdown",
   "metadata": {},
   "source": [
    "- ｢自由変数｣とは、ある関数内で｢ローカル変数｣｢自身の引数｣の２つ以外で使われている変数のことをいう\n",
    "- ｢束縛変数｣とは、代入文で変数と値を定義している変数のことをいう\n",
    "- ローカルスコープで定義していない変数を参照したとき、その変数は｢自由変数｣と呼ばれる"
   ]
  },
  {
   "cell_type": "code",
   "execution_count": 5,
   "metadata": {},
   "outputs": [
    {
     "data": {
      "text/plain": [
       "0"
      ]
     },
     "execution_count": 5,
     "metadata": {},
     "output_type": "execute_result"
    }
   ],
   "source": [
    "# **** 自由変数と束縛変数 ****\n",
    "\n",
    "# 変数定義\n",
    "# --- 代入文で変数と値を定義している変数（束縛変数）\n",
    "x = 0\n",
    "\n",
    "\n",
    "# 関数定義\n",
    "# --- xは｢ローカル変数｣｢自身の引数｣のどちらでもない（自由変数）\n",
    "def f():\n",
    "    return x\n",
    "\n",
    "\n",
    "# 関数実行\n",
    "f()\n"
   ]
  },
  {
   "cell_type": "markdown",
   "metadata": {},
   "source": [
    "### 静的スコープ"
   ]
  },
  {
   "cell_type": "markdown",
   "metadata": {},
   "source": [
    "- 大前提として、Pythonは静的スコープ(レキシカルスコープ)の言語である\n",
    "- ｢静的スコープ｣とは、変数を｢定義｣した箇所(環境)から外側に広がるスコープをいう\n",
    "- ｢動的スコープ｣とは、変数を｢参照｣した箇所(環境)から外側に広がるスコープをいう\n",
    "- Pythonでは変数定義時の環境が重要となる"
   ]
  },
  {
   "cell_type": "markdown",
   "metadata": {},
   "source": [
    "- 関数のスコープは、関数の｢実行時の環境｣ではなく、｢定義時の環境｣で参照可能な変数が決定される\n",
    "- ｢func1｣が定義された時点で、func1 が参照可能なscope変数は｢global｣だった\n",
    "- ｢func2｣の内部で実行されている｢func1｣だが、｢func1｣の環境は｢func2｣を実行する以前に定義されていた"
   ]
  },
  {
   "cell_type": "code",
   "execution_count": 6,
   "metadata": {},
   "outputs": [
    {
     "name": "stdout",
     "output_type": "stream",
     "text": [
      "global\n",
      "global\n"
     ]
    }
   ],
   "source": [
    "# **** 問題１：静的スコープにおける参照 ****\n",
    "\n",
    "# 変数定義\n",
    "# --- scopeはグローバル環境の束縛変数：\n",
    "scope = 'global'\n",
    "\n",
    "# 関数定義１\n",
    "# --- scopeは自由変数\n",
    "# --- 関数定義時の外側のスコープ(グローバルスコープ)を参照\n",
    "def func1():\n",
    "    print(scope)\n",
    "\n",
    "# 関数定義２\n",
    "# --- scopeはローカル環境の束縛変数\n",
    "def func2():\n",
    "    scope = 'local'\n",
    "    func1()\n",
    "\n",
    "# 問題：以下の2つの結果は？\n",
    "# --- func2の結果が｢local｣ではないというのがポイント\n",
    "func1()\n",
    "func2()\n"
   ]
  },
  {
   "cell_type": "markdown",
   "metadata": {},
   "source": [
    "- ローカルスコープに束縛変数があれば、それを参照する\n",
    "- ローカルスコープに束縛変数がなければ、自由変数として外側のスコープを参照する\n",
    "- 自由変数はローカルスコープを順に上がっていって参照先を見つける"
   ]
  },
  {
   "cell_type": "code",
   "execution_count": 16,
   "metadata": {},
   "outputs": [
    {
     "name": "stdout",
     "output_type": "stream",
     "text": [
      "--- 準備 ---\n",
      "inside of func1: local1\n",
      "inside of func1_1: local1_1\n",
      "\n",
      "--- Case1 ---\n",
      "global\n",
      "\n",
      "--- Case2 ---\n",
      "inside of func1: local1\n",
      "\n",
      "--- Case3 ---\n",
      "inside of func1_1: local1_1\n",
      "\n",
      "--- Case4 ---\n",
      "inside of func1_2: local1_1\n"
     ]
    }
   ],
   "source": [
    "# **** 問題２：クロージャにおける参照 ****\n",
    "\n",
    "# 変数定義\n",
    "scope = 'global'\n",
    "\n",
    "\n",
    "# 関数定義\n",
    "# --- 3重構造\n",
    "def func1():\n",
    "    scope = 'local1'\n",
    "    print(\"inside of func1: \" + scope)\n",
    "\n",
    "    def func1_1():\n",
    "        scope = 'local1_1'\n",
    "        print(\"inside of func1_1: \" + scope)\n",
    "\n",
    "        def func1_2():\n",
    "            print(\"inside of func1_2: \" + scope)\n",
    "        return func1_2\n",
    "    return func1_1\n",
    "\n",
    "\n",
    "# クロージャを関数化\n",
    "# --- func1()の関数内で戻り値はfunc1_1\n",
    "# --- func1_1()の関数内で戻り値はfunc1_2\n",
    "print('--- 準備 ---')\n",
    "func1_1 = func1() \n",
    "func1_2 = func1_1()\n",
    "\n",
    "\n",
    "# 問題：以下の2つの結果は？\n",
    "# --- func1_2()がlocal1_1を返すのがポイント\n",
    "print('\\n--- Case1 ---')\n",
    "print(scope)\n",
    "print('\\n--- Case2 ---')\n",
    "func1()\n",
    "print('\\n--- Case3 ---')\n",
    "func1_1()\n",
    "print('\\n--- Case4 ---')\n",
    "func1_2()"
   ]
  },
  {
   "cell_type": "markdown",
   "metadata": {},
   "source": [
    "### 参考資料"
   ]
  },
  {
   "cell_type": "markdown",
   "metadata": {},
   "source": [
    "- [クロージャ(関数閉方)とは](https://qiita.com/naomi7325/items/57d141f2e56d644bdf5f)"
   ]
  },
  {
   "cell_type": "markdown",
   "metadata": {},
   "source": [
    "## nonlocal文"
   ]
  },
  {
   "cell_type": "markdown",
   "metadata": {},
   "source": [
    "### 自由変数は参照のみ"
   ]
  },
  {
   "cell_type": "markdown",
   "metadata": {},
   "source": [
    "- 自由変数は｢参照｣はできるものの｢更新｣はできない（アウタースコープのため）\n",
    "- 自由変数を更新しようとローカルスコープに再定義しても、自由変数を更新することはできない"
   ]
  },
  {
   "cell_type": "code",
   "execution_count": 28,
   "metadata": {},
   "outputs": [
    {
     "name": "stdout",
     "output_type": "stream",
     "text": [
      "{}\n",
      "local : x = 0\n",
      "global: x = 0\n"
     ]
    }
   ],
   "source": [
    "# **** 自由変数は外側のスコープを参照できる ****\n",
    "\n",
    "# 変数定義\n",
    "x = 0\n",
    "\n",
    "\n",
    "# 関数定義\n",
    "# --- xは自由変数\n",
    "# --- ローカルスコープで変数(x)は定義されていない\n",
    "def f():\n",
    "    print(locals())\n",
    "    return x\n",
    "\n",
    "\n",
    "# 関数実行\n",
    "print('local : x =', f())\n",
    "print('global: x =', x)\n"
   ]
  },
  {
   "cell_type": "code",
   "execution_count": 34,
   "metadata": {},
   "outputs": [
    {
     "name": "stdout",
     "output_type": "stream",
     "text": [
      "{'x': 1}\n",
      "local : x = 1\n",
      "global: x = 0\n"
     ]
    }
   ],
   "source": [
    "# **** 自由変数は更新することはできない ****\n",
    "\n",
    "# 変数定義\n",
    "x = 0\n",
    "\n",
    "\n",
    "# 関数定義\n",
    "# --- ローカルスコープで束縛変数(x)を定義\n",
    "# --- xは自由変数ではない！\n",
    "def f():\n",
    "    x = 1\n",
    "    print(locals())\n",
    "    return x\n",
    "\n",
    "\n",
    "# 関数実行\n",
    "# --- globalの変数(x)は更新されていない\n",
    "# --- 自由変数は更新することができない\n",
    "print('local : x =', f())\n",
    "print('global: x =', x)\n"
   ]
  },
  {
   "cell_type": "markdown",
   "metadata": {},
   "source": [
    "### 自由変数を更新する"
   ]
  },
  {
   "cell_type": "markdown",
   "metadata": {},
   "source": [
    "- 自由変数を参照しているスコープで、nonlocal文で自由変数を指定すると更新可能となる\n",
    "- これにより、クロージャの持つ｢記憶｣を｢更新｣していくことが可能となる（初期値を動的に変更）"
   ]
  },
  {
   "cell_type": "code",
   "execution_count": 36,
   "metadata": {},
   "outputs": [
    {
     "name": "stdout",
     "output_type": "stream",
     "text": [
      "{'x': 1}\n",
      "local : x = 1\n",
      "global: x = 1\n",
      "outer() : <function outer.<locals>.inner at 0x0000012E4D4CEA60>\n"
     ]
    }
   ],
   "source": [
    "# **** 自由変数は更新することはできない ****\n",
    "\n",
    "# ＜前提＞\n",
    "# ・nonlocalはローカルスコープの自由変数を更新する\n",
    "# ・前項は束縛変数をグローバルスコープで定義したが、ここではローカルスコープに定義\n",
    "\n",
    "def outer():\n",
    "    # 変数定義\n",
    "    x = 0\n",
    "\n",
    "    # 関数定義\n",
    "    # --- ローカルスコープにnonlocal文を追加\n",
    "    # --- inner()から自由変数(x)を更新\n",
    "    def inner():\n",
    "        nonlocal x\n",
    "        x = 1\n",
    "        print(locals())\n",
    "        return x\n",
    "    \n",
    "    print('local : x =', inner())\n",
    "    print('global: x =', x)\n",
    "    return inner\n",
    "\n",
    "\n",
    "# 関数実行\n",
    "# --- 上記のprint文が表示\n",
    "# --- resultにはクロージャが入る\n",
    "result = outer()\n",
    "print(\"outer() :\", result)\n"
   ]
  },
  {
   "cell_type": "markdown",
   "metadata": {},
   "source": [
    "## カウンターを作成"
   ]
  },
  {
   "cell_type": "markdown",
   "metadata": {},
   "source": [
    "### はじめに"
   ]
  },
  {
   "cell_type": "markdown",
   "metadata": {},
   "source": [
    "- カウンターの実装には｢状態｣を記憶させる仕組みが必要となる\n",
    "- 通常は｢クラス｣｢ジェネレータ｣などで実装するが、nonlocal文を使うとクロージャでも実装できる\n",
    "- ただし、nonlocal文はPythonの本来の動作を歪めた操作なので多用すべきではない"
   ]
  },
  {
   "cell_type": "markdown",
   "metadata": {},
   "source": [
    "### クラスで記述"
   ]
  },
  {
   "cell_type": "markdown",
   "metadata": {},
   "source": [
    "- 通常は｢状態｣を記憶させる方法として｢クラス｣がある"
   ]
  },
  {
   "cell_type": "code",
   "execution_count": 39,
   "metadata": {},
   "outputs": [
    {
     "name": "stdout",
     "output_type": "stream",
     "text": [
      "1\n",
      "2\n",
      "3\n",
      "4\n",
      "5\n"
     ]
    }
   ],
   "source": [
    "# **** クラスでカウンターを定義 ****\n",
    "\n",
    "# クラス定義\n",
    "class Counter:\n",
    "    def __init__(self):\n",
    "        self._times = 0\n",
    "    \n",
    "    def count(self):\n",
    "        self._times += 1\n",
    "        return self._times\n",
    "\n",
    "    \n",
    "# インスタンス作成\n",
    "counter = Counter()\n",
    "\n",
    "# カウンタ更新\n",
    "print(counter.count())\n",
    "print(counter.count())\n",
    "print(counter.count())\n",
    "print(counter.count())\n",
    "print(counter.count())\n"
   ]
  },
  {
   "cell_type": "markdown",
   "metadata": {},
   "source": [
    "### クロージャで記述"
   ]
  },
  {
   "cell_type": "markdown",
   "metadata": {},
   "source": [
    "- クロージャにnonlocal文を使うと自由変数を更新することができる（状態を記憶させることができる）"
   ]
  },
  {
   "cell_type": "code",
   "execution_count": 40,
   "metadata": {},
   "outputs": [
    {
     "name": "stdout",
     "output_type": "stream",
     "text": [
      "1\n",
      "2\n",
      "3\n",
      "4\n",
      "5\n"
     ]
    }
   ],
   "source": [
    "# **** クロージャでカウンターを定義 ****\n",
    "\n",
    "\n",
    "# 関数定義\n",
    "def create_counter():\n",
    "    c = 0\n",
    "    def count():\n",
    "        nonlocal c  # １つ外側の変数 c を束縛する。\n",
    "        c = c + 1\n",
    "        return c\n",
    "    return count\n",
    "\n",
    "\n",
    "# クロージャの関数化\n",
    "count = create_counter()\n",
    "\n",
    "# カウンタ更新\n",
    "print(count())\n",
    "print(count())\n",
    "print(count())\n",
    "print(count())\n",
    "print(count())\n"
   ]
  },
  {
   "cell_type": "code",
   "execution_count": null,
   "metadata": {},
   "outputs": [],
   "source": []
  },
  {
   "cell_type": "markdown",
   "metadata": {},
   "source": [
    "## partialによる代替"
   ]
  },
  {
   "cell_type": "markdown",
   "metadata": {},
   "source": [
    "- クロージャーの目的を｢親関数の引数を子関数に渡した新たな関数オブジェクトを作成すること｣と考える\n",
    "- partial()は高階関数の仕組み(※)を使ってクロージャーを代替している\n",
    "- ※｢引数に関数を渡す｣+｢当該関数の引数も併せて渡す｣"
   ]
  },
  {
   "cell_type": "code",
   "execution_count": 18,
   "metadata": {},
   "outputs": [
    {
     "name": "stdout",
     "output_type": "stream",
     "text": [
      "start\n",
      "30\n",
      "end\n"
     ]
    }
   ],
   "source": [
    "# **** partialによるクロージャーの代替 ****\n",
    "\n",
    "# メイン処理\n",
    "def task(f):\n",
    "    print('start')\n",
    "    x = f()\n",
    "    print(x)\n",
    "    print('end')\n",
    "\n",
    "# サブ処理\n",
    "# --- クロージャーを組むことで引数を渡した関数オブジェクトを再定義\n",
    "def outer(x, y):\n",
    "    def inner():\n",
    "        return x + y\n",
    "    return inner\n",
    "\n",
    "\n",
    "# サブ処理の親関数の実行\n",
    "# --- 新しい関数オブジェクト(子関数)を定義\n",
    "f = outer(x = 10, y = 20)\n",
    "\n",
    "# タスクの実行\n",
    "task(f)"
   ]
  },
  {
   "cell_type": "markdown",
   "metadata": {
    "toc-hr-collapsed": false
   },
   "source": [
    "# 8 デコレータ"
   ]
  },
  {
   "cell_type": "markdown",
   "metadata": {},
   "source": [
    "## はじめに"
   ]
  },
  {
   "cell_type": "markdown",
   "metadata": {},
   "source": [
    "### デコレータとは"
   ]
  },
  {
   "cell_type": "markdown",
   "metadata": {},
   "source": [
    "- ｢デコレータ｣は、｢関数への機能追加｣｢関数に前後処理を追加｣などに利用される\n",
    "    - 元の関数を書き換える必要はないため、関数を柔軟に拡張できる\n",
    "- Python標準機能としてのデコレータ(@classmethodなど)もあり、こちらは規則的にデコレータをつけていく\n",
    "- ｢@deco｣のように目立つ記法なので、処理が明示的になる"
   ]
  },
  {
   "cell_type": "markdown",
   "metadata": {},
   "source": [
    "### 使いどころ"
   ]
  },
  {
   "cell_type": "markdown",
   "metadata": {},
   "source": [
    "- 機能追加：スーパークラスの関数に機能追加\n",
    "- 前後処理：プログラムの時間計測　ログイン/ログオフ　保護/保護解除　表示/非表示　など　\n",
    "- 繰り返し：プログラム内で特定処理の前などに必ず行う処理"
   ]
  },
  {
   "cell_type": "markdown",
   "metadata": {},
   "source": [
    "### 参考資料"
   ]
  },
  {
   "cell_type": "markdown",
   "metadata": {},
   "source": [
    "- [Python入門】デコレータの使い方をわかりやすく解説！](https://www.sejuku.net/blog/25130)"
   ]
  },
  {
   "cell_type": "markdown",
   "metadata": {},
   "source": [
    "## デコレータの基礎"
   ]
  },
  {
   "cell_type": "markdown",
   "metadata": {},
   "source": [
    "### デコレータの記法"
   ]
  },
  {
   "cell_type": "markdown",
   "metadata": {},
   "source": [
    "- ｢デコレータ｣は、メイン関数をデコレート関数でラップする処理を行っている\n",
    "    - 関数が引数に関数をとれることで可能となる（関数は第一級オブジェクト）\n",
    "    - @構文を使うことで関数のラッピングをシンプルに記述できる（@構文は糖衣構文）\n",
    "- デコレータなしのメイン関数へのアクセスはできなくなる"
   ]
  },
  {
   "cell_type": "code",
   "execution_count": 28,
   "metadata": {},
   "outputs": [
    {
     "name": "stdout",
     "output_type": "stream",
     "text": [
      "Hello!\n"
     ]
    }
   ],
   "source": [
    "# **** デコレータなしの記法 ****\n",
    "\n",
    "\n",
    "# 関数定義\n",
    "# --- デコレート関数\n",
    "def null_decorator(func):\n",
    "    return func\n",
    "\n",
    "\n",
    "# 関数定義\n",
    "# --- メイン関数\n",
    "def greet():\n",
    "    return print('Hello!')\n",
    "\n",
    "\n",
    "# 関数の再定義\n",
    "# --- メイン関数をデコレート関数でラップ\n",
    "# --- 関数はオブジェクト（関数を引数として持つことができる）\n",
    "greet = null_decorator(greet)\n",
    "\n",
    "# 関数実行\n",
    "greet()\n"
   ]
  },
  {
   "cell_type": "code",
   "execution_count": 37,
   "metadata": {},
   "outputs": [
    {
     "name": "stdout",
     "output_type": "stream",
     "text": [
      "Hello!\n"
     ]
    }
   ],
   "source": [
    "# **** デコレータを活用した記法 ****\n",
    "\n",
    "\n",
    "# 関数定義\n",
    "# --- デコレート関数\n",
    "def null_decorator(func):\n",
    "    return func\n",
    "\n",
    "\n",
    "# 関数定義\n",
    "# --- メイン関数\n",
    "@null_decorator\n",
    "def greet():\n",
    "    return print('Hello!')\n",
    "\n",
    "\n",
    "# 関数実行\n",
    "# --- ブレークポイントを設定\n",
    "greet()\n"
   ]
  },
  {
   "cell_type": "markdown",
   "metadata": {},
   "source": [
    "### デコレータの実行順序"
   ]
  },
  {
   "cell_type": "markdown",
   "metadata": {},
   "source": [
    "- デコレータが付加されたメイン関数は、関数定義時にデコレートされる\n",
    "- デコレータの実行順序は複雑なので、デバッガーで実行される順序を要確認"
   ]
  },
  {
   "cell_type": "code",
   "execution_count": 39,
   "metadata": {},
   "outputs": [
    {
     "name": "stdout",
     "output_type": "stream",
     "text": [
      "Hello!\n"
     ]
    }
   ],
   "source": [
    "# **** デコレータの実行順序 ****\n",
    "\n",
    "# デバッグ開始\n",
    "# --- ブレークポイントを設定\n",
    "a = 1\n",
    "\n",
    "\n",
    "# 関数定義\n",
    "# --- デコレート関数\n",
    "def null_decorator(func):\n",
    "    return func\n",
    "\n",
    "\n",
    "# 関数定義\n",
    "# --- メイン関数\n",
    "@null_decorator\n",
    "def greet():\n",
    "    return print('Hello!')\n",
    "\n",
    "\n",
    "# 関数実行\n",
    "# --- ブレークポイントを設定\n",
    "greet()\n"
   ]
  },
  {
   "cell_type": "markdown",
   "metadata": {},
   "source": [
    "### 複数のデコレータ適用"
   ]
  },
  {
   "cell_type": "markdown",
   "metadata": {},
   "source": [
    "- 関数には複数のデコレータを適用することができる\n",
    "- 複数のデコレータは下から順に適用される（デコレータスタック）\n",
    "- デコレータの実行順序は複雑なので、デバッガーで実行される順序を要確認"
   ]
  },
  {
   "cell_type": "code",
   "execution_count": 8,
   "metadata": {},
   "outputs": [
    {
     "name": "stdout",
     "output_type": "stream",
     "text": [
      "<strong><em>Hello!</em></strong>\n"
     ]
    }
   ],
   "source": [
    "# **** 複数のデコレータ適用 ****\n",
    "\n",
    "\n",
    "# デバッグ開始\n",
    "# --- ブレークポイントを設定\n",
    "a = 1\n",
    "\n",
    "\n",
    "# 関数定義1\n",
    "# --- デコレート関数１\n",
    "def strong(func):\n",
    "    def wrapper():\n",
    "        return '<strong>' + func() + '</strong>'\n",
    "    return wrapper\n",
    "\n",
    "\n",
    "# 関数定義2\n",
    "# --- デコレート関数２\n",
    "def emphasis(func):\n",
    "    def wrapper():\n",
    "        return '<em>' + func() + '</em>'\n",
    "    return wrapper\n",
    "\n",
    "\n",
    "# 関数定義3\n",
    "# --- メイン関数\n",
    "@strong\n",
    "@emphasis\n",
    "def greet():\n",
    "    return 'Hello!'\n",
    "\n",
    "\n",
    "# 関数実行\n",
    "# --- ブレークポイントを設定\n",
    "x1 = greet()\n",
    "print(x1)\n"
   ]
  },
  {
   "cell_type": "code",
   "execution_count": 9,
   "metadata": {},
   "outputs": [
    {
     "data": {
      "text/plain": [
       "'<strong><em>Hello!</em></strong>'"
      ]
     },
     "execution_count": 9,
     "metadata": {},
     "output_type": "execute_result"
    }
   ],
   "source": [
    "# **** 複数のデコレータ適用：デコレータなし ****\n",
    "\n",
    "\n",
    "# デバッグ開始\n",
    "# --- ブレークポイントを設定\n",
    "a = 1\n",
    "\n",
    "\n",
    "# 関数定義1\n",
    "# --- デコレート関数１\n",
    "def strong(func):\n",
    "    def wrapper():\n",
    "        return '<strong>' + func() + '</strong>'\n",
    "    return wrapper\n",
    "\n",
    "\n",
    "# 関数定義2\n",
    "# --- デコレート関数２\n",
    "def emphasis(func):\n",
    "    def wrapper():\n",
    "        return '<em>' + func() + '</em>'\n",
    "    return wrapper\n",
    "\n",
    "\n",
    "# 関数定義3\n",
    "# --- メイン関数\n",
    "def greet():\n",
    "    return 'Hello!'\n",
    "\n",
    "\n",
    "# 関数の再定義\n",
    "# --- ブレークポイントを設定\n",
    "decorated_greet = strong(emphasis(greet))\n",
    "decorated_greet()\n"
   ]
  },
  {
   "cell_type": "markdown",
   "metadata": {},
   "source": [
    "### 引数をとる関数のデコレート"
   ]
  },
  {
   "cell_type": "code",
   "execution_count": null,
   "metadata": {},
   "outputs": [],
   "source": []
  },
  {
   "cell_type": "code",
   "execution_count": 17,
   "metadata": {},
   "outputs": [],
   "source": [
    "# **** 引数を持つデコレート関数のイメージ ****\n",
    "\n",
    "# 関数定義\n",
    "# --- デコレート関数\n",
    "def proxy(func):\n",
    "    def wrapper(*args, **kwargs):\n",
    "        return func(*args, **kwargs)\n",
    "    return wrapper\n"
   ]
  },
  {
   "cell_type": "code",
   "execution_count": 16,
   "metadata": {},
   "outputs": [
    {
     "name": "stdout",
     "output_type": "stream",
     "text": [
      "TRACE: calling say() with ('Jane', 'Hello, World'), {}\n",
      "TRACE: say() returned 'Jane: Hello, World'\n",
      "Jane: Hello, World\n"
     ]
    }
   ],
   "source": [
    "# **** 引数をとる関数のデコレート ****\n",
    "\n",
    "\n",
    "# デバッグ開始\n",
    "# --- ブレークポイントを設定\n",
    "a = 1\n",
    "\n",
    "# 関数定義\n",
    "# --- デコレート関数\n",
    "def trace(func):\n",
    "    def wrapper(*args, **kwargs):\n",
    "        print(f'TRACE: calling {func.__name__}() '\n",
    "              f'with {args}, {kwargs}')\n",
    "        \n",
    "        original_result = func(*args, **kwargs)\n",
    "        \n",
    "        print(f'TRACE: {func.__name__}() '\n",
    "              f'returned {original_result!r}')\n",
    "        \n",
    "        return original_result\n",
    "    return  wrapper\n",
    "\n",
    "\n",
    "# 関数定義\n",
    "# --- メイン関数\n",
    "@trace\n",
    "def say(name, line):\n",
    "    return f'{name}: {line}'\n",
    "\n",
    "# 関数の再定義\n",
    "# --- ブレークポイントを設定\n",
    "x = say('Jane', 'Hello, World')\n",
    "print(x)\n"
   ]
  },
  {
   "cell_type": "code",
   "execution_count": null,
   "metadata": {},
   "outputs": [],
   "source": []
  },
  {
   "cell_type": "markdown",
   "metadata": {},
   "source": [
    "## デコレータの機能"
   ]
  },
  {
   "cell_type": "markdown",
   "metadata": {},
   "source": [
    "### 準備"
   ]
  },
  {
   "cell_type": "markdown",
   "metadata": {},
   "source": [
    "- デコレータは｢デコレータ関数｣と｢メイン関数｣で構成される\n",
    "- ｢デコレータ関数｣は、メイン関数を引数として受け取って、当該関数の振舞いを追加/変更する\n",
    "- ｢メイン関数｣は、｢@デコレータ関数名｣をつけてラップされることを明記する"
   ]
  },
  {
   "cell_type": "markdown",
   "metadata": {},
   "source": [
    "### 関数に機能を追加"
   ]
  },
  {
   "cell_type": "markdown",
   "metadata": {},
   "source": [
    "- デコレータを使うと、既存関数にデコレータ関数の機能を追加することができる\n",
    "- デコレータ関数で既存関数をデコレートする際に、デコレータ関数が実行される"
   ]
  },
  {
   "cell_type": "code",
   "execution_count": 32,
   "metadata": {},
   "outputs": [
    {
     "name": "stdout",
     "output_type": "stream",
     "text": [
      "Hello decorator!\n"
     ]
    },
    {
     "data": {
      "text/plain": [
       "0"
      ]
     },
     "execution_count": 32,
     "metadata": {},
     "output_type": "execute_result"
    }
   ],
   "source": [
    "# **** 文字を大文字に変換 ****\n",
    "\n",
    "\n",
    "# デバッグ開始\n",
    "# --- ブレークポイントを設定\n",
    "print(\"debug start\")\n",
    "\n",
    "\n",
    "# 関数定義\n",
    "# --- デコレート関数\n",
    "def uppercase(func):\n",
    "    def wrapper():\n",
    "        original_result = func()\n",
    "        modified_result = original_result.upper()\n",
    "        return modified_result\n",
    "\n",
    "    return wrapper\n",
    "\n",
    "\n",
    "# 関数定義\n",
    "# --- メイン関数\n",
    "@uppercase\n",
    "def greet():\n",
    "    return 'Hello!'\n",
    "\n",
    "\n",
    "# 関数実行\n",
    "# --- ブレークポイントを設定：greet()\n",
    "result = greet()\n",
    "print(result)"
   ]
  },
  {
   "cell_type": "markdown",
   "metadata": {},
   "source": [
    "### 関数の機能を差し替え"
   ]
  },
  {
   "cell_type": "markdown",
   "metadata": {},
   "source": [
    "- デコレータ関数内に関数を定義することで、メイン関数はデコレータ関数の関数内関数に差替えることができる\n",
    "- デコレータ関数内の関数の書き方次第で、｢差替え｣だけでなく｢追加｣も可能となる"
   ]
  },
  {
   "cell_type": "code",
   "execution_count": 43,
   "metadata": {},
   "outputs": [
    {
     "data": {
      "text/plain": [
       "'I am the decorator!'"
      ]
     },
     "execution_count": 43,
     "metadata": {},
     "output_type": "execute_result"
    }
   ],
   "source": [
    "# **** 関数の機能を差替える ****\n",
    "\n",
    "# 関数定義\n",
    "# --- デコレータ関数\n",
    "# --- 関数内関数はメッセージを戻り値とする\n",
    "def sample_decorator(myfunc):\n",
    "    def inner_func(text):\n",
    "        return \"I am the decorator!\"\n",
    "    return inner_func\n",
    " \n",
    "\n",
    "# 関数定義\n",
    "# --- メイン関数（デコレータ付き）\n",
    "# --- 入力値を戻り値とする\n",
    "# --- myfuncの機能はデコレータ関数内のinner_funcに置き換わっている\n",
    "@sample_decorator\n",
    "def myfunc(text):\n",
    "    return text\n",
    " \n",
    "\n",
    "# 関数実行\n",
    "# --- \"Hello myfunc\"ではなく\"I am the decorator\"が表示される\n",
    "myfunc(\"Hello myfunc\")\n"
   ]
  },
  {
   "cell_type": "code",
   "execution_count": 44,
   "metadata": {},
   "outputs": [
    {
     "name": "stdout",
     "output_type": "stream",
     "text": [
      "I am the decorator!\n",
      "Hello myfunc\n"
     ]
    }
   ],
   "source": [
    "# **** 関数の機能を差替えない：追加のみ ****\n",
    "\n",
    "# 関数定義\n",
    "# --- デコレータ関数\n",
    "# --- 関数内関数はメッセージを表示してmyfuncの入力値をそのまま返す\n",
    "def sample_decorator(myfunc):\n",
    "    def inner_func(*args):\n",
    "        print(\"I am the decorator!\")\n",
    "        myfunc(*args)\n",
    "    return inner_func\n",
    " \n",
    "\n",
    "# 関数定義\n",
    "# --- メイン関数（デコレータ付き）\n",
    "# --- 入力値を表示する\n",
    "# --- myfuncの機能はデコレータ関数内のinner_funcに置き換わっている\n",
    "@sample_decorator\n",
    "def myfunc(text):\n",
    "    print(text)\n",
    "\n",
    "    \n",
    "# 関数実行\n",
    "# --- \"Hello myfunc\"ではなく\"I am the decorator\"が表示される\n",
    "myfunc(\"Hello myfunc\")\n"
   ]
  },
  {
   "cell_type": "markdown",
   "metadata": {},
   "source": [
    "## デコレータの応用"
   ]
  },
  {
   "cell_type": "markdown",
   "metadata": {},
   "source": [
    "### 関数のメタデータの維持"
   ]
  },
  {
   "cell_type": "markdown",
   "metadata": {},
   "source": [
    "- 通常のデコレータでは、メイン処理の関数のメタデータ(関数名など)がデコレータ関数の内部関数に置き換わる\n",
    "- メタデータに変更を加えたくないときには、｢functools.wraps｣を使う\n",
    "- [参考資料：Pythonのデコレータにはwrapsをつけるべきという覚え書き](https://qiita.com/moonwalkerpoday/items/9bd987667a860adf80a2)"
   ]
  },
  {
   "cell_type": "code",
   "execution_count": 48,
   "metadata": {},
   "outputs": [
    {
     "name": "stdout",
     "output_type": "stream",
     "text": [
      "I am the decorator!\n",
      "inner_func\n",
      "Docstring Deco\n"
     ]
    }
   ],
   "source": [
    "# **** 通常のデコレータ：メタデータが置き換わる ****\n",
    "\n",
    "# 関数定義\n",
    "# --- デコレータ関数\n",
    "def sample_decorator(myfunc):\n",
    "    def inner_func():\n",
    "        \"\"\"Docstring Deco\"\"\"\n",
    "        return \"I am the decorator!\"\n",
    "    return inner_func\n",
    " \n",
    "\n",
    "# メイン処理\n",
    "# --- デコレータ関数\n",
    "@sample_decorator\n",
    "def myfunc(text):\n",
    "    \"\"\"Docstring Main\"\"\"\n",
    "    return text\n",
    "\n",
    "\n",
    "# メイン処理の実行\n",
    "print(myfunc())\n",
    "\n",
    "\n",
    "# メタデータの確認\n",
    "print(myfunc.__name__)\n",
    "print(myfunc.__doc__)\n"
   ]
  },
  {
   "cell_type": "code",
   "execution_count": 51,
   "metadata": {},
   "outputs": [
    {
     "name": "stdout",
     "output_type": "stream",
     "text": [
      "I am the decorator!\n",
      "myfunc\n",
      "Docstring Main\n"
     ]
    }
   ],
   "source": [
    "# **** @warpをしたデコレータ：メタデータが置き換わらない ****\n",
    "\n",
    "from functools import wraps\n",
    "\n",
    "\n",
    "# 関数定義\n",
    "# --- デコレータ関数\n",
    "def sample_decorator(myfunc):\n",
    "    @wraps(myfunc)\n",
    "    def inner_func():\n",
    "        \"\"\"Docstring Deco\"\"\"\n",
    "        return \"I am the decorator!\"\n",
    "    return inner_func\n",
    "\n",
    "\n",
    "# メイン処理\n",
    "# --- デコレータでラップ\n",
    "@sample_decorator\n",
    "def myfunc(text):\n",
    "    \"\"\"Docstring Main\"\"\"\n",
    "    return text\n",
    "\n",
    "\n",
    "# メイン処理の実行\n",
    "print(myfunc())\n",
    "\n",
    "\n",
    "# メタデータの確認\n",
    "print(myfunc.__name__)\n",
    "print(myfunc.__doc__)\n"
   ]
  },
  {
   "cell_type": "markdown",
   "metadata": {},
   "source": [
    "### 複数のデコレータを使う"
   ]
  },
  {
   "cell_type": "markdown",
   "metadata": {},
   "source": [
    "- デコレータは複数適用することができる（上に指定したものから実行）"
   ]
  },
  {
   "cell_type": "code",
   "execution_count": 31,
   "metadata": {},
   "outputs": [
    {
     "name": "stdout",
     "output_type": "stream",
     "text": [
      "Hello B!\n",
      "Hello A!\n",
      "Hello, decorator\n",
      "Bye A!\n",
      "Bye B!\n"
     ]
    }
   ],
   "source": [
    "# **** 複数のデコレータを使う ****\n",
    "\n",
    "# 関数定義１\n",
    "# --- ラップ用\n",
    "def A(myfunc):\n",
    "    def inner_func():\n",
    "        print(\"Hello A!\")\n",
    "        myfunc()\n",
    "        print(\"Bye A!\")\n",
    "    return inner_func\n",
    " \n",
    "\n",
    "# 関数定義２\n",
    "# --- ラップ用\n",
    "def B(myfunc):\n",
    "    def inner_func():\n",
    "        print(\"Hello B!\")\n",
    "        myfunc()\n",
    "        print(\"Bye B!\")\n",
    "    return inner_func\n",
    "\n",
    "\n",
    "# メイン処理\n",
    "# --- デコレータでラップ\n",
    "@B\n",
    "@A\n",
    "def myfunc():\n",
    "    print(\"Hello, decorator\")\n",
    "\n",
    "\n",
    "# 面処理の実行\n",
    "myfunc()\n"
   ]
  },
  {
   "cell_type": "markdown",
   "metadata": {},
   "source": [
    "## クラス/静的メソッド"
   ]
  },
  {
   "cell_type": "markdown",
   "metadata": {},
   "source": [
    "### クラスメソッド"
   ]
  },
  {
   "cell_type": "markdown",
   "metadata": {},
   "source": [
    "- ｢クラスメソッド｣とは、クラスのインスタンスを作成しなくても使用できるメソッドのことをいう\n",
    "- 通常のメソッドと以下の点が異なる。\n",
    "    1. メソッド定義に｢self｣では必要なく｢cls｣を使う\n",
    "    2. 代わりにデコレータ(@classmethod)をつける"
   ]
  },
  {
   "cell_type": "code",
   "execution_count": 4,
   "metadata": {},
   "outputs": [
    {
     "name": "stdout",
     "output_type": "stream",
     "text": [
      "Hello class method\n"
     ]
    }
   ],
   "source": [
    "# **** クラスメソッドの実装 ****\n",
    "\n",
    "# クラス定義\n",
    "# --- メソッドを｢クラスメソッド｣として定義する\n",
    "# --- クラスメソッドにはselfが必要ない\n",
    "class MyClass():\n",
    "    @classmethod\n",
    "    def myfunc(cls):\n",
    "        print(\"Hello class method\")\n",
    "\n",
    "        \n",
    "# クラスメソッドの使用\n",
    "# --- インスタンスを定義せずに使える\n",
    "MyClass.myfunc()\n"
   ]
  },
  {
   "cell_type": "markdown",
   "metadata": {},
   "source": [
    "### 静的メソッド"
   ]
  },
  {
   "cell_type": "markdown",
   "metadata": {},
   "source": [
    "- ｢静的メソッド｣も同様に、クラスのインスタンスを作成しなくても使用できるメソッドのことをいう\n",
    "- 通常のメソッドと以下の点が異なる。\n",
    "    1. メソッド定義に｢self｣では必要ない（クラスメソッドは｢cls｣をつけた）\n",
    "    2. 代わりにデコレータ(@staticmethod)をつける"
   ]
  },
  {
   "cell_type": "code",
   "execution_count": 7,
   "metadata": {},
   "outputs": [
    {
     "name": "stdout",
     "output_type": "stream",
     "text": [
      "Hello static method\n"
     ]
    }
   ],
   "source": [
    "# **** 静的メソッドの実装 ****\n",
    "\n",
    "# クラス定義\n",
    "# --- メソッドを｢静的メソッド｣として定義する\n",
    "# --- 静的メソッドにはselfが必要ない\n",
    "# --- クラスメソッドはseeifの代わりにclsを記述\n",
    "class MyClass():\n",
    "    @staticmethod\n",
    "    def myfunc():\n",
    "        print(\"Hello static method\")\n",
    "\n",
    "        \n",
    "# クラスメソッドの使用\n",
    "# --- インスタンスを定義せずに使える\n",
    "# --- この時点ではクラスメソッドと同様の振舞いをする\n",
    "MyClass.myfunc()\n"
   ]
  },
  {
   "cell_type": "markdown",
   "metadata": {},
   "source": [
    "### ２つの違い"
   ]
  },
  {
   "cell_type": "markdown",
   "metadata": {},
   "source": [
    "- ｢クラスメソッド｣と｢静的メソッド｣の違いは、親クラスを承継した｢サブクラス｣で現れてくる。\n",
    "- 静的メソッドは｢self｣の代わりとなる引数を持たない（クラス変数に直接アクセスする必要がある）\n",
    "- 静的メソッドはクラスからの独立性が強い（クラス内に登録した関数というイメージ）\n",
    "- 逆に、メソッドにselfを書かなくてもよい場合は｢静的メソッド｣と明記したほうが分かりやすい"
   ]
  },
  {
   "cell_type": "code",
   "execution_count": 16,
   "metadata": {},
   "outputs": [
    {
     "name": "stdout",
     "output_type": "stream",
     "text": [
      "classmethod: Hello Parent Class\n",
      "staticmethod: Hello Parent Class\n",
      "classmethod: Hello Child Class\n",
      "staticmethod: Hello Parent Class\n"
     ]
    }
   ],
   "source": [
    "# **** 準備：親クラスでの｢クラスメソッド｣と｢静的メソッド｣の違い ****\n",
    "\n",
    "\n",
    "# 親クラス定義\n",
    "# --- 両方ともメソッドでselfを使わずにデコレータをつける\n",
    "# --- クラスメソッドは｢self｣の代わりに｢cls｣を使う\n",
    "# --- 静的メソッドはクラス変数(test_str)を指定して参照（ポイント）\n",
    "class ParentClass():\n",
    "    test_str = \"Hello Parent Class\"\n",
    "    \n",
    "    @classmethod\n",
    "    def myclassmethod(cls):\n",
    "        print(\"classmethod: \" + cls.test_str)\n",
    " \n",
    "    @staticmethod\n",
    "    def mystaticmethod():\n",
    "        print(\"staticmethod: \" + ParentClass.test_str)\n",
    "\n",
    "\n",
    "# サブクラス定義\n",
    "class ChildClass(ParentClass):\n",
    "    test_str = \"Hello Child Class\"\n",
    "\n",
    "\n",
    "# メソッドの実行（親クラスから）\n",
    "# --- 同じ振舞い\n",
    "ParentClass.myclassmethod()\n",
    "ParentClass.mystaticmethod()\n",
    "\n",
    "\n",
    "# メソッドの実行（サブクラスから）\n",
    "# --- 振舞いが異なる（静的メソッドは｢Hello Child Class｣を返さない）\n",
    "# --- 静的メソッドが親クラス内でtest_strを直接参照しているため\n",
    "ChildClass.myclassmethod()\n",
    "ChildClass.mystaticmethod()\n"
   ]
  },
  {
   "cell_type": "markdown",
   "metadata": {},
   "source": [
    "## プロパティの操作"
   ]
  },
  {
   "cell_type": "markdown",
   "metadata": {},
   "source": [
    "### 変数の非公開化"
   ]
  },
  {
   "cell_type": "markdown",
   "metadata": {},
   "source": [
    "- クラスにおいては、重要な変数が勝手に変更されないように変数を非公開化する\n",
    "- その流れの中で、変数操作をコントロールするため、プロパティ操作の仕組みをクラスに実装する\n",
    "- ここでは、プロパティ操作に使う｢@property｣デコレータに特化して使い方を確認する"
   ]
  },
  {
   "cell_type": "markdown",
   "metadata": {},
   "source": [
    "### デコレータなしの操作"
   ]
  },
  {
   "cell_type": "markdown",
   "metadata": {},
   "source": [
    "- プロパティの操作はメソッドを使えば行うことができる\n",
    "- ゲッター関数は｢get_｣、セッター関数は｢set_｣でメソッド名を定義するのが慣例となっている\n",
    "- プロパティ操作ごとにメソッドを記述するとメソッドの数が増えがちになる（デコレータで明示化したい）\n",
    "- プロパティ操作を行う際はメソッドを呼び出す必要がある（デコレータの場合はより直感的な操作が可能）\n",
    "      - しかし、実際はセッター関数を通さなくても変数変更はできてしまう（課題）"
   ]
  },
  {
   "cell_type": "code",
   "execution_count": 60,
   "metadata": {},
   "outputs": [
    {
     "name": "stdout",
     "output_type": "stream",
     "text": [
      "x = 100\n",
      "x = 200\n",
      "x = None\n",
      "x = 300\n"
     ]
    }
   ],
   "source": [
    "# **** プロパティ操作：デコレータなし ****\n",
    "\n",
    "# クラス定義\n",
    "# --- インスタンス変数(x)を操作するメソッドを個別に実装\n",
    "class NoProperty():\n",
    "    def __init__(self, x):\n",
    "        self._x = x\n",
    "    \n",
    "    # ゲッター関数\n",
    "    def get_x(self):\n",
    "        return self._x\n",
    "    \n",
    "    # セッター関数\n",
    "    def set_x(self, v):\n",
    "        self._x = v\n",
    "    \n",
    "    # 削除関数\n",
    "    def del_x(self):\n",
    "        self._x = None\n",
    "\n",
    "\n",
    "# 変数取得\n",
    "# --- はじめにインスタンス生成\n",
    "nopro = NoProperty(100)\n",
    "print(\"x =\", nopro.get_x())\n",
    "\n",
    "\n",
    "# 変数変更\n",
    "# --- メソッドを実行\n",
    "nopro.set_x(200)\n",
    "print(\"x =\", nopro.get_x())\n",
    "\n",
    "\n",
    "# 変数削除\n",
    "# --- メソッドを実行\n",
    "nopro.del_x()\n",
    "print(\"x =\", nopro.get_x())\n",
    "\n",
    "\n",
    "# (課題)変数変更\n",
    "# --- セッター関数があっても変更できてしまう（危険）\n",
    "nopro.x = 300\n",
    "print(\"x =\", nopro.x)\n"
   ]
  },
  {
   "cell_type": "markdown",
   "metadata": {},
   "source": [
    "### デコレータを使った操作"
   ]
  },
  {
   "cell_type": "markdown",
   "metadata": {},
   "source": [
    "- デコレータ関数内のラッパー関数にtest()が適用されて関数オブジェクトが生成される\n",
    "- クラス内では、それぞれのメソッドにデコレータをつける\n",
    "    - プロパティ取得するメソッドに｢@property｣をつける(ゲッター関数)\n",
    "    - プロパティ設定するメソッドに｢@プロパティ名.setter｣をつける(セッター関数)\n",
    "    - プロパティ削除するメソッドに｢@プロパティ名.deleter｣をつける(削除関数)"
   ]
  },
  {
   "cell_type": "code",
   "execution_count": 38,
   "metadata": {},
   "outputs": [
    {
     "name": "stdout",
     "output_type": "stream",
     "text": [
      "x = 100\n",
      "x = 200\n",
      "x = None\n"
     ]
    }
   ],
   "source": [
    "# **** プロパティ操作：デコレータあり ****\n",
    "\n",
    "# クラス定義\n",
    "# --- インスタンス変数(x)を操作するメソッドを個別に実装\n",
    "class MyProperty():\n",
    "    def __init__(self, x):\n",
    "        self._x = x\n",
    "\n",
    "    # ゲッター関数\n",
    "    @property\n",
    "    def x(self):\n",
    "        return self._x\n",
    "    \n",
    "    # セッター関数\n",
    "    @x.setter\n",
    "    def x(self, v):\n",
    "        self._x = v\n",
    "    \n",
    "    # 削除関数\n",
    "    @x.deleter\n",
    "    def x(self):\n",
    "        self._x = None\n",
    "\n",
    "\n",
    "# 変数設定\n",
    "# --- はじめにインスタンス生成\n",
    "mypro = MyProperty(100)\n",
    "print(\"x =\", mypro.x)\n",
    "\n",
    "\n",
    "# 変数変更\n",
    "# --- 変数を代入することで変数変更ができる（直感的！）\n",
    "# --- 変数代入なので前述の課題を吸収している\n",
    "mypro.x = 200\n",
    "print(\"x =\", mypro.x)\n",
    "\n",
    "\n",
    "# 変数削除\n",
    "# --- 変数にdel文を適用（直感的！）\n",
    "del mypro.x\n",
    "print(\"x =\", mypro.x)\n"
   ]
  },
  {
   "cell_type": "markdown",
   "metadata": {},
   "source": [
    "### 変数操作の制限"
   ]
  },
  {
   "cell_type": "markdown",
   "metadata": {},
   "source": [
    "- デコレータ(@property)を使うと、暗黙的な変数操作を制限することができる\n",
    "- 具体的には、@propertyで管理する変数に対してセッター関数を実装しなければ、暗黙的な変操作は制限される"
   ]
  },
  {
   "cell_type": "code",
   "execution_count": 61,
   "metadata": {},
   "outputs": [
    {
     "name": "stdout",
     "output_type": "stream",
     "text": [
      "x = 100\n",
      "x = 200\n"
     ]
    }
   ],
   "source": [
    "# **** 問題提起：変数変更が考慮されていない状態 ****\n",
    "\n",
    "# クラス定義\n",
    "# --- セッター関数を実装しない\n",
    "class NoProperty():\n",
    "    def __init__(self, x):\n",
    "        self._x = x\n",
    "    \n",
    "    # ゲッター関数\n",
    "    def get_x(self):\n",
    "        return self._x\n",
    "        \n",
    "        \n",
    "# 変数設定\n",
    "# --- はじめにインスタンス生成\n",
    "nopro = NoProperty(100)\n",
    "print(\"x =\", nopro.get_x())\n",
    "\n",
    "\n",
    "# 変数変更\n",
    "# --- セッター関数が定義されていなくても変数変更できてしまう\n",
    "# --- 仮にセッター関数が定義されていても同操作は可能\n",
    "# --- インスタンス変数が自由に変更できてしまう危険性\n",
    "nopro.x = 200\n",
    "print(\"x =\", nopro.x)\n"
   ]
  },
  {
   "cell_type": "code",
   "execution_count": 51,
   "metadata": {},
   "outputs": [
    {
     "name": "stdout",
     "output_type": "stream",
     "text": [
      "x = 100\n",
      "x = 200\n"
     ]
    }
   ],
   "source": [
    "# **** プロパティ操作：変数変更が可能 ****\n",
    "\n",
    "# クラス定義\n",
    "class MyProperty():\n",
    "    def __init__(self, x):\n",
    "        self._x = x\n",
    "    \n",
    "    # ゲッター関数\n",
    "    @property\n",
    "    def x(self):\n",
    "        return self._x\n",
    "    \n",
    "    # セッター関数\n",
    "    @x.setter\n",
    "    def x(self, v):\n",
    "        self._x = v\n",
    "    \n",
    "\n",
    "# 変数設定\n",
    "# --- はじめにインスタンス生成\n",
    "mypro = MyProperty(100)\n",
    "print(\"x =\", mypro.x)\n",
    "\n",
    "# 変数変更\n",
    "# --- セッター関数があるので変更可能\n",
    "mypro.x = 200\n",
    "print(\"x =\", mypro.x)\n"
   ]
  },
  {
   "cell_type": "code",
   "execution_count": 52,
   "metadata": {},
   "outputs": [
    {
     "name": "stdout",
     "output_type": "stream",
     "text": [
      "x = 100\n"
     ]
    }
   ],
   "source": [
    "# **** プロパティ操作：変数変更が制限 ****\n",
    "\n",
    "# クラス定義\n",
    "# --- セッター関数を実装しない（ゲッター関数のみ）\n",
    "class MyProperty():\n",
    "    def __init__(self, x):\n",
    "        self._x = x\n",
    "\n",
    "    # ゲッター関数\n",
    "    @property\n",
    "    def x(self):\n",
    "        return self._x\n",
    "    \n",
    "\n",
    "# 変数設定\n",
    "# --- はじめにインスタンス生成\n",
    "mypro = MyProperty(100)\n",
    "print(\"x =\", mypro.x)\n",
    "\n",
    "\n",
    "# 変数変更（エラー）\n",
    "# --- セッター関数がないので明示的に｢Attributeエラー｣が出る\n",
    "# mypro.x = -200\n"
   ]
  }
 ],
 "metadata": {
  "hide_input": false,
  "kernelspec": {
   "display_name": "Python 3",
   "language": "python",
   "name": "python3"
  },
  "language_info": {
   "codemirror_mode": {
    "name": "ipython",
    "version": 3
   },
   "file_extension": ".py",
   "mimetype": "text/x-python",
   "name": "python",
   "nbconvert_exporter": "python",
   "pygments_lexer": "ipython3",
   "version": "3.7.3"
  },
  "toc": {
   "base_numbering": 1,
   "nav_menu": {},
   "number_sections": false,
   "sideBar": true,
   "skip_h1_title": false,
   "title_cell": "Table of Contents",
   "title_sidebar": "Contents",
   "toc_cell": false,
   "toc_position": {},
   "toc_section_display": true,
   "toc_window_display": true
  },
  "toc-autonumbering": false,
  "toc-showmarkdowntxt": true,
  "toc-showtags": false,
  "varInspector": {
   "cols": {
    "lenName": 16,
    "lenType": 16,
    "lenVar": 40
   },
   "kernels_config": {
    "python": {
     "delete_cmd_postfix": "",
     "delete_cmd_prefix": "del ",
     "library": "var_list.py",
     "varRefreshCmd": "print(var_dic_list())"
    },
    "r": {
     "delete_cmd_postfix": ") ",
     "delete_cmd_prefix": "rm(",
     "library": "var_list.r",
     "varRefreshCmd": "cat(var_dic_list()) "
    }
   },
   "types_to_exclude": [
    "module",
    "function",
    "builtin_function_or_method",
    "instance",
    "_Feature"
   ],
   "window_display": false
  }
 },
 "nbformat": 4,
 "nbformat_minor": 2
}
